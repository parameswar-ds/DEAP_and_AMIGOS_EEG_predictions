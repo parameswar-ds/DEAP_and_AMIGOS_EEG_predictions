{
  "nbformat": 4,
  "nbformat_minor": 0,
  "metadata": {
    "colab": {
      "name": "amigos_egg_0.ipynb",
      "provenance": []
    },
    "kernelspec": {
      "name": "python3",
      "display_name": "Python 3"
    },
    "accelerator": "GPU"
  },
  "cells": [
    {
      "cell_type": "code",
      "metadata": {
        "id": "FE_vPPIqq1dy",
        "colab_type": "code",
        "colab": {
          "base_uri": "https://localhost:8080/",
          "height": 129
        },
        "outputId": "ca1b05e1-952a-4739-e2ef-66cd87ff1b91"
      },
      "source": [
        "from google.colab import drive\n",
        "drive.mount('/content/drive')"
      ],
      "execution_count": null,
      "outputs": [
        {
          "output_type": "stream",
          "text": [
            "Go to this URL in a browser: https://accounts.google.com/o/oauth2/auth?client_id=947318989803-6bn6qk8qdgf4n4g3pfee6491hc0brc4i.apps.googleusercontent.com&redirect_uri=urn%3aietf%3awg%3aoauth%3a2.0%3aoob&scope=email%20https%3a%2f%2fwww.googleapis.com%2fauth%2fdocs.test%20https%3a%2f%2fwww.googleapis.com%2fauth%2fdrive%20https%3a%2f%2fwww.googleapis.com%2fauth%2fdrive.photos.readonly%20https%3a%2f%2fwww.googleapis.com%2fauth%2fpeopleapi.readonly&response_type=code\n",
            "\n",
            "Enter your authorization code:\n",
            "··········\n",
            "Mounted at /content/drive\n"
          ],
          "name": "stdout"
        }
      ]
    },
    {
      "cell_type": "code",
      "metadata": {
        "id": "vhLzpWPrnh_E",
        "colab_type": "code",
        "colab": {}
      },
      "source": [
        "import pandas as pd"
      ],
      "execution_count": null,
      "outputs": []
    },
    {
      "cell_type": "code",
      "metadata": {
        "id": "oU8D8p5poBTr",
        "colab_type": "code",
        "colab": {}
      },
      "source": [
        "data1=pd.read_csv(\"/content/drive/My Drive/amigos_egg_final/data/data.csv\")\n"
      ],
      "execution_count": null,
      "outputs": []
    },
    {
      "cell_type": "code",
      "metadata": {
        "id": "d3hvI6nBoFz0",
        "colab_type": "code",
        "colab": {}
      },
      "source": [
        "data1=data1[0:50000]"
      ],
      "execution_count": null,
      "outputs": []
    },
    {
      "cell_type": "code",
      "metadata": {
        "id": "tsyi6VKFoLrm",
        "colab_type": "code",
        "colab": {
          "base_uri": "https://localhost:8080/",
          "height": 35
        },
        "outputId": "1a469cee-4e75-4d1b-c5c1-80df4ff88fff"
      },
      "source": [
        "data1.shape"
      ],
      "execution_count": null,
      "outputs": [
        {
          "output_type": "execute_result",
          "data": {
            "text/plain": [
              "(50000, 70)"
            ]
          },
          "metadata": {
            "tags": []
          },
          "execution_count": 5
        }
      ]
    },
    {
      "cell_type": "code",
      "metadata": {
        "id": "XLfkzZguoPek",
        "colab_type": "code",
        "colab": {
          "base_uri": "https://localhost:8080/",
          "height": 35
        },
        "outputId": "2ce34d89-1c1f-4c00-c515-724eb736a3b5"
      },
      "source": [
        "label1=pd.read_csv(\"/content/drive/My Drive/amigos_egg_final/data/label.csv\")\n",
        "label1.shape"
      ],
      "execution_count": null,
      "outputs": [
        {
          "output_type": "execute_result",
          "data": {
            "text/plain": [
              "(249740, 12)"
            ]
          },
          "metadata": {
            "tags": []
          },
          "execution_count": 6
        }
      ]
    },
    {
      "cell_type": "code",
      "metadata": {
        "id": "rhvkWnFRoVeR",
        "colab_type": "code",
        "colab": {}
      },
      "source": [
        "label1=label1[0:50000]"
      ],
      "execution_count": null,
      "outputs": []
    },
    {
      "cell_type": "code",
      "metadata": {
        "id": "-I7lyTyWoYCU",
        "colab_type": "code",
        "colab": {}
      },
      "source": [
        "x=data1.values"
      ],
      "execution_count": null,
      "outputs": []
    },
    {
      "cell_type": "code",
      "metadata": {
        "id": "BnjORo8pob_U",
        "colab_type": "code",
        "colab": {
          "base_uri": "https://localhost:8080/",
          "height": 35
        },
        "outputId": "7e4c7dc9-0733-45a9-e26f-9e824b149169"
      },
      "source": [
        "label1.shape"
      ],
      "execution_count": null,
      "outputs": [
        {
          "output_type": "execute_result",
          "data": {
            "text/plain": [
              "(50000, 12)"
            ]
          },
          "metadata": {
            "tags": []
          },
          "execution_count": 9
        }
      ]
    },
    {
      "cell_type": "code",
      "metadata": {
        "id": "do4LhXC7odut",
        "colab_type": "code",
        "colab": {
          "base_uri": "https://localhost:8080/",
          "height": 256
        },
        "outputId": "1e78aa9a-0f3a-47ad-8e76-5b8f925f3751"
      },
      "source": [
        "label1.isnull().sum()"
      ],
      "execution_count": null,
      "outputs": [
        {
          "output_type": "execute_result",
          "data": {
            "text/plain": [
              "0     0\n",
              "1     0\n",
              "2     0\n",
              "3     0\n",
              "4     0\n",
              "5     0\n",
              "6     0\n",
              "7     0\n",
              "8     0\n",
              "9     0\n",
              "10    0\n",
              "11    0\n",
              "dtype: int64"
            ]
          },
          "metadata": {
            "tags": []
          },
          "execution_count": 10
        }
      ]
    },
    {
      "cell_type": "code",
      "metadata": {
        "id": "hxRgL_8bogAC",
        "colab_type": "code",
        "colab": {}
      },
      "source": [
        "y_val=label1.loc[:,'1']#valance"
      ],
      "execution_count": null,
      "outputs": []
    },
    {
      "cell_type": "code",
      "metadata": {
        "id": "o5-g-sToo1Ck",
        "colab_type": "code",
        "colab": {
          "base_uri": "https://localhost:8080/",
          "height": 35
        },
        "outputId": "99060b4f-ff50-4d6f-f3e9-ab91cd2dcce2"
      },
      "source": [
        "y_val.shape"
      ],
      "execution_count": null,
      "outputs": [
        {
          "output_type": "execute_result",
          "data": {
            "text/plain": [
              "(50000,)"
            ]
          },
          "metadata": {
            "tags": []
          },
          "execution_count": 12
        }
      ]
    },
    {
      "cell_type": "code",
      "metadata": {
        "id": "9sLH3inJo3xQ",
        "colab_type": "code",
        "colab": {
          "base_uri": "https://localhost:8080/",
          "height": 146
        },
        "outputId": "eff1aa20-44d6-42c7-e10d-ae37df37d05f"
      },
      "source": [
        "from sklearn.preprocessing import StandardScaler\n",
        "scaler = StandardScaler()\n",
        "scaler.fit(x)\n",
        "x = scaler.transform(x)\n",
        "from keras.utils import to_categorical\n",
        "y = to_categorical(y_val)\n",
        "y"
      ],
      "execution_count": null,
      "outputs": [
        {
          "output_type": "execute_result",
          "data": {
            "text/plain": [
              "array([[0., 0., 0., ..., 0., 0., 0.],\n",
              "       [0., 0., 0., ..., 0., 0., 0.],\n",
              "       [0., 0., 0., ..., 0., 0., 0.],\n",
              "       ...,\n",
              "       [0., 0., 0., ..., 0., 0., 1.],\n",
              "       [0., 0., 0., ..., 0., 0., 1.],\n",
              "       [0., 0., 0., ..., 0., 0., 1.]], dtype=float32)"
            ]
          },
          "metadata": {
            "tags": []
          },
          "execution_count": 13
        }
      ]
    },
    {
      "cell_type": "code",
      "metadata": {
        "id": "YZNw0bjdo7Zd",
        "colab_type": "code",
        "colab": {}
      },
      "source": [
        "import numpy as np\n",
        "x = np.reshape(x, (x.shape[0],1,x.shape[1]))"
      ],
      "execution_count": null,
      "outputs": []
    },
    {
      "cell_type": "code",
      "metadata": {
        "id": "p1NtJFQ5o-R0",
        "colab_type": "code",
        "colab": {
          "base_uri": "https://localhost:8080/",
          "height": 35
        },
        "outputId": "078ad011-a5e9-4b21-a084-505ad5b4b425"
      },
      "source": [
        "x.shape"
      ],
      "execution_count": null,
      "outputs": [
        {
          "output_type": "execute_result",
          "data": {
            "text/plain": [
              "(50000, 1, 70)"
            ]
          },
          "metadata": {
            "tags": []
          },
          "execution_count": 15
        }
      ]
    },
    {
      "cell_type": "code",
      "metadata": {
        "id": "p_fRf_TBpAxb",
        "colab_type": "code",
        "colab": {
          "base_uri": "https://localhost:8080/",
          "height": 35
        },
        "outputId": "13122250-31ef-4fee-91be-9915fb4b4572"
      },
      "source": [
        "y.shape"
      ],
      "execution_count": null,
      "outputs": [
        {
          "output_type": "execute_result",
          "data": {
            "text/plain": [
              "(50000, 10)"
            ]
          },
          "metadata": {
            "tags": []
          },
          "execution_count": 16
        }
      ]
    },
    {
      "cell_type": "code",
      "metadata": {
        "id": "UccvBeRbpDLi",
        "colab_type": "code",
        "colab": {}
      },
      "source": [
        "from sklearn.model_selection import train_test_split\n",
        "x_train, x_test, y_train, y_test = train_test_split(x, y, test_size = 0.2, random_state = 4)"
      ],
      "execution_count": null,
      "outputs": []
    },
    {
      "cell_type": "code",
      "metadata": {
        "id": "3nveNRZNpITr",
        "colab_type": "code",
        "colab": {
          "base_uri": "https://localhost:8080/",
          "height": 90
        },
        "outputId": "2aba2e97-4d8b-4276-cdd8-6a88ceb731ba"
      },
      "source": [
        "print(x_train.shape)\n",
        "print(y_train.shape)\n",
        "print(x_test.shape)\n",
        "print(y_test.shape)"
      ],
      "execution_count": null,
      "outputs": [
        {
          "output_type": "stream",
          "text": [
            "(40000, 1, 70)\n",
            "(40000, 10)\n",
            "(10000, 1, 70)\n",
            "(10000, 10)\n"
          ],
          "name": "stdout"
        }
      ]
    },
    {
      "cell_type": "code",
      "metadata": {
        "id": "YjKY984jpK5o",
        "colab_type": "code",
        "colab": {
          "base_uri": "https://localhost:8080/",
          "height": 954
        },
        "outputId": "9d85f6bc-5ba6-46ae-bfcf-234c378d7b96"
      },
      "source": [
        "import tensorflow\n",
        "# from tensorflow.keras import models\n",
        "# from tensorflow.keras import layers\n",
        "# from tensorflow.keras import optimizers\n",
        "from tensorflow.keras.models import Sequential\n",
        "from tensorflow.keras.layers import Dense, Dropout\n",
        "from tensorflow.keras.layers import LSTM,BatchNormalization,Activation\n",
        "model = Sequential()\n",
        "model.add(LSTM(512, batch_input_shape = (None, None, x.shape[2]),return_sequences=True))\n",
        "#model.add(Dropout(0.1))\n",
        "model.add(BatchNormalization())\n",
        "model.add(Dropout(0.3))\n",
        "\n",
        "model.add(LSTM(512,activation=\"relu\",return_sequences=True))\n",
        "model.add(BatchNormalization())\n",
        "model.add(Dropout(0.1))\n",
        "\n",
        "model.add(LSTM(256,activation=\"relu\",return_sequences=True))\n",
        "model.add(BatchNormalization())\n",
        "model.add(Dropout(0.5))\n",
        "\n",
        "model.add(LSTM(128,activation=\"relu\",return_sequences=True))\n",
        "model.add(BatchNormalization())\n",
        "model.add(Dropout(0.3))\n",
        "\n",
        "model.add(LSTM(64,activation=\"relu\",return_sequences=True))\n",
        "model.add(BatchNormalization())\n",
        "model.add(Dropout(0.3))\n",
        "\n",
        "\n",
        "model.add(LSTM(32,activation=\"relu\"))\n",
        "model.add(BatchNormalization())\n",
        "model.add(Dropout(0.2))\n",
        "\n",
        "\n",
        "model.add(Dense(10))\n",
        "\n",
        "rmsprop =tensorflow.keras.optimizers.RMSprop(lr=0.0001, rho=0.9, epsilon=1e-08)\n",
        "model.compile(loss='mean_squared_error',\n",
        "                  optimizer=rmsprop,\n",
        "                  metrics=['accuracy'])\n",
        "#adam = keras.optimizers.Adam(lr=0.5, beta_1=0.9, beta_2=0.999, epsilon=None, decay=0.0, amsgrad=False)\n",
        "#model.compile(loss='binary_crossentropy', optimizer='adam', metrics=['accuracy'])\n",
        "model.summary()"
      ],
      "execution_count": null,
      "outputs": [
        {
          "output_type": "stream",
          "text": [
            "WARNING:tensorflow:Layer lstm_1 will not use cuDNN kernel since it doesn't meet the cuDNN kernel criteria. It will use generic GPU kernel as fallback when running on GPU\n",
            "WARNING:tensorflow:Layer lstm_2 will not use cuDNN kernel since it doesn't meet the cuDNN kernel criteria. It will use generic GPU kernel as fallback when running on GPU\n",
            "WARNING:tensorflow:Layer lstm_3 will not use cuDNN kernel since it doesn't meet the cuDNN kernel criteria. It will use generic GPU kernel as fallback when running on GPU\n",
            "WARNING:tensorflow:Layer lstm_4 will not use cuDNN kernel since it doesn't meet the cuDNN kernel criteria. It will use generic GPU kernel as fallback when running on GPU\n",
            "WARNING:tensorflow:Layer lstm_5 will not use cuDNN kernel since it doesn't meet the cuDNN kernel criteria. It will use generic GPU kernel as fallback when running on GPU\n",
            "Model: \"sequential\"\n",
            "_________________________________________________________________\n",
            "Layer (type)                 Output Shape              Param #   \n",
            "=================================================================\n",
            "lstm (LSTM)                  (None, None, 512)         1193984   \n",
            "_________________________________________________________________\n",
            "batch_normalization (BatchNo (None, None, 512)         2048      \n",
            "_________________________________________________________________\n",
            "dropout (Dropout)            (None, None, 512)         0         \n",
            "_________________________________________________________________\n",
            "lstm_1 (LSTM)                (None, None, 512)         2099200   \n",
            "_________________________________________________________________\n",
            "batch_normalization_1 (Batch (None, None, 512)         2048      \n",
            "_________________________________________________________________\n",
            "dropout_1 (Dropout)          (None, None, 512)         0         \n",
            "_________________________________________________________________\n",
            "lstm_2 (LSTM)                (None, None, 256)         787456    \n",
            "_________________________________________________________________\n",
            "batch_normalization_2 (Batch (None, None, 256)         1024      \n",
            "_________________________________________________________________\n",
            "dropout_2 (Dropout)          (None, None, 256)         0         \n",
            "_________________________________________________________________\n",
            "lstm_3 (LSTM)                (None, None, 128)         197120    \n",
            "_________________________________________________________________\n",
            "batch_normalization_3 (Batch (None, None, 128)         512       \n",
            "_________________________________________________________________\n",
            "dropout_3 (Dropout)          (None, None, 128)         0         \n",
            "_________________________________________________________________\n",
            "lstm_4 (LSTM)                (None, None, 64)          49408     \n",
            "_________________________________________________________________\n",
            "batch_normalization_4 (Batch (None, None, 64)          256       \n",
            "_________________________________________________________________\n",
            "dropout_4 (Dropout)          (None, None, 64)          0         \n",
            "_________________________________________________________________\n",
            "lstm_5 (LSTM)                (None, 32)                12416     \n",
            "_________________________________________________________________\n",
            "batch_normalization_5 (Batch (None, 32)                128       \n",
            "_________________________________________________________________\n",
            "dropout_5 (Dropout)          (None, 32)                0         \n",
            "_________________________________________________________________\n",
            "dense (Dense)                (None, 10)                330       \n",
            "=================================================================\n",
            "Total params: 4,345,930\n",
            "Trainable params: 4,342,922\n",
            "Non-trainable params: 3,008\n",
            "_________________________________________________________________\n"
          ],
          "name": "stdout"
        }
      ]
    },
    {
      "cell_type": "code",
      "metadata": {
        "id": "TiArle0Opggf",
        "colab_type": "code",
        "colab": {
          "base_uri": "https://localhost:8080/",
          "height": 1000
        },
        "outputId": "11bf5417-4578-4e00-b92e-063c145394ab"
      },
      "source": [
        "history = model.fit(x_train, y_train, epochs = 200, batch_size=300,validation_data= (x_test, y_test))"
      ],
      "execution_count": null,
      "outputs": [
        {
          "output_type": "stream",
          "text": [
            "Epoch 1/200\n",
            "134/134 [==============================] - 8s 57ms/step - loss: 1.5894 - accuracy: 0.1240 - val_loss: 0.1069 - val_accuracy: 0.0914\n",
            "Epoch 2/200\n",
            "134/134 [==============================] - 6s 48ms/step - loss: 1.3454 - accuracy: 0.1480 - val_loss: 0.1066 - val_accuracy: 0.0914\n",
            "Epoch 3/200\n",
            "134/134 [==============================] - 6s 47ms/step - loss: 1.1267 - accuracy: 0.1811 - val_loss: 0.0994 - val_accuracy: 0.0841\n",
            "Epoch 4/200\n",
            "134/134 [==============================] - 6s 47ms/step - loss: 0.9507 - accuracy: 0.2117 - val_loss: 0.0900 - val_accuracy: 0.4317\n",
            "Epoch 5/200\n",
            "134/134 [==============================] - 6s 48ms/step - loss: 0.7903 - accuracy: 0.2466 - val_loss: 0.1409 - val_accuracy: 0.5551\n",
            "Epoch 6/200\n",
            "134/134 [==============================] - 6s 47ms/step - loss: 0.6686 - accuracy: 0.2788 - val_loss: 0.1154 - val_accuracy: 0.5641\n",
            "Epoch 7/200\n",
            "134/134 [==============================] - 6s 46ms/step - loss: 0.5508 - accuracy: 0.3099 - val_loss: 0.2352 - val_accuracy: 0.5860\n",
            "Epoch 8/200\n",
            "134/134 [==============================] - 6s 46ms/step - loss: 0.4567 - accuracy: 0.3402 - val_loss: 0.1202 - val_accuracy: 0.5676\n",
            "Epoch 9/200\n",
            "134/134 [==============================] - 6s 46ms/step - loss: 0.3787 - accuracy: 0.3717 - val_loss: 0.0928 - val_accuracy: 0.5740\n",
            "Epoch 10/200\n",
            "134/134 [==============================] - 6s 47ms/step - loss: 0.3179 - accuracy: 0.3938 - val_loss: 0.1164 - val_accuracy: 0.5794\n",
            "Epoch 11/200\n",
            "134/134 [==============================] - 7s 49ms/step - loss: 0.2695 - accuracy: 0.4144 - val_loss: 0.0980 - val_accuracy: 0.5852\n",
            "Epoch 12/200\n",
            "134/134 [==============================] - 6s 46ms/step - loss: 0.2261 - accuracy: 0.4424 - val_loss: 0.0744 - val_accuracy: 0.5949\n",
            "Epoch 13/200\n",
            "134/134 [==============================] - 6s 46ms/step - loss: 0.1988 - accuracy: 0.4650 - val_loss: 0.0766 - val_accuracy: 0.6047\n",
            "Epoch 14/200\n",
            "134/134 [==============================] - 6s 46ms/step - loss: 0.1713 - accuracy: 0.4873 - val_loss: 0.0626 - val_accuracy: 0.6174\n",
            "Epoch 15/200\n",
            "134/134 [==============================] - 6s 45ms/step - loss: 0.1519 - accuracy: 0.5121 - val_loss: 0.0593 - val_accuracy: 0.6361\n",
            "Epoch 16/200\n",
            "134/134 [==============================] - 6s 46ms/step - loss: 0.1344 - accuracy: 0.5401 - val_loss: 0.0497 - val_accuracy: 0.6636\n",
            "Epoch 17/200\n",
            "134/134 [==============================] - 6s 46ms/step - loss: 0.1190 - accuracy: 0.5692 - val_loss: 0.0439 - val_accuracy: 0.7068\n",
            "Epoch 18/200\n",
            "134/134 [==============================] - 6s 45ms/step - loss: 0.1073 - accuracy: 0.5958 - val_loss: 0.0411 - val_accuracy: 0.7375\n",
            "Epoch 19/200\n",
            "134/134 [==============================] - 6s 45ms/step - loss: 0.0969 - accuracy: 0.6298 - val_loss: 0.0370 - val_accuracy: 0.7594\n",
            "Epoch 20/200\n",
            "134/134 [==============================] - 6s 45ms/step - loss: 0.0855 - accuracy: 0.6632 - val_loss: 0.0336 - val_accuracy: 0.7863\n",
            "Epoch 21/200\n",
            "134/134 [==============================] - 6s 45ms/step - loss: 0.0770 - accuracy: 0.7006 - val_loss: 0.0303 - val_accuracy: 0.8173\n",
            "Epoch 22/200\n",
            "134/134 [==============================] - 6s 44ms/step - loss: 0.0688 - accuracy: 0.7301 - val_loss: 0.0281 - val_accuracy: 0.8414\n",
            "Epoch 23/200\n",
            "134/134 [==============================] - 6s 45ms/step - loss: 0.0602 - accuracy: 0.7643 - val_loss: 0.0249 - val_accuracy: 0.8476\n",
            "Epoch 24/200\n",
            "134/134 [==============================] - 6s 44ms/step - loss: 0.0538 - accuracy: 0.7912 - val_loss: 0.0225 - val_accuracy: 0.8574\n",
            "Epoch 25/200\n",
            "134/134 [==============================] - 6s 45ms/step - loss: 0.0478 - accuracy: 0.8120 - val_loss: 0.0207 - val_accuracy: 0.8654\n",
            "Epoch 26/200\n",
            "134/134 [==============================] - 6s 46ms/step - loss: 0.0431 - accuracy: 0.8243 - val_loss: 0.0201 - val_accuracy: 0.8672\n",
            "Epoch 27/200\n",
            "134/134 [==============================] - 6s 46ms/step - loss: 0.0385 - accuracy: 0.8359 - val_loss: 0.0187 - val_accuracy: 0.8752\n",
            "Epoch 28/200\n",
            "134/134 [==============================] - 6s 45ms/step - loss: 0.0346 - accuracy: 0.8465 - val_loss: 0.0179 - val_accuracy: 0.8776\n",
            "Epoch 29/200\n",
            "134/134 [==============================] - 6s 46ms/step - loss: 0.0315 - accuracy: 0.8547 - val_loss: 0.0173 - val_accuracy: 0.8802\n",
            "Epoch 30/200\n",
            "134/134 [==============================] - 6s 45ms/step - loss: 0.0292 - accuracy: 0.8617 - val_loss: 0.0166 - val_accuracy: 0.8862\n",
            "Epoch 31/200\n",
            "134/134 [==============================] - 6s 45ms/step - loss: 0.0270 - accuracy: 0.8665 - val_loss: 0.0161 - val_accuracy: 0.8867\n",
            "Epoch 32/200\n",
            "134/134 [==============================] - 6s 45ms/step - loss: 0.0255 - accuracy: 0.8715 - val_loss: 0.0153 - val_accuracy: 0.8930\n",
            "Epoch 33/200\n",
            "134/134 [==============================] - 6s 46ms/step - loss: 0.0238 - accuracy: 0.8756 - val_loss: 0.0148 - val_accuracy: 0.8959\n",
            "Epoch 34/200\n",
            "134/134 [==============================] - 6s 48ms/step - loss: 0.0226 - accuracy: 0.8803 - val_loss: 0.0144 - val_accuracy: 0.8996\n",
            "Epoch 35/200\n",
            "134/134 [==============================] - 6s 46ms/step - loss: 0.0216 - accuracy: 0.8836 - val_loss: 0.0142 - val_accuracy: 0.9002\n",
            "Epoch 36/200\n",
            "134/134 [==============================] - 6s 46ms/step - loss: 0.0206 - accuracy: 0.8862 - val_loss: 0.0135 - val_accuracy: 0.9044\n",
            "Epoch 37/200\n",
            "134/134 [==============================] - 6s 45ms/step - loss: 0.0199 - accuracy: 0.8894 - val_loss: 0.0133 - val_accuracy: 0.9049\n",
            "Epoch 38/200\n",
            "134/134 [==============================] - 6s 45ms/step - loss: 0.0193 - accuracy: 0.8916 - val_loss: 0.0127 - val_accuracy: 0.9111\n",
            "Epoch 39/200\n",
            "134/134 [==============================] - 6s 46ms/step - loss: 0.0186 - accuracy: 0.8961 - val_loss: 0.0126 - val_accuracy: 0.9146\n",
            "Epoch 40/200\n",
            "134/134 [==============================] - 6s 45ms/step - loss: 0.0178 - accuracy: 0.9022 - val_loss: 0.0121 - val_accuracy: 0.9169\n",
            "Epoch 41/200\n",
            "134/134 [==============================] - 6s 47ms/step - loss: 0.0175 - accuracy: 0.9048 - val_loss: 0.0116 - val_accuracy: 0.9216\n",
            "Epoch 42/200\n",
            "134/134 [==============================] - 6s 46ms/step - loss: 0.0170 - accuracy: 0.9081 - val_loss: 0.0113 - val_accuracy: 0.9231\n",
            "Epoch 43/200\n",
            "134/134 [==============================] - 6s 47ms/step - loss: 0.0165 - accuracy: 0.9098 - val_loss: 0.0112 - val_accuracy: 0.9226\n",
            "Epoch 44/200\n",
            "134/134 [==============================] - 6s 47ms/step - loss: 0.0159 - accuracy: 0.9136 - val_loss: 0.0106 - val_accuracy: 0.9262\n",
            "Epoch 45/200\n",
            "134/134 [==============================] - 6s 47ms/step - loss: 0.0157 - accuracy: 0.9154 - val_loss: 0.0103 - val_accuracy: 0.9296\n",
            "Epoch 46/200\n",
            "134/134 [==============================] - 6s 46ms/step - loss: 0.0154 - accuracy: 0.9173 - val_loss: 0.0102 - val_accuracy: 0.9294\n",
            "Epoch 47/200\n",
            "134/134 [==============================] - 6s 46ms/step - loss: 0.0150 - accuracy: 0.9184 - val_loss: 0.0098 - val_accuracy: 0.9325\n",
            "Epoch 48/200\n",
            "134/134 [==============================] - 6s 46ms/step - loss: 0.0148 - accuracy: 0.9197 - val_loss: 0.0093 - val_accuracy: 0.9372\n",
            "Epoch 49/200\n",
            "134/134 [==============================] - 6s 48ms/step - loss: 0.0146 - accuracy: 0.9224 - val_loss: 0.0091 - val_accuracy: 0.9387\n",
            "Epoch 50/200\n",
            "134/134 [==============================] - 6s 48ms/step - loss: 0.0141 - accuracy: 0.9263 - val_loss: 0.0090 - val_accuracy: 0.9384\n",
            "Epoch 51/200\n",
            "134/134 [==============================] - 6s 46ms/step - loss: 0.0138 - accuracy: 0.9282 - val_loss: 0.0087 - val_accuracy: 0.9416\n",
            "Epoch 52/200\n",
            "134/134 [==============================] - 6s 47ms/step - loss: 0.0134 - accuracy: 0.9304 - val_loss: 0.0085 - val_accuracy: 0.9426\n",
            "Epoch 53/200\n",
            "134/134 [==============================] - 6s 47ms/step - loss: 0.0133 - accuracy: 0.9303 - val_loss: 0.0083 - val_accuracy: 0.9447\n",
            "Epoch 54/200\n",
            "134/134 [==============================] - 6s 47ms/step - loss: 0.0131 - accuracy: 0.9323 - val_loss: 0.0081 - val_accuracy: 0.9450\n",
            "Epoch 55/200\n",
            "134/134 [==============================] - 6s 47ms/step - loss: 0.0127 - accuracy: 0.9344 - val_loss: 0.0079 - val_accuracy: 0.9473\n",
            "Epoch 56/200\n",
            "134/134 [==============================] - 6s 46ms/step - loss: 0.0128 - accuracy: 0.9345 - val_loss: 0.0076 - val_accuracy: 0.9495\n",
            "Epoch 57/200\n",
            "134/134 [==============================] - 6s 46ms/step - loss: 0.0124 - accuracy: 0.9366 - val_loss: 0.0075 - val_accuracy: 0.9487\n",
            "Epoch 58/200\n",
            "134/134 [==============================] - 6s 46ms/step - loss: 0.0122 - accuracy: 0.9377 - val_loss: 0.0074 - val_accuracy: 0.9497\n",
            "Epoch 59/200\n",
            "134/134 [==============================] - 6s 46ms/step - loss: 0.0120 - accuracy: 0.9393 - val_loss: 0.0072 - val_accuracy: 0.9515\n",
            "Epoch 60/200\n",
            "134/134 [==============================] - 6s 46ms/step - loss: 0.0119 - accuracy: 0.9399 - val_loss: 0.0071 - val_accuracy: 0.9520\n",
            "Epoch 61/200\n",
            "134/134 [==============================] - 6s 46ms/step - loss: 0.0116 - accuracy: 0.9421 - val_loss: 0.0071 - val_accuracy: 0.9530\n",
            "Epoch 62/200\n",
            "134/134 [==============================] - 6s 45ms/step - loss: 0.0113 - accuracy: 0.9442 - val_loss: 0.0069 - val_accuracy: 0.9553\n",
            "Epoch 63/200\n",
            "134/134 [==============================] - 6s 47ms/step - loss: 0.0111 - accuracy: 0.9450 - val_loss: 0.0067 - val_accuracy: 0.9551\n",
            "Epoch 64/200\n",
            "134/134 [==============================] - 6s 47ms/step - loss: 0.0110 - accuracy: 0.9469 - val_loss: 0.0063 - val_accuracy: 0.9573\n",
            "Epoch 65/200\n",
            "134/134 [==============================] - 6s 46ms/step - loss: 0.0109 - accuracy: 0.9472 - val_loss: 0.0062 - val_accuracy: 0.9582\n",
            "Epoch 66/200\n",
            "134/134 [==============================] - 6s 45ms/step - loss: 0.0107 - accuracy: 0.9482 - val_loss: 0.0063 - val_accuracy: 0.9571\n",
            "Epoch 67/200\n",
            "134/134 [==============================] - 6s 44ms/step - loss: 0.0106 - accuracy: 0.9489 - val_loss: 0.0061 - val_accuracy: 0.9581\n",
            "Epoch 68/200\n",
            "134/134 [==============================] - 6s 44ms/step - loss: 0.0106 - accuracy: 0.9484 - val_loss: 0.0060 - val_accuracy: 0.9595\n",
            "Epoch 69/200\n",
            "134/134 [==============================] - 6s 44ms/step - loss: 0.0103 - accuracy: 0.9507 - val_loss: 0.0057 - val_accuracy: 0.9617\n",
            "Epoch 70/200\n",
            "134/134 [==============================] - 6s 44ms/step - loss: 0.0102 - accuracy: 0.9513 - val_loss: 0.0059 - val_accuracy: 0.9597\n",
            "Epoch 71/200\n",
            "134/134 [==============================] - 6s 48ms/step - loss: 0.0099 - accuracy: 0.9528 - val_loss: 0.0056 - val_accuracy: 0.9616\n",
            "Epoch 72/200\n",
            "134/134 [==============================] - 6s 47ms/step - loss: 0.0097 - accuracy: 0.9544 - val_loss: 0.0053 - val_accuracy: 0.9622\n",
            "Epoch 73/200\n",
            "134/134 [==============================] - 6s 47ms/step - loss: 0.0097 - accuracy: 0.9548 - val_loss: 0.0051 - val_accuracy: 0.9650\n",
            "Epoch 74/200\n",
            "134/134 [==============================] - 6s 47ms/step - loss: 0.0094 - accuracy: 0.9563 - val_loss: 0.0054 - val_accuracy: 0.9624\n",
            "Epoch 75/200\n",
            "134/134 [==============================] - 6s 46ms/step - loss: 0.0094 - accuracy: 0.9562 - val_loss: 0.0049 - val_accuracy: 0.9656\n",
            "Epoch 76/200\n",
            "134/134 [==============================] - 6s 45ms/step - loss: 0.0094 - accuracy: 0.9567 - val_loss: 0.0049 - val_accuracy: 0.9664\n",
            "Epoch 77/200\n",
            "134/134 [==============================] - 6s 45ms/step - loss: 0.0094 - accuracy: 0.9566 - val_loss: 0.0050 - val_accuracy: 0.9661\n",
            "Epoch 78/200\n",
            "134/134 [==============================] - 6s 46ms/step - loss: 0.0090 - accuracy: 0.9600 - val_loss: 0.0049 - val_accuracy: 0.9663\n",
            "Epoch 79/200\n",
            "134/134 [==============================] - 6s 46ms/step - loss: 0.0091 - accuracy: 0.9588 - val_loss: 0.0048 - val_accuracy: 0.9662\n",
            "Epoch 80/200\n",
            "134/134 [==============================] - 6s 46ms/step - loss: 0.0089 - accuracy: 0.9597 - val_loss: 0.0045 - val_accuracy: 0.9687\n",
            "Epoch 81/200\n",
            "134/134 [==============================] - 6s 46ms/step - loss: 0.0088 - accuracy: 0.9598 - val_loss: 0.0043 - val_accuracy: 0.9689\n",
            "Epoch 82/200\n",
            "134/134 [==============================] - 6s 45ms/step - loss: 0.0085 - accuracy: 0.9617 - val_loss: 0.0042 - val_accuracy: 0.9703\n",
            "Epoch 83/200\n",
            "134/134 [==============================] - 6s 45ms/step - loss: 0.0084 - accuracy: 0.9624 - val_loss: 0.0043 - val_accuracy: 0.9693\n",
            "Epoch 84/200\n",
            "134/134 [==============================] - 6s 46ms/step - loss: 0.0083 - accuracy: 0.9620 - val_loss: 0.0041 - val_accuracy: 0.9698\n",
            "Epoch 85/200\n",
            "134/134 [==============================] - 6s 46ms/step - loss: 0.0083 - accuracy: 0.9637 - val_loss: 0.0041 - val_accuracy: 0.9709\n",
            "Epoch 86/200\n",
            "134/134 [==============================] - 6s 48ms/step - loss: 0.0082 - accuracy: 0.9636 - val_loss: 0.0039 - val_accuracy: 0.9720\n",
            "Epoch 87/200\n",
            "134/134 [==============================] - 6s 47ms/step - loss: 0.0082 - accuracy: 0.9649 - val_loss: 0.0040 - val_accuracy: 0.9744\n",
            "Epoch 88/200\n",
            "134/134 [==============================] - 6s 48ms/step - loss: 0.0081 - accuracy: 0.9651 - val_loss: 0.0038 - val_accuracy: 0.9763\n",
            "Epoch 89/200\n",
            "134/134 [==============================] - 6s 46ms/step - loss: 0.0078 - accuracy: 0.9683 - val_loss: 0.0037 - val_accuracy: 0.9762\n",
            "Epoch 90/200\n",
            "134/134 [==============================] - 6s 46ms/step - loss: 0.0077 - accuracy: 0.9689 - val_loss: 0.0035 - val_accuracy: 0.9785\n",
            "Epoch 91/200\n",
            "134/134 [==============================] - 6s 47ms/step - loss: 0.0077 - accuracy: 0.9686 - val_loss: 0.0033 - val_accuracy: 0.9795\n",
            "Epoch 92/200\n",
            "134/134 [==============================] - 6s 46ms/step - loss: 0.0076 - accuracy: 0.9705 - val_loss: 0.0033 - val_accuracy: 0.9800\n",
            "Epoch 93/200\n",
            "134/134 [==============================] - 6s 47ms/step - loss: 0.0074 - accuracy: 0.9711 - val_loss: 0.0034 - val_accuracy: 0.9779\n",
            "Epoch 94/200\n",
            "134/134 [==============================] - 6s 48ms/step - loss: 0.0074 - accuracy: 0.9716 - val_loss: 0.0032 - val_accuracy: 0.9801\n",
            "Epoch 95/200\n",
            "134/134 [==============================] - 6s 47ms/step - loss: 0.0071 - accuracy: 0.9740 - val_loss: 0.0032 - val_accuracy: 0.9802\n",
            "Epoch 96/200\n",
            "134/134 [==============================] - 6s 46ms/step - loss: 0.0073 - accuracy: 0.9723 - val_loss: 0.0034 - val_accuracy: 0.9780\n",
            "Epoch 97/200\n",
            "134/134 [==============================] - 6s 47ms/step - loss: 0.0071 - accuracy: 0.9736 - val_loss: 0.0029 - val_accuracy: 0.9817\n",
            "Epoch 98/200\n",
            "134/134 [==============================] - 6s 45ms/step - loss: 0.0071 - accuracy: 0.9730 - val_loss: 0.0031 - val_accuracy: 0.9803\n",
            "Epoch 99/200\n",
            "134/134 [==============================] - 6s 44ms/step - loss: 0.0069 - accuracy: 0.9753 - val_loss: 0.0028 - val_accuracy: 0.9825\n",
            "Epoch 100/200\n",
            "134/134 [==============================] - 6s 45ms/step - loss: 0.0068 - accuracy: 0.9758 - val_loss: 0.0029 - val_accuracy: 0.9817\n",
            "Epoch 101/200\n",
            "134/134 [==============================] - 6s 48ms/step - loss: 0.0067 - accuracy: 0.9764 - val_loss: 0.0025 - val_accuracy: 0.9844\n",
            "Epoch 102/200\n",
            "134/134 [==============================] - 6s 48ms/step - loss: 0.0066 - accuracy: 0.9776 - val_loss: 0.0029 - val_accuracy: 0.9816\n",
            "Epoch 103/200\n",
            "134/134 [==============================] - 6s 48ms/step - loss: 0.0067 - accuracy: 0.9762 - val_loss: 0.0026 - val_accuracy: 0.9837\n",
            "Epoch 104/200\n",
            "134/134 [==============================] - 6s 47ms/step - loss: 0.0067 - accuracy: 0.9763 - val_loss: 0.0030 - val_accuracy: 0.9813\n",
            "Epoch 105/200\n",
            "134/134 [==============================] - 6s 46ms/step - loss: 0.0064 - accuracy: 0.9783 - val_loss: 0.0026 - val_accuracy: 0.9847\n",
            "Epoch 106/200\n",
            "134/134 [==============================] - 6s 46ms/step - loss: 0.0065 - accuracy: 0.9775 - val_loss: 0.0024 - val_accuracy: 0.9846\n",
            "Epoch 107/200\n",
            "134/134 [==============================] - 6s 47ms/step - loss: 0.0064 - accuracy: 0.9783 - val_loss: 0.0022 - val_accuracy: 0.9858\n",
            "Epoch 108/200\n",
            "134/134 [==============================] - 6s 46ms/step - loss: 0.0063 - accuracy: 0.9793 - val_loss: 0.0023 - val_accuracy: 0.9855\n",
            "Epoch 109/200\n",
            "134/134 [==============================] - 6s 46ms/step - loss: 0.0063 - accuracy: 0.9795 - val_loss: 0.0028 - val_accuracy: 0.9828\n",
            "Epoch 110/200\n",
            "134/134 [==============================] - 6s 46ms/step - loss: 0.0063 - accuracy: 0.9795 - val_loss: 0.0024 - val_accuracy: 0.9848\n",
            "Epoch 111/200\n",
            "134/134 [==============================] - 6s 46ms/step - loss: 0.0060 - accuracy: 0.9811 - val_loss: 0.0022 - val_accuracy: 0.9870\n",
            "Epoch 112/200\n",
            "134/134 [==============================] - 6s 46ms/step - loss: 0.0062 - accuracy: 0.9805 - val_loss: 0.0024 - val_accuracy: 0.9855\n",
            "Epoch 113/200\n",
            "134/134 [==============================] - 6s 46ms/step - loss: 0.0061 - accuracy: 0.9815 - val_loss: 0.0023 - val_accuracy: 0.9857\n",
            "Epoch 114/200\n",
            "134/134 [==============================] - 6s 46ms/step - loss: 0.0058 - accuracy: 0.9830 - val_loss: 0.0022 - val_accuracy: 0.9871\n",
            "Epoch 115/200\n",
            "134/134 [==============================] - 6s 48ms/step - loss: 0.0058 - accuracy: 0.9829 - val_loss: 0.0020 - val_accuracy: 0.9876\n",
            "Epoch 116/200\n",
            "134/134 [==============================] - 7s 49ms/step - loss: 0.0058 - accuracy: 0.9830 - val_loss: 0.0023 - val_accuracy: 0.9861\n",
            "Epoch 117/200\n",
            "134/134 [==============================] - 6s 46ms/step - loss: 0.0056 - accuracy: 0.9837 - val_loss: 0.0022 - val_accuracy: 0.9864\n",
            "Epoch 118/200\n",
            "134/134 [==============================] - 6s 45ms/step - loss: 0.0057 - accuracy: 0.9840 - val_loss: 0.0020 - val_accuracy: 0.9873\n",
            "Epoch 119/200\n",
            "134/134 [==============================] - 6s 45ms/step - loss: 0.0057 - accuracy: 0.9837 - val_loss: 0.0026 - val_accuracy: 0.9841\n",
            "Epoch 120/200\n",
            "134/134 [==============================] - 6s 44ms/step - loss: 0.0057 - accuracy: 0.9834 - val_loss: 0.0022 - val_accuracy: 0.9865\n",
            "Epoch 121/200\n",
            "134/134 [==============================] - 6s 45ms/step - loss: 0.0055 - accuracy: 0.9855 - val_loss: 0.0018 - val_accuracy: 0.9886\n",
            "Epoch 122/200\n",
            "134/134 [==============================] - 6s 46ms/step - loss: 0.0055 - accuracy: 0.9853 - val_loss: 0.0021 - val_accuracy: 0.9861\n",
            "Epoch 123/200\n",
            "134/134 [==============================] - 6s 48ms/step - loss: 0.0055 - accuracy: 0.9850 - val_loss: 0.0021 - val_accuracy: 0.9868\n",
            "Epoch 124/200\n",
            "134/134 [==============================] - 7s 49ms/step - loss: 0.0055 - accuracy: 0.9855 - val_loss: 0.0022 - val_accuracy: 0.9869\n",
            "Epoch 125/200\n",
            "134/134 [==============================] - 6s 46ms/step - loss: 0.0054 - accuracy: 0.9859 - val_loss: 0.0018 - val_accuracy: 0.9884\n",
            "Epoch 126/200\n",
            "134/134 [==============================] - 6s 47ms/step - loss: 0.0055 - accuracy: 0.9857 - val_loss: 0.0018 - val_accuracy: 0.9889\n",
            "Epoch 127/200\n",
            "134/134 [==============================] - 6s 47ms/step - loss: 0.0054 - accuracy: 0.9863 - val_loss: 0.0019 - val_accuracy: 0.9882\n",
            "Epoch 128/200\n",
            "134/134 [==============================] - 6s 46ms/step - loss: 0.0053 - accuracy: 0.9871 - val_loss: 0.0022 - val_accuracy: 0.9862\n",
            "Epoch 129/200\n",
            "134/134 [==============================] - 6s 46ms/step - loss: 0.0053 - accuracy: 0.9870 - val_loss: 0.0019 - val_accuracy: 0.9877\n",
            "Epoch 130/200\n",
            "134/134 [==============================] - 6s 47ms/step - loss: 0.0052 - accuracy: 0.9873 - val_loss: 0.0021 - val_accuracy: 0.9872\n",
            "Epoch 131/200\n",
            "134/134 [==============================] - 6s 47ms/step - loss: 0.0053 - accuracy: 0.9870 - val_loss: 0.0016 - val_accuracy: 0.9903\n",
            "Epoch 132/200\n",
            "134/134 [==============================] - 6s 47ms/step - loss: 0.0052 - accuracy: 0.9873 - val_loss: 0.0018 - val_accuracy: 0.9896\n",
            "Epoch 133/200\n",
            "134/134 [==============================] - 6s 47ms/step - loss: 0.0052 - accuracy: 0.9872 - val_loss: 0.0017 - val_accuracy: 0.9902\n",
            "Epoch 134/200\n",
            "134/134 [==============================] - 6s 47ms/step - loss: 0.0051 - accuracy: 0.9880 - val_loss: 0.0018 - val_accuracy: 0.9892\n",
            "Epoch 135/200\n",
            "134/134 [==============================] - 6s 47ms/step - loss: 0.0052 - accuracy: 0.9874 - val_loss: 0.0018 - val_accuracy: 0.9886\n",
            "Epoch 136/200\n",
            "134/134 [==============================] - 6s 47ms/step - loss: 0.0052 - accuracy: 0.9878 - val_loss: 0.0015 - val_accuracy: 0.9910\n",
            "Epoch 137/200\n",
            "134/134 [==============================] - 6s 47ms/step - loss: 0.0051 - accuracy: 0.9880 - val_loss: 0.0016 - val_accuracy: 0.9897\n",
            "Epoch 138/200\n",
            "134/134 [==============================] - 6s 47ms/step - loss: 0.0051 - accuracy: 0.9878 - val_loss: 0.0018 - val_accuracy: 0.9888\n",
            "Epoch 139/200\n",
            "134/134 [==============================] - 6s 47ms/step - loss: 0.0051 - accuracy: 0.9882 - val_loss: 0.0018 - val_accuracy: 0.9896\n",
            "Epoch 140/200\n",
            "134/134 [==============================] - 6s 46ms/step - loss: 0.0049 - accuracy: 0.9898 - val_loss: 0.0019 - val_accuracy: 0.9880\n",
            "Epoch 141/200\n",
            "134/134 [==============================] - 6s 46ms/step - loss: 0.0049 - accuracy: 0.9895 - val_loss: 0.0017 - val_accuracy: 0.9893\n",
            "Epoch 142/200\n",
            "134/134 [==============================] - 6s 46ms/step - loss: 0.0050 - accuracy: 0.9894 - val_loss: 0.0019 - val_accuracy: 0.9879\n",
            "Epoch 143/200\n",
            "134/134 [==============================] - 6s 46ms/step - loss: 0.0048 - accuracy: 0.9900 - val_loss: 0.0016 - val_accuracy: 0.9900\n",
            "Epoch 144/200\n",
            "134/134 [==============================] - 6s 46ms/step - loss: 0.0050 - accuracy: 0.9891 - val_loss: 0.0018 - val_accuracy: 0.9890\n",
            "Epoch 145/200\n",
            "134/134 [==============================] - 7s 49ms/step - loss: 0.0050 - accuracy: 0.9890 - val_loss: 0.0016 - val_accuracy: 0.9900\n",
            "Epoch 146/200\n",
            "134/134 [==============================] - 7s 49ms/step - loss: 0.0048 - accuracy: 0.9902 - val_loss: 0.0016 - val_accuracy: 0.9902\n",
            "Epoch 147/200\n",
            "134/134 [==============================] - 6s 48ms/step - loss: 0.0049 - accuracy: 0.9897 - val_loss: 0.0015 - val_accuracy: 0.9911\n",
            "Epoch 148/200\n",
            "134/134 [==============================] - 6s 46ms/step - loss: 0.0048 - accuracy: 0.9901 - val_loss: 0.0014 - val_accuracy: 0.9912\n",
            "Epoch 149/200\n",
            "134/134 [==============================] - 6s 45ms/step - loss: 0.0048 - accuracy: 0.9902 - val_loss: 0.0014 - val_accuracy: 0.9913\n",
            "Epoch 150/200\n",
            "134/134 [==============================] - 6s 45ms/step - loss: 0.0047 - accuracy: 0.9905 - val_loss: 0.0018 - val_accuracy: 0.9887\n",
            "Epoch 151/200\n",
            "134/134 [==============================] - 6s 45ms/step - loss: 0.0048 - accuracy: 0.9903 - val_loss: 0.0015 - val_accuracy: 0.9906\n",
            "Epoch 152/200\n",
            "134/134 [==============================] - 6s 47ms/step - loss: 0.0047 - accuracy: 0.9908 - val_loss: 0.0015 - val_accuracy: 0.9910\n",
            "Epoch 153/200\n",
            "134/134 [==============================] - 6s 48ms/step - loss: 0.0046 - accuracy: 0.9915 - val_loss: 0.0014 - val_accuracy: 0.9913\n",
            "Epoch 154/200\n",
            "134/134 [==============================] - 6s 47ms/step - loss: 0.0047 - accuracy: 0.9910 - val_loss: 0.0015 - val_accuracy: 0.9908\n",
            "Epoch 155/200\n",
            "134/134 [==============================] - 6s 48ms/step - loss: 0.0048 - accuracy: 0.9902 - val_loss: 0.0015 - val_accuracy: 0.9910\n",
            "Epoch 156/200\n",
            "134/134 [==============================] - 6s 47ms/step - loss: 0.0046 - accuracy: 0.9916 - val_loss: 0.0015 - val_accuracy: 0.9912\n",
            "Epoch 157/200\n",
            "134/134 [==============================] - 6s 46ms/step - loss: 0.0047 - accuracy: 0.9911 - val_loss: 0.0014 - val_accuracy: 0.9918\n",
            "Epoch 158/200\n",
            "134/134 [==============================] - 6s 46ms/step - loss: 0.0046 - accuracy: 0.9914 - val_loss: 0.0013 - val_accuracy: 0.9921\n",
            "Epoch 159/200\n",
            "134/134 [==============================] - 6s 47ms/step - loss: 0.0045 - accuracy: 0.9919 - val_loss: 0.0016 - val_accuracy: 0.9909\n",
            "Epoch 160/200\n",
            "134/134 [==============================] - 6s 48ms/step - loss: 0.0045 - accuracy: 0.9924 - val_loss: 0.0015 - val_accuracy: 0.9914\n",
            "Epoch 161/200\n",
            "134/134 [==============================] - 6s 48ms/step - loss: 0.0046 - accuracy: 0.9910 - val_loss: 0.0014 - val_accuracy: 0.9915\n",
            "Epoch 162/200\n",
            "134/134 [==============================] - 6s 48ms/step - loss: 0.0046 - accuracy: 0.9916 - val_loss: 0.0014 - val_accuracy: 0.9912\n",
            "Epoch 163/200\n",
            "134/134 [==============================] - 6s 46ms/step - loss: 0.0046 - accuracy: 0.9916 - val_loss: 0.0015 - val_accuracy: 0.9908\n",
            "Epoch 164/200\n",
            "134/134 [==============================] - 6s 46ms/step - loss: 0.0046 - accuracy: 0.9914 - val_loss: 0.0014 - val_accuracy: 0.9918\n",
            "Epoch 165/200\n",
            "134/134 [==============================] - 6s 46ms/step - loss: 0.0045 - accuracy: 0.9917 - val_loss: 0.0013 - val_accuracy: 0.9923\n",
            "Epoch 166/200\n",
            "134/134 [==============================] - 6s 46ms/step - loss: 0.0045 - accuracy: 0.9922 - val_loss: 0.0014 - val_accuracy: 0.9922\n",
            "Epoch 167/200\n",
            "134/134 [==============================] - 6s 47ms/step - loss: 0.0046 - accuracy: 0.9911 - val_loss: 0.0017 - val_accuracy: 0.9899\n",
            "Epoch 168/200\n",
            "134/134 [==============================] - 6s 46ms/step - loss: 0.0045 - accuracy: 0.9916 - val_loss: 0.0015 - val_accuracy: 0.9911\n",
            "Epoch 169/200\n",
            "134/134 [==============================] - 6s 46ms/step - loss: 0.0045 - accuracy: 0.9919 - val_loss: 0.0015 - val_accuracy: 0.9919\n",
            "Epoch 170/200\n",
            "134/134 [==============================] - 6s 46ms/step - loss: 0.0043 - accuracy: 0.9930 - val_loss: 0.0016 - val_accuracy: 0.9904\n",
            "Epoch 171/200\n",
            "134/134 [==============================] - 6s 46ms/step - loss: 0.0045 - accuracy: 0.9919 - val_loss: 0.0015 - val_accuracy: 0.9912\n",
            "Epoch 172/200\n",
            "134/134 [==============================] - 6s 45ms/step - loss: 0.0045 - accuracy: 0.9925 - val_loss: 0.0015 - val_accuracy: 0.9916\n",
            "Epoch 173/200\n",
            "134/134 [==============================] - 6s 44ms/step - loss: 0.0044 - accuracy: 0.9925 - val_loss: 0.0014 - val_accuracy: 0.9913\n",
            "Epoch 174/200\n",
            "134/134 [==============================] - 6s 46ms/step - loss: 0.0044 - accuracy: 0.9925 - val_loss: 0.0015 - val_accuracy: 0.9914\n",
            "Epoch 175/200\n",
            "134/134 [==============================] - 6s 48ms/step - loss: 0.0044 - accuracy: 0.9929 - val_loss: 0.0016 - val_accuracy: 0.9902\n",
            "Epoch 176/200\n",
            "134/134 [==============================] - 6s 48ms/step - loss: 0.0044 - accuracy: 0.9924 - val_loss: 0.0015 - val_accuracy: 0.9918\n",
            "Epoch 177/200\n",
            "134/134 [==============================] - 6s 47ms/step - loss: 0.0047 - accuracy: 0.9915 - val_loss: 0.0013 - val_accuracy: 0.9926\n",
            "Epoch 178/200\n",
            "134/134 [==============================] - 6s 46ms/step - loss: 0.0044 - accuracy: 0.9924 - val_loss: 0.0013 - val_accuracy: 0.9920\n",
            "Epoch 179/200\n",
            "134/134 [==============================] - 6s 45ms/step - loss: 0.0044 - accuracy: 0.9928 - val_loss: 0.0014 - val_accuracy: 0.9922\n",
            "Epoch 180/200\n",
            "134/134 [==============================] - 6s 46ms/step - loss: 0.0044 - accuracy: 0.9921 - val_loss: 0.0014 - val_accuracy: 0.9914\n",
            "Epoch 181/200\n",
            "134/134 [==============================] - 6s 44ms/step - loss: 0.0045 - accuracy: 0.9919 - val_loss: 0.0013 - val_accuracy: 0.9928\n",
            "Epoch 182/200\n",
            "134/134 [==============================] - 6s 48ms/step - loss: 0.0044 - accuracy: 0.9928 - val_loss: 0.0014 - val_accuracy: 0.9919\n",
            "Epoch 183/200\n",
            "134/134 [==============================] - 6s 47ms/step - loss: 0.0043 - accuracy: 0.9935 - val_loss: 0.0013 - val_accuracy: 0.9924\n",
            "Epoch 184/200\n",
            "134/134 [==============================] - 6s 46ms/step - loss: 0.0044 - accuracy: 0.9920 - val_loss: 0.0014 - val_accuracy: 0.9921\n",
            "Epoch 185/200\n",
            "134/134 [==============================] - 6s 45ms/step - loss: 0.0043 - accuracy: 0.9934 - val_loss: 0.0014 - val_accuracy: 0.9918\n",
            "Epoch 186/200\n",
            "134/134 [==============================] - 6s 44ms/step - loss: 0.0043 - accuracy: 0.9932 - val_loss: 0.0015 - val_accuracy: 0.9911\n",
            "Epoch 187/200\n",
            "134/134 [==============================] - 6s 44ms/step - loss: 0.0042 - accuracy: 0.9930 - val_loss: 0.0015 - val_accuracy: 0.9915\n",
            "Epoch 188/200\n",
            "134/134 [==============================] - 6s 43ms/step - loss: 0.0044 - accuracy: 0.9931 - val_loss: 0.0015 - val_accuracy: 0.9914\n",
            "Epoch 189/200\n",
            "134/134 [==============================] - 6s 45ms/step - loss: 0.0043 - accuracy: 0.9932 - val_loss: 0.0014 - val_accuracy: 0.9913\n",
            "Epoch 190/200\n",
            "134/134 [==============================] - 6s 47ms/step - loss: 0.0043 - accuracy: 0.9929 - val_loss: 0.0016 - val_accuracy: 0.9909\n",
            "Epoch 191/200\n",
            "134/134 [==============================] - 6s 48ms/step - loss: 0.0044 - accuracy: 0.9927 - val_loss: 0.0013 - val_accuracy: 0.9924\n",
            "Epoch 192/200\n",
            "134/134 [==============================] - 6s 47ms/step - loss: 0.0043 - accuracy: 0.9929 - val_loss: 0.0012 - val_accuracy: 0.9929\n",
            "Epoch 193/200\n",
            "134/134 [==============================] - 6s 47ms/step - loss: 0.0043 - accuracy: 0.9931 - val_loss: 0.0013 - val_accuracy: 0.9931\n",
            "Epoch 194/200\n",
            "134/134 [==============================] - 6s 46ms/step - loss: 0.0042 - accuracy: 0.9940 - val_loss: 0.0013 - val_accuracy: 0.9929\n",
            "Epoch 195/200\n",
            "134/134 [==============================] - 6s 46ms/step - loss: 0.0042 - accuracy: 0.9933 - val_loss: 0.0012 - val_accuracy: 0.9933\n",
            "Epoch 196/200\n",
            "134/134 [==============================] - 6s 45ms/step - loss: 0.0044 - accuracy: 0.9928 - val_loss: 0.0012 - val_accuracy: 0.9933\n",
            "Epoch 197/200\n",
            "134/134 [==============================] - 6s 47ms/step - loss: 0.0043 - accuracy: 0.9934 - val_loss: 0.0012 - val_accuracy: 0.9935\n",
            "Epoch 198/200\n",
            "134/134 [==============================] - 6s 47ms/step - loss: 0.0043 - accuracy: 0.9931 - val_loss: 0.0013 - val_accuracy: 0.9925\n",
            "Epoch 199/200\n",
            "134/134 [==============================] - 6s 47ms/step - loss: 0.0042 - accuracy: 0.9934 - val_loss: 0.0014 - val_accuracy: 0.9923\n",
            "Epoch 200/200\n",
            "134/134 [==============================] - 6s 45ms/step - loss: 0.0043 - accuracy: 0.9936 - val_loss: 0.0014 - val_accuracy: 0.9919\n"
          ],
          "name": "stdout"
        }
      ]
    },
    {
      "cell_type": "code",
      "metadata": {
        "id": "k667swgypo-5",
        "colab_type": "code",
        "colab": {
          "base_uri": "https://localhost:8080/",
          "height": 607
        },
        "outputId": "8391c266-6355-48e5-f31a-a5c741d57563"
      },
      "source": [
        "import matplotlib.pyplot as plt\n",
        "acc=history.history['accuracy']\n",
        "val_acc=history.history['val_accuracy']\n",
        "loss=history.history['loss']\n",
        "val_loss=history.history['val_loss']\n",
        "epochs=range(1,len(acc)+1)\n",
        "plt.figure(figsize=(20,10))\n",
        "plt.plot(epochs,acc,'crimson',label='Training acc',linewidth=3)\n",
        "plt.plot(epochs,val_acc,'darkgreen',label='Validation acc',linewidth=3)\n",
        "plt.title(\"training and validation accuracy\")\n",
        "plt.legend()\n",
        "plt.savefig(\"/content/drive/My Drive/amigos_egg_final/data/accuracy_resilt_2.png\")"
      ],
      "execution_count": null,
      "outputs": [
        {
          "output_type": "display_data",
          "data": {
            "image/png": "[encoded data removed]",
            "text/plain": [
              "<Figure size 1440x720 with 1 Axes>"
            ]
          },
          "metadata": {
            "tags": [],
            "needs_background": "light"
          }
        }
      ]
    },
    {
      "cell_type": "code",
      "metadata": {
        "id": "PixLBrZfItCZ",
        "colab_type": "code",
        "colab": {
          "base_uri": "https://localhost:8080/",
          "height": 607
        },
        "outputId": "ac7d3574-b09f-4c7d-e7d1-c8998731dbc2"
      },
      "source": [
        "plt.figure(figsize=(20,10))\n",
        "\n",
        "plt.plot(epochs,loss,'crimson',label='Training loss',linewidth=3)\n",
        "plt.plot(epochs,val_loss,'darkgreen',label='Validation loss',linewidth=3)\n",
        "plt.title(\"training and validation loss\")\n",
        "plt.legend()\n",
        "plt.savefig(\"/content/drive/My Drive/amigos_egg_final/data/loss_2.jpg\")\n",
        "plt.show()"
      ],
      "execution_count": null,
      "outputs": [
        {
          "output_type": "display_data",
          "data": {
            "image/png": "[encoded data removed]",
            "text/plain": [
              "<Figure size 1440x720 with 1 Axes>"
            ]
          },
          "metadata": {
            "tags": [],
            "needs_background": "light"
          }
        }
      ]
    },
    {
      "cell_type": "code",
      "metadata": {
        "id": "Qb9KNwsqI-hA",
        "colab_type": "code",
        "colab": {}
      },
      "source": [
        "model.save(\"/content/drive/My Drive/amigos_egg_final/egg_0_valance.h5\")"
      ],
      "execution_count": null,
      "outputs": []
    },
    {
      "cell_type": "code",
      "metadata": {
        "id": "EFQzzpRaJThc",
        "colab_type": "code",
        "colab": {
          "base_uri": "https://localhost:8080/",
          "height": 166
        },
        "outputId": "4381caff-0a48-4856-b3fb-0bbc79a04949"
      },
      "source": [
        "model.save(\"/content/drive/My Drive/amigos_egg_final/egg_0_valance\")"
      ],
      "execution_count": null,
      "outputs": [
        {
          "output_type": "stream",
          "text": [
            "WARNING:tensorflow:From /usr/local/lib/python3.6/dist-packages/tensorflow/python/training/tracking/tracking.py:111: Model.state_updates (from tensorflow.python.keras.engine.training) is deprecated and will be removed in a future version.\n",
            "Instructions for updating:\n",
            "This property should not be used in TensorFlow 2.0, as updates are applied automatically.\n",
            "WARNING:tensorflow:From /usr/local/lib/python3.6/dist-packages/tensorflow/python/training/tracking/tracking.py:111: Layer.updates (from tensorflow.python.keras.engine.base_layer) is deprecated and will be removed in a future version.\n",
            "Instructions for updating:\n",
            "This property should not be used in TensorFlow 2.0, as updates are applied automatically.\n",
            "INFO:tensorflow:Assets written to: /content/drive/My Drive/amigos_egg_final/egg_0_valance/assets\n"
          ],
          "name": "stdout"
        }
      ]
    },
    {
      "cell_type": "code",
      "metadata": {
        "id": "sJ6cdETaJkwP",
        "colab_type": "code",
        "colab": {
          "base_uri": "https://localhost:8080/",
          "height": 862
        },
        "outputId": "e108efde-7d5c-4ec4-f010-8c9113e83a79"
      },
      "source": [
        "model.summary()"
      ],
      "execution_count": null,
      "outputs": [
        {
          "output_type": "stream",
          "text": [
            "Model: \"sequential\"\n",
            "_________________________________________________________________\n",
            "Layer (type)                 Output Shape              Param #   \n",
            "=================================================================\n",
            "lstm (LSTM)                  (None, None, 512)         1193984   \n",
            "_________________________________________________________________\n",
            "batch_normalization (BatchNo (None, None, 512)         2048      \n",
            "_________________________________________________________________\n",
            "dropout (Dropout)            (None, None, 512)         0         \n",
            "_________________________________________________________________\n",
            "lstm_1 (LSTM)                (None, None, 512)         2099200   \n",
            "_________________________________________________________________\n",
            "batch_normalization_1 (Batch (None, None, 512)         2048      \n",
            "_________________________________________________________________\n",
            "dropout_1 (Dropout)          (None, None, 512)         0         \n",
            "_________________________________________________________________\n",
            "lstm_2 (LSTM)                (None, None, 256)         787456    \n",
            "_________________________________________________________________\n",
            "batch_normalization_2 (Batch (None, None, 256)         1024      \n",
            "_________________________________________________________________\n",
            "dropout_2 (Dropout)          (None, None, 256)         0         \n",
            "_________________________________________________________________\n",
            "lstm_3 (LSTM)                (None, None, 128)         197120    \n",
            "_________________________________________________________________\n",
            "batch_normalization_3 (Batch (None, None, 128)         512       \n",
            "_________________________________________________________________\n",
            "dropout_3 (Dropout)          (None, None, 128)         0         \n",
            "_________________________________________________________________\n",
            "lstm_4 (LSTM)                (None, None, 64)          49408     \n",
            "_________________________________________________________________\n",
            "batch_normalization_4 (Batch (None, None, 64)          256       \n",
            "_________________________________________________________________\n",
            "dropout_4 (Dropout)          (None, None, 64)          0         \n",
            "_________________________________________________________________\n",
            "lstm_5 (LSTM)                (None, 32)                12416     \n",
            "_________________________________________________________________\n",
            "batch_normalization_5 (Batch (None, 32)                128       \n",
            "_________________________________________________________________\n",
            "dropout_5 (Dropout)          (None, 32)                0         \n",
            "_________________________________________________________________\n",
            "dense (Dense)                (None, 10)                330       \n",
            "=================================================================\n",
            "Total params: 4,345,930\n",
            "Trainable params: 4,342,922\n",
            "Non-trainable params: 3,008\n",
            "_________________________________________________________________\n"
          ],
          "name": "stdout"
        }
      ]
    },
    {
      "cell_type": "code",
      "metadata": {
        "id": "3b3vbyJIJojI",
        "colab_type": "code",
        "colab": {}
      },
      "source": [
        "from contextlib import redirect_stdout\n",
        "\n",
        "with open('/content/drive/My Drive/amigos_egg_final/modelsummary.txt', 'w') as f:\n",
        "    with redirect_stdout(f):\n",
        "        model.summary()"
      ],
      "execution_count": null,
      "outputs": []
    },
    {
      "cell_type": "code",
      "metadata": {
        "id": "mqTlT-z2KJ_j",
        "colab_type": "code",
        "colab": {}
      },
      "source": [
        ""
      ],
      "execution_count": null,
      "outputs": []
    }
  ]
}