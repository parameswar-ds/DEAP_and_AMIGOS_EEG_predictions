{
 "metadata": {
  "language_info": {
   "codemirror_mode": {
    "name": "ipython",
    "version": 3
   },
   "file_extension": ".py",
   "mimetype": "text/x-python",
   "name": "python",
   "nbconvert_exporter": "python",
   "pygments_lexer": "ipython3",
   "version": "3.6.8-final"
  },
  "orig_nbformat": 2,
  "kernelspec": {
   "name": "python36864bittestenvconda7e93ded060b54f408a0d32279a00c37d",
   "display_name": "Python 3.6.8 64-bit ('test_env': conda)"
  }
 },
 "nbformat": 4,
 "nbformat_minor": 2,
 "cells": [
  {
   "cell_type": "code",
   "execution_count": 1,
   "metadata": {},
   "outputs": [],
   "source": [
    "import numpy as np\n",
    "\n",
    "import pickle as pickle\n",
    "import pandas as pd\n",
    "import pyeeg as pe"
   ]
  },
  {
   "cell_type": "code",
   "execution_count": 2,
   "metadata": {},
   "outputs": [],
   "source": [
    "channel = [36] #14 Channels chosen to fit Emotiv Epoch+\n",
    "band = [4,8,12,16,25,45] #5 bands\n",
    "window_size = 256 #Averaging band power of 2 sec\n",
    "step_size = 16 #Each 0.125 sec update once\n",
    "sample_rate = 70 #Sampling rate of 128 Hz\n",
    "subjectList = ['01','02','03']"
   ]
  },
  {
   "cell_type": "code",
   "execution_count": 3,
   "metadata": {},
   "outputs": [],
   "source": [
    "from sklearn.preprocessing import normalize\n"
   ]
  },
  {
   "cell_type": "code",
   "execution_count": 4,
   "metadata": {},
   "outputs": [],
   "source": [
    "def FFT_Processing (sub, channel, band, window_size, step_size, sample_rate):\n",
    "\n",
    "    '''\n",
    "    arguments:  string subject\n",
    "                list channel indice\n",
    "                list band\n",
    "                int window size for FFT\n",
    "                int step size for FFT\n",
    "                int sample rate for FFT\n",
    "    return:     void\n",
    "    '''\n",
    "    meta = []\n",
    "    with open('/home/parameswar/Documents/Anukai solutions/projects/DEAP project/data_preprocessed_python/s' + sub + '.dat', 'rb') as file:\n",
    "\n",
    "        subject = pickle.load(file, encoding='latin1') #resolve the python 2 data problem by encoding : latin1\n",
    "\n",
    "        for i in range (0,39):\n",
    "            # loop over 0-39 trails\n",
    "            data = subject[\"data\"][i]\n",
    "            data[36]=(data[36]-min(data[36]))/(max(data[36])-min(data[36]))\n",
    "            if i==0:\n",
    "                # data[36]=(data[36]-min(data[36]))/(max(data[36])-min(data[36]))\n",
    "                print(data[36])\n",
    "            labels = subject[\"labels\"][i]\n",
    "            start = 0;\n",
    "\n",
    "            while start + window_size < data.shape[1]:\n",
    "                meta_array = []\n",
    "                meta_data = [] #meta vector for analysis\n",
    "                for j in channel:\n",
    "                    X = data[j][start : start + window_size] #Slice raw data over 2 sec, at interval of 0.125 sec\n",
    "                    Y = pe.bin_power(X, band, sample_rate) #FFT over 2 sec of channel j, in seq of theta, alpha, low beta, high beta, gamma\n",
    "                    meta_data = meta_data + list(Y[0])\n",
    "\n",
    "                meta_array.append(np.array(meta_data))\n",
    "                meta_array.append(labels)\n",
    "\n",
    "                meta.append(np.array(meta_array))    \n",
    "                start = start + step_size\n",
    "                \n",
    "        meta = np.array(meta)\n",
    "        np.save('/home/parameswar/Documents/Anukai solutions/projects/DEAP project/data_preprocessed_python/out_gsr_deap/s' + sub, meta, allow_pickle=True, fix_imports=True)"
   ]
  },
  {
   "cell_type": "code",
   "execution_count": 5,
   "metadata": {
    "tags": []
   },
   "outputs": [
    {
     "output_type": "stream",
     "name": "stdout",
     "text": "[0.24751048 0.24950213 0.24950213 ... 0.18509206 0.18509206 0.18509206]\n[0.11221613 0.11221613 0.12468902 ... 0.24946671 0.24322572 0.24322572]\n[0.76684949 0.76684949 0.76684949 ... 0.99939557 0.99947112 1.        ]\n"
    }
   ],
   "source": [
    "for subjects in subjectList:\n",
    "    FFT_Processing (subjects, channel, band, window_size, step_size, sample_rate)"
   ]
  },
  {
   "cell_type": "code",
   "execution_count": 6,
   "metadata": {},
   "outputs": [],
   "source": [
    "data= []\n",
    "label = []\n",
    "for subjects in subjectList:\n",
    "  \n",
    "\n",
    "    with open('/home/parameswar/Documents/Anukai solutions/projects/DEAP project/data_preprocessed_python/out_gsr_deap/s' + subjects + '.npy', 'rb') as file:\n",
    "        sub = np.load(file,allow_pickle=True)\n",
    "        for i in range (0,sub.shape[0]):\n",
    "          data.append(sub[i][0])\n",
    "          label.append(sub[i][1])\n",
    "np.save('data', np.array(data), allow_pickle=True, fix_imports=True)\n",
    "np.save('label', np.array(label), allow_pickle=True, fix_imports=True)"
   ]
  },
  {
   "cell_type": "code",
   "execution_count": 7,
   "metadata": {},
   "outputs": [
    {
     "output_type": "execute_result",
     "data": {
      "text/plain": "57096"
     },
     "metadata": {},
     "execution_count": 7
    }
   ],
   "source": [
    "len(data)\n"
   ]
  },
  {
   "cell_type": "code",
   "execution_count": 8,
   "metadata": {},
   "outputs": [
    {
     "output_type": "execute_result",
     "data": {
      "text/plain": "57096"
     },
     "metadata": {},
     "execution_count": 8
    }
   ],
   "source": [
    "len(label)"
   ]
  },
  {
   "cell_type": "code",
   "execution_count": 9,
   "metadata": {},
   "outputs": [
    {
     "output_type": "execute_result",
     "data": {
      "text/plain": "array([2.1734024 , 1.18920276, 0.93530511, 1.54353867, 2.77178679])"
     },
     "metadata": {},
     "execution_count": 9
    }
   ],
   "source": [
    "data[0]"
   ]
  },
  {
   "cell_type": "code",
   "execution_count": 10,
   "metadata": {},
   "outputs": [],
   "source": [
    "l=[[label[i][0]] for i in range(len(label))]"
   ]
  },
  {
   "cell_type": "code",
   "execution_count": 11,
   "metadata": {},
   "outputs": [
    {
     "output_type": "execute_result",
     "data": {
      "text/plain": "57096"
     },
     "metadata": {},
     "execution_count": 11
    }
   ],
   "source": [
    "len(l)"
   ]
  },
  {
   "cell_type": "code",
   "execution_count": 12,
   "metadata": {},
   "outputs": [],
   "source": [
    "l=np.array(l)"
   ]
  },
  {
   "cell_type": "code",
   "execution_count": 13,
   "metadata": {},
   "outputs": [
    {
     "output_type": "execute_result",
     "data": {
      "text/plain": "57096"
     },
     "metadata": {},
     "execution_count": 13
    }
   ],
   "source": [
    "len(l)"
   ]
  },
  {
   "cell_type": "code",
   "execution_count": 14,
   "metadata": {},
   "outputs": [
    {
     "output_type": "execute_result",
     "data": {
      "text/plain": "array([7.71])"
     },
     "metadata": {},
     "execution_count": 14
    }
   ],
   "source": [
    "l[0]"
   ]
  },
  {
   "cell_type": "code",
   "execution_count": 15,
   "metadata": {},
   "outputs": [],
   "source": [
    "df=pd.DataFrame(data=data)\n",
    "df.to_csv(\"/home/parameswar/Documents/Anukai solutions/projects/DEAP project/data_preprocessed_python/out_gsr_deap/data.csv\",index=False)\n",
    "\n",
    "df1=pd.DataFrame(data=l)\n",
    "df1.to_csv(\"/home/parameswar/Documents/Anukai solutions/projects/DEAP project/data_preprocessed_python/out_gsr_deap/label.csv\",index=False)"
   ]
  },
  {
   "cell_type": "code",
   "execution_count": 16,
   "metadata": {},
   "outputs": [],
   "source": [
    "data1=pd.read_csv(\"/home/parameswar/Documents/Anukai solutions/projects/DEAP project/data_preprocessed_python/out_gsr_deap/data.csv\")\n"
   ]
  },
  {
   "cell_type": "code",
   "execution_count": 17,
   "metadata": {},
   "outputs": [
    {
     "output_type": "execute_result",
     "data": {
      "text/plain": "          0         1         2         3         4\n0  2.173402  1.189203  0.935305  1.543539  2.771787\n1  2.159191  1.183095  0.936134  1.517083  2.715917\n2  2.254652  1.217000  0.959434  1.564887  2.776398\n3  2.328341  1.270484  0.990674  1.629562  2.878108\n4  2.439677  1.328956  1.046384  1.698458  3.034561",
      "text/html": "<div>\n<style scoped>\n    .dataframe tbody tr th:only-of-type {\n        vertical-align: middle;\n    }\n\n    .dataframe tbody tr th {\n        vertical-align: top;\n    }\n\n    .dataframe thead th {\n        text-align: right;\n    }\n</style>\n<table border=\"1\" class=\"dataframe\">\n  <thead>\n    <tr style=\"text-align: right;\">\n      <th></th>\n      <th>0</th>\n      <th>1</th>\n      <th>2</th>\n      <th>3</th>\n      <th>4</th>\n    </tr>\n  </thead>\n  <tbody>\n    <tr>\n      <th>0</th>\n      <td>2.173402</td>\n      <td>1.189203</td>\n      <td>0.935305</td>\n      <td>1.543539</td>\n      <td>2.771787</td>\n    </tr>\n    <tr>\n      <th>1</th>\n      <td>2.159191</td>\n      <td>1.183095</td>\n      <td>0.936134</td>\n      <td>1.517083</td>\n      <td>2.715917</td>\n    </tr>\n    <tr>\n      <th>2</th>\n      <td>2.254652</td>\n      <td>1.217000</td>\n      <td>0.959434</td>\n      <td>1.564887</td>\n      <td>2.776398</td>\n    </tr>\n    <tr>\n      <th>3</th>\n      <td>2.328341</td>\n      <td>1.270484</td>\n      <td>0.990674</td>\n      <td>1.629562</td>\n      <td>2.878108</td>\n    </tr>\n    <tr>\n      <th>4</th>\n      <td>2.439677</td>\n      <td>1.328956</td>\n      <td>1.046384</td>\n      <td>1.698458</td>\n      <td>3.034561</td>\n    </tr>\n  </tbody>\n</table>\n</div>"
     },
     "metadata": {},
     "execution_count": 17
    }
   ],
   "source": [
    "data1.head()"
   ]
  },
  {
   "cell_type": "code",
   "execution_count": 18,
   "metadata": {},
   "outputs": [],
   "source": [
    "label1=pd.read_csv(\"/home/parameswar/Documents/Anukai solutions/projects/DEAP project/data_preprocessed_python/out_gsr_deap/label.csv\")\n"
   ]
  },
  {
   "cell_type": "code",
   "execution_count": 19,
   "metadata": {},
   "outputs": [
    {
     "output_type": "execute_result",
     "data": {
      "text/plain": "(57096, 1)"
     },
     "metadata": {},
     "execution_count": 19
    }
   ],
   "source": [
    "label1.shape"
   ]
  },
  {
   "cell_type": "code",
   "execution_count": 20,
   "metadata": {},
   "outputs": [],
   "source": [
    "channel = [16] #14 Channels chosen to fit Emotiv Epoch+\n",
    "band = [4,8,12,16,25,45] #5 bands\n",
    "window_size = 256 #Averaging band power of 2 sec\n",
    "step_size = 16 #Each 0.125 sec update once\n",
    "sample_rate = 70 #Sampling rate of 128 Hz\n",
    "subjectList = ['1','2','3']"
   ]
  },
  {
   "cell_type": "code",
   "execution_count": 21,
   "metadata": {},
   "outputs": [],
   "source": [
    "from sklearn.preprocessing import normalize"
   ]
  },
  {
   "cell_type": "code",
   "execution_count": 22,
   "metadata": {},
   "outputs": [],
   "source": [
    "def FFT_Processing (sub, channel, band, window_size, step_size, sample_rate):\n",
    "    '''\n",
    "    arguments:  string subject\n",
    "                list channel indice\n",
    "                list band\n",
    "                int window size for FFT\n",
    "                int step size for FFT\n",
    "                int sample rate for FFT\n",
    "    return:     void\n",
    "    '''\n",
    "    meta = []\n",
    "    for i in sub:\n",
    "        print(\"i:\",i)\n",
    "        l=pd.read_csv(f\"/home/parameswar/Documents/Anukai solutions/projects/DEAP project/Amigos /data_pre_p/p_{i}/labels_{i}.csv\")\n",
    "        l=np.array(l)\n",
    "        for j in range (1,21):\n",
    "            print(\"vds:\",j)\n",
    "            subject=pd.read_csv(f\"/home/parameswar/Documents/Anukai solutions/projects/DEAP project/Amigos /data_pre_p/p_{i}/joined_data_{str(j)}.csv\")\n",
    "            subject=np.array(subject)\n",
    "            subject=subject.transpose()\n",
    "            data=subject\n",
    "            data[16]=(data[16]-min(data[16]))/(max(data[16])-min(data[16]))\n",
    "            if j==0:\n",
    "                print(data[16])\n",
    "            # loop over 0-39 trails\n",
    "            #data = subject[\"data\"][i]\n",
    "            labels = l[j-1]\n",
    "            start = 0;\n",
    "\n",
    "            while start + window_size < data.shape[1]:\n",
    "                meta_array = []\n",
    "                meta_data = [] #meta vector for analysis\n",
    "                for j in channel:\n",
    "                    X = data[j][start : start + window_size] #Slice raw data over 2 sec, at interval of 0.125 sec\n",
    "                    Y = pe.bin_power(X, band, sample_rate) #FFT over 2 sec of channel j, in seq of theta, alpha, low beta, high beta, gamma\n",
    "                    meta_data = meta_data + list(Y[0])\n",
    "\n",
    "                meta_array.append(np.array(meta_data))\n",
    "                meta_array.append(labels)\n",
    "\n",
    "                meta.append(np.array(meta_array))    \n",
    "                start = start + step_size\n",
    "                    \n",
    "        meta = np.array(meta)\n",
    "        np.save('/home/parameswar/Documents/Anukai solutions/projects/DEAP project/data_preprocessed_python/out_gsr_amigos/s' + sub, meta, allow_pickle=True, fix_imports=True)"
   ]
  },
  {
   "cell_type": "code",
   "execution_count": 23,
   "metadata": {
    "tags": []
   },
   "outputs": [
    {
     "output_type": "stream",
     "name": "stdout",
     "text": "i: 1\nvds: 1\nvds: 2\nvds: 3\nvds: 4\nvds: 5\nvds: 6\nvds: 7\nvds: 8\nvds: 9\nvds: 10\nvds: 11\nvds: 12\nvds: 13\nvds: 14\nvds: 15\nvds: 16\nvds: 17\nvds: 18\nvds: 19\nvds: 20\ni: 2\nvds: 1\nvds: 2\nvds: 3\nvds: 4\nvds: 5\nvds: 6\nvds: 7\nvds: 8\nvds: 9\nvds: 10\nvds: 11\nvds: 12\nvds: 13\nvds: 14\nvds: 15\nvds: 16\nvds: 17\nvds: 18\nvds: 19\nvds: 20\ni: 3\nvds: 1\nvds: 2\nvds: 3\nvds: 4\nvds: 5\nvds: 6\nvds: 7\nvds: 8\nvds: 9\nvds: 10\nvds: 11\nvds: 12\nvds: 13\nvds: 14\nvds: 15\nvds: 16\nvds: 17\nvds: 18\nvds: 19\nvds: 20\n"
    }
   ],
   "source": [
    "for subjects in subjectList:\n",
    "    FFT_Processing (subjects, channel, band, window_size, step_size, sample_rate)"
   ]
  },
  {
   "cell_type": "code",
   "execution_count": 24,
   "metadata": {},
   "outputs": [],
   "source": [
    "data= []\n",
    "label = []\n",
    "for subjects in subjectList:\n",
    "  \n",
    "\n",
    "    with open('/home/parameswar/Documents/Anukai solutions/projects/DEAP project/data_preprocessed_python/out_gsr_amigos/s' + subjects + '.npy', 'rb') as file:\n",
    "        sub = np.load(file,allow_pickle=True)\n",
    "        for i in range (0,sub.shape[0]):\n",
    "          data.append(sub[i][0])\n",
    "          label.append(sub[i][1])\n",
    "np.save('data', np.array(data), allow_pickle=True, fix_imports=True)\n",
    "np.save('label', np.array(label), allow_pickle=True, fix_imports=True)"
   ]
  },
  {
   "cell_type": "code",
   "execution_count": 25,
   "metadata": {},
   "outputs": [
    {
     "output_type": "execute_result",
     "data": {
      "text/plain": "149844"
     },
     "metadata": {},
     "execution_count": 25
    }
   ],
   "source": [
    "len(data)"
   ]
  },
  {
   "cell_type": "code",
   "execution_count": 26,
   "metadata": {},
   "outputs": [
    {
     "output_type": "execute_result",
     "data": {
      "text/plain": "149844"
     },
     "metadata": {},
     "execution_count": 26
    }
   ],
   "source": [
    "len(label)"
   ]
  },
  {
   "cell_type": "code",
   "execution_count": 27,
   "metadata": {},
   "outputs": [
    {
     "output_type": "execute_result",
     "data": {
      "text/plain": "array([43.68626285, 24.76042935,  8.33087514, 20.37362737, 31.26121944])"
     },
     "metadata": {},
     "execution_count": 27
    }
   ],
   "source": [
    "data[0]"
   ]
  },
  {
   "cell_type": "code",
   "execution_count": 28,
   "metadata": {},
   "outputs": [
    {
     "output_type": "execute_result",
     "data": {
      "text/plain": "array([2.938568, 5.      , 8.235496, 1.      , 1.      , 1.      ,\n       0.      , 0.      , 0.      , 0.      , 0.      , 0.      ])"
     },
     "metadata": {},
     "execution_count": 28
    }
   ],
   "source": [
    "label[0]"
   ]
  },
  {
   "cell_type": "code",
   "execution_count": 29,
   "metadata": {},
   "outputs": [
    {
     "output_type": "execute_result",
     "data": {
      "text/plain": "5.0"
     },
     "metadata": {},
     "execution_count": 29
    }
   ],
   "source": [
    "label[0][1]"
   ]
  },
  {
   "cell_type": "code",
   "execution_count": 30,
   "metadata": {},
   "outputs": [],
   "source": [
    "l=[[label[i][1]] for i in range(len(label))]"
   ]
  },
  {
   "cell_type": "code",
   "execution_count": 31,
   "metadata": {},
   "outputs": [],
   "source": [
    "l=np.array(l)"
   ]
  },
  {
   "cell_type": "code",
   "execution_count": 32,
   "metadata": {},
   "outputs": [
    {
     "output_type": "execute_result",
     "data": {
      "text/plain": "(149844, 1)"
     },
     "metadata": {},
     "execution_count": 32
    }
   ],
   "source": [
    "l.shape"
   ]
  },
  {
   "cell_type": "code",
   "execution_count": 33,
   "metadata": {},
   "outputs": [],
   "source": [
    "df=pd.DataFrame(data=data)\n",
    "df.to_csv(\"/home/parameswar/Documents/Anukai solutions/projects/DEAP project/data_preprocessed_python/out_gsr_amigos/data.csv\",index=False)\n",
    "\n",
    "df1=pd.DataFrame(data=l)\n",
    "df1.to_csv(\"/home/parameswar/Documents/Anukai solutions/projects/DEAP project/data_preprocessed_python/out_gsr_amigos/label.csv\",index=False)"
   ]
  },
  {
   "cell_type": "code",
   "execution_count": 34,
   "metadata": {},
   "outputs": [],
   "source": [
    "d_amigos=pd.read_csv(\"/home/parameswar/Documents/Anukai solutions/projects/DEAP project/data_preprocessed_python/out_gsr_amigos/data.csv\")\n",
    "d_deap=pd.read_csv(\"/home/parameswar/Documents/Anukai solutions/projects/DEAP project/data_preprocessed_python/out_gsr_deap/data.csv\")"
   ]
  },
  {
   "cell_type": "code",
   "execution_count": 35,
   "metadata": {},
   "outputs": [],
   "source": [
    "l_amigos=pd.read_csv(\"/home/parameswar/Documents/Anukai solutions/projects/DEAP project/data_preprocessed_python/out_gsr_amigos/label.csv\")\n",
    "l_deap=pd.read_csv(\"/home/parameswar/Documents/Anukai solutions/projects/DEAP project/data_preprocessed_python/out_gsr_deap/label.csv\")"
   ]
  },
  {
   "cell_type": "code",
   "execution_count": 36,
   "metadata": {},
   "outputs": [
    {
     "output_type": "execute_result",
     "data": {
      "text/plain": "           0          1         2          3          4\n0  43.686263  24.760429  8.330875  20.373627  31.261219\n1   1.179181   0.646162  0.489928   0.840203   1.471400\n2   0.803747   0.446868  0.404655   0.650560   1.028420\n3   0.347206   0.208261  0.184850   0.324653   0.399799\n4   0.198325   0.116385  0.125306   0.253470   0.186986",
      "text/html": "<div>\n<style scoped>\n    .dataframe tbody tr th:only-of-type {\n        vertical-align: middle;\n    }\n\n    .dataframe tbody tr th {\n        vertical-align: top;\n    }\n\n    .dataframe thead th {\n        text-align: right;\n    }\n</style>\n<table border=\"1\" class=\"dataframe\">\n  <thead>\n    <tr style=\"text-align: right;\">\n      <th></th>\n      <th>0</th>\n      <th>1</th>\n      <th>2</th>\n      <th>3</th>\n      <th>4</th>\n    </tr>\n  </thead>\n  <tbody>\n    <tr>\n      <th>0</th>\n      <td>43.686263</td>\n      <td>24.760429</td>\n      <td>8.330875</td>\n      <td>20.373627</td>\n      <td>31.261219</td>\n    </tr>\n    <tr>\n      <th>1</th>\n      <td>1.179181</td>\n      <td>0.646162</td>\n      <td>0.489928</td>\n      <td>0.840203</td>\n      <td>1.471400</td>\n    </tr>\n    <tr>\n      <th>2</th>\n      <td>0.803747</td>\n      <td>0.446868</td>\n      <td>0.404655</td>\n      <td>0.650560</td>\n      <td>1.028420</td>\n    </tr>\n    <tr>\n      <th>3</th>\n      <td>0.347206</td>\n      <td>0.208261</td>\n      <td>0.184850</td>\n      <td>0.324653</td>\n      <td>0.399799</td>\n    </tr>\n    <tr>\n      <th>4</th>\n      <td>0.198325</td>\n      <td>0.116385</td>\n      <td>0.125306</td>\n      <td>0.253470</td>\n      <td>0.186986</td>\n    </tr>\n  </tbody>\n</table>\n</div>"
     },
     "metadata": {},
     "execution_count": 36
    }
   ],
   "source": [
    "d_amigos.head()"
   ]
  },
  {
   "cell_type": "code",
   "execution_count": 37,
   "metadata": {},
   "outputs": [
    {
     "output_type": "execute_result",
     "data": {
      "text/plain": "          0         1         2         3         4\n0  2.173402  1.189203  0.935305  1.543539  2.771787\n1  2.159191  1.183095  0.936134  1.517083  2.715917\n2  2.254652  1.217000  0.959434  1.564887  2.776398\n3  2.328341  1.270484  0.990674  1.629562  2.878108\n4  2.439677  1.328956  1.046384  1.698458  3.034561",
      "text/html": "<div>\n<style scoped>\n    .dataframe tbody tr th:only-of-type {\n        vertical-align: middle;\n    }\n\n    .dataframe tbody tr th {\n        vertical-align: top;\n    }\n\n    .dataframe thead th {\n        text-align: right;\n    }\n</style>\n<table border=\"1\" class=\"dataframe\">\n  <thead>\n    <tr style=\"text-align: right;\">\n      <th></th>\n      <th>0</th>\n      <th>1</th>\n      <th>2</th>\n      <th>3</th>\n      <th>4</th>\n    </tr>\n  </thead>\n  <tbody>\n    <tr>\n      <th>0</th>\n      <td>2.173402</td>\n      <td>1.189203</td>\n      <td>0.935305</td>\n      <td>1.543539</td>\n      <td>2.771787</td>\n    </tr>\n    <tr>\n      <th>1</th>\n      <td>2.159191</td>\n      <td>1.183095</td>\n      <td>0.936134</td>\n      <td>1.517083</td>\n      <td>2.715917</td>\n    </tr>\n    <tr>\n      <th>2</th>\n      <td>2.254652</td>\n      <td>1.217000</td>\n      <td>0.959434</td>\n      <td>1.564887</td>\n      <td>2.776398</td>\n    </tr>\n    <tr>\n      <th>3</th>\n      <td>2.328341</td>\n      <td>1.270484</td>\n      <td>0.990674</td>\n      <td>1.629562</td>\n      <td>2.878108</td>\n    </tr>\n    <tr>\n      <th>4</th>\n      <td>2.439677</td>\n      <td>1.328956</td>\n      <td>1.046384</td>\n      <td>1.698458</td>\n      <td>3.034561</td>\n    </tr>\n  </tbody>\n</table>\n</div>"
     },
     "metadata": {},
     "execution_count": 37
    }
   ],
   "source": [
    "d_deap.head()"
   ]
  },
  {
   "cell_type": "code",
   "execution_count": 38,
   "metadata": {},
   "outputs": [
    {
     "output_type": "execute_result",
     "data": {
      "text/plain": "     0\n0  5.0\n1  5.0\n2  5.0\n3  5.0\n4  5.0",
      "text/html": "<div>\n<style scoped>\n    .dataframe tbody tr th:only-of-type {\n        vertical-align: middle;\n    }\n\n    .dataframe tbody tr th {\n        vertical-align: top;\n    }\n\n    .dataframe thead th {\n        text-align: right;\n    }\n</style>\n<table border=\"1\" class=\"dataframe\">\n  <thead>\n    <tr style=\"text-align: right;\">\n      <th></th>\n      <th>0</th>\n    </tr>\n  </thead>\n  <tbody>\n    <tr>\n      <th>0</th>\n      <td>5.0</td>\n    </tr>\n    <tr>\n      <th>1</th>\n      <td>5.0</td>\n    </tr>\n    <tr>\n      <th>2</th>\n      <td>5.0</td>\n    </tr>\n    <tr>\n      <th>3</th>\n      <td>5.0</td>\n    </tr>\n    <tr>\n      <th>4</th>\n      <td>5.0</td>\n    </tr>\n  </tbody>\n</table>\n</div>"
     },
     "metadata": {},
     "execution_count": 38
    }
   ],
   "source": [
    "l_amigos.head()"
   ]
  },
  {
   "cell_type": "code",
   "execution_count": 39,
   "metadata": {},
   "outputs": [
    {
     "output_type": "execute_result",
     "data": {
      "text/plain": "      0\n0  7.71\n1  7.71\n2  7.71\n3  7.71\n4  7.71",
      "text/html": "<div>\n<style scoped>\n    .dataframe tbody tr th:only-of-type {\n        vertical-align: middle;\n    }\n\n    .dataframe tbody tr th {\n        vertical-align: top;\n    }\n\n    .dataframe thead th {\n        text-align: right;\n    }\n</style>\n<table border=\"1\" class=\"dataframe\">\n  <thead>\n    <tr style=\"text-align: right;\">\n      <th></th>\n      <th>0</th>\n    </tr>\n  </thead>\n  <tbody>\n    <tr>\n      <th>0</th>\n      <td>7.71</td>\n    </tr>\n    <tr>\n      <th>1</th>\n      <td>7.71</td>\n    </tr>\n    <tr>\n      <th>2</th>\n      <td>7.71</td>\n    </tr>\n    <tr>\n      <th>3</th>\n      <td>7.71</td>\n    </tr>\n    <tr>\n      <th>4</th>\n      <td>7.71</td>\n    </tr>\n  </tbody>\n</table>\n</div>"
     },
     "metadata": {},
     "execution_count": 39
    }
   ],
   "source": [
    "l_deap.head()"
   ]
  },
  {
   "cell_type": "code",
   "execution_count": 40,
   "metadata": {},
   "outputs": [
    {
     "output_type": "execute_result",
     "data": {
      "text/plain": "pandas.core.frame.DataFrame"
     },
     "metadata": {},
     "execution_count": 40
    }
   ],
   "source": [
    "type(d_amigos)\n"
   ]
  },
  {
   "cell_type": "code",
   "execution_count": 41,
   "metadata": {},
   "outputs": [],
   "source": [
    "frames = [d_deap, d_amigos]"
   ]
  },
  {
   "cell_type": "code",
   "execution_count": 42,
   "metadata": {},
   "outputs": [],
   "source": [
    "data=pd.concat(frames)"
   ]
  },
  {
   "cell_type": "code",
   "execution_count": 43,
   "metadata": {},
   "outputs": [
    {
     "output_type": "execute_result",
     "data": {
      "text/plain": "pandas.core.frame.DataFrame"
     },
     "metadata": {},
     "execution_count": 43
    }
   ],
   "source": [
    "type(data)"
   ]
  },
  {
   "cell_type": "code",
   "execution_count": 44,
   "metadata": {},
   "outputs": [],
   "source": [
    "data.to_csv(\"/home/parameswar/Documents/Anukai solutions/projects/DEAP project/data_preprocessed_python/out/data.csv\")"
   ]
  },
  {
   "cell_type": "code",
   "execution_count": 45,
   "metadata": {},
   "outputs": [],
   "source": [
    "f=[l_deap,l_amigos]"
   ]
  },
  {
   "cell_type": "code",
   "execution_count": 46,
   "metadata": {},
   "outputs": [],
   "source": [
    "label=pd.concat(f)"
   ]
  },
  {
   "cell_type": "code",
   "execution_count": 47,
   "metadata": {},
   "outputs": [
    {
     "output_type": "execute_result",
     "data": {
      "text/plain": "pandas.core.frame.DataFrame"
     },
     "metadata": {},
     "execution_count": 47
    }
   ],
   "source": [
    "type(label)"
   ]
  },
  {
   "cell_type": "code",
   "execution_count": 48,
   "metadata": {},
   "outputs": [],
   "source": [
    "label.to_csv(\"/home/parameswar/Documents/Anukai solutions/projects/DEAP project/data_preprocessed_python/out/label.csv\")"
   ]
  },
  {
   "cell_type": "code",
   "execution_count": 49,
   "metadata": {},
   "outputs": [
    {
     "output_type": "execute_result",
     "data": {
      "text/plain": "           0\n0       7.71\n1       7.71\n2       7.71\n3       7.71\n4       7.71\n5       7.71\n6       7.71\n7       7.71\n8       7.71\n9       7.71\n10      7.71\n11      7.71\n12      7.71\n13      7.71\n14      7.71\n15      7.71\n16      7.71\n17      7.71\n18      7.71\n19      7.71\n20      7.71\n21      7.71\n22      7.71\n23      7.71\n24      7.71\n25      7.71\n26      7.71\n27      7.71\n28      7.71\n29      7.71\n...      ...\n149814  7.00\n149815  7.00\n149816  7.00\n149817  7.00\n149818  7.00\n149819  7.00\n149820  7.00\n149821  7.00\n149822  7.00\n149823  7.00\n149824  7.00\n149825  7.00\n149826  7.00\n149827  7.00\n149828  7.00\n149829  7.00\n149830  7.00\n149831  7.00\n149832  7.00\n149833  7.00\n149834  7.00\n149835  7.00\n149836  7.00\n149837  7.00\n149838  7.00\n149839  7.00\n149840  7.00\n149841  7.00\n149842  7.00\n149843  7.00\n\n[206940 rows x 1 columns]",
      "text/html": "<div>\n<style scoped>\n    .dataframe tbody tr th:only-of-type {\n        vertical-align: middle;\n    }\n\n    .dataframe tbody tr th {\n        vertical-align: top;\n    }\n\n    .dataframe thead th {\n        text-align: right;\n    }\n</style>\n<table border=\"1\" class=\"dataframe\">\n  <thead>\n    <tr style=\"text-align: right;\">\n      <th></th>\n      <th>0</th>\n    </tr>\n  </thead>\n  <tbody>\n    <tr>\n      <th>0</th>\n      <td>7.71</td>\n    </tr>\n    <tr>\n      <th>1</th>\n      <td>7.71</td>\n    </tr>\n    <tr>\n      <th>2</th>\n      <td>7.71</td>\n    </tr>\n    <tr>\n      <th>3</th>\n      <td>7.71</td>\n    </tr>\n    <tr>\n      <th>4</th>\n      <td>7.71</td>\n    </tr>\n    <tr>\n      <th>5</th>\n      <td>7.71</td>\n    </tr>\n    <tr>\n      <th>6</th>\n      <td>7.71</td>\n    </tr>\n    <tr>\n      <th>7</th>\n      <td>7.71</td>\n    </tr>\n    <tr>\n      <th>8</th>\n      <td>7.71</td>\n    </tr>\n    <tr>\n      <th>9</th>\n      <td>7.71</td>\n    </tr>\n    <tr>\n      <th>10</th>\n      <td>7.71</td>\n    </tr>\n    <tr>\n      <th>11</th>\n      <td>7.71</td>\n    </tr>\n    <tr>\n      <th>12</th>\n      <td>7.71</td>\n    </tr>\n    <tr>\n      <th>13</th>\n      <td>7.71</td>\n    </tr>\n    <tr>\n      <th>14</th>\n      <td>7.71</td>\n    </tr>\n    <tr>\n      <th>15</th>\n      <td>7.71</td>\n    </tr>\n    <tr>\n      <th>16</th>\n      <td>7.71</td>\n    </tr>\n    <tr>\n      <th>17</th>\n      <td>7.71</td>\n    </tr>\n    <tr>\n      <th>18</th>\n      <td>7.71</td>\n    </tr>\n    <tr>\n      <th>19</th>\n      <td>7.71</td>\n    </tr>\n    <tr>\n      <th>20</th>\n      <td>7.71</td>\n    </tr>\n    <tr>\n      <th>21</th>\n      <td>7.71</td>\n    </tr>\n    <tr>\n      <th>22</th>\n      <td>7.71</td>\n    </tr>\n    <tr>\n      <th>23</th>\n      <td>7.71</td>\n    </tr>\n    <tr>\n      <th>24</th>\n      <td>7.71</td>\n    </tr>\n    <tr>\n      <th>25</th>\n      <td>7.71</td>\n    </tr>\n    <tr>\n      <th>26</th>\n      <td>7.71</td>\n    </tr>\n    <tr>\n      <th>27</th>\n      <td>7.71</td>\n    </tr>\n    <tr>\n      <th>28</th>\n      <td>7.71</td>\n    </tr>\n    <tr>\n      <th>29</th>\n      <td>7.71</td>\n    </tr>\n    <tr>\n      <th>...</th>\n      <td>...</td>\n    </tr>\n    <tr>\n      <th>149814</th>\n      <td>7.00</td>\n    </tr>\n    <tr>\n      <th>149815</th>\n      <td>7.00</td>\n    </tr>\n    <tr>\n      <th>149816</th>\n      <td>7.00</td>\n    </tr>\n    <tr>\n      <th>149817</th>\n      <td>7.00</td>\n    </tr>\n    <tr>\n      <th>149818</th>\n      <td>7.00</td>\n    </tr>\n    <tr>\n      <th>149819</th>\n      <td>7.00</td>\n    </tr>\n    <tr>\n      <th>149820</th>\n      <td>7.00</td>\n    </tr>\n    <tr>\n      <th>149821</th>\n      <td>7.00</td>\n    </tr>\n    <tr>\n      <th>149822</th>\n      <td>7.00</td>\n    </tr>\n    <tr>\n      <th>149823</th>\n      <td>7.00</td>\n    </tr>\n    <tr>\n      <th>149824</th>\n      <td>7.00</td>\n    </tr>\n    <tr>\n      <th>149825</th>\n      <td>7.00</td>\n    </tr>\n    <tr>\n      <th>149826</th>\n      <td>7.00</td>\n    </tr>\n    <tr>\n      <th>149827</th>\n      <td>7.00</td>\n    </tr>\n    <tr>\n      <th>149828</th>\n      <td>7.00</td>\n    </tr>\n    <tr>\n      <th>149829</th>\n      <td>7.00</td>\n    </tr>\n    <tr>\n      <th>149830</th>\n      <td>7.00</td>\n    </tr>\n    <tr>\n      <th>149831</th>\n      <td>7.00</td>\n    </tr>\n    <tr>\n      <th>149832</th>\n      <td>7.00</td>\n    </tr>\n    <tr>\n      <th>149833</th>\n      <td>7.00</td>\n    </tr>\n    <tr>\n      <th>149834</th>\n      <td>7.00</td>\n    </tr>\n    <tr>\n      <th>149835</th>\n      <td>7.00</td>\n    </tr>\n    <tr>\n      <th>149836</th>\n      <td>7.00</td>\n    </tr>\n    <tr>\n      <th>149837</th>\n      <td>7.00</td>\n    </tr>\n    <tr>\n      <th>149838</th>\n      <td>7.00</td>\n    </tr>\n    <tr>\n      <th>149839</th>\n      <td>7.00</td>\n    </tr>\n    <tr>\n      <th>149840</th>\n      <td>7.00</td>\n    </tr>\n    <tr>\n      <th>149841</th>\n      <td>7.00</td>\n    </tr>\n    <tr>\n      <th>149842</th>\n      <td>7.00</td>\n    </tr>\n    <tr>\n      <th>149843</th>\n      <td>7.00</td>\n    </tr>\n  </tbody>\n</table>\n<p>206940 rows × 1 columns</p>\n</div>"
     },
     "metadata": {},
     "execution_count": 49
    }
   ],
   "source": [
    "label\n"
   ]
  },
  {
   "cell_type": "code",
   "execution_count": null,
   "metadata": {},
   "outputs": [],
   "source": []
  }
 ]
}