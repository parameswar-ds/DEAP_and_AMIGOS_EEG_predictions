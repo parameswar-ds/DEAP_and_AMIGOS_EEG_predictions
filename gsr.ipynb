{
  "nbformat": 4,
  "nbformat_minor": 0,
  "metadata": {
    "colab": {
      "name": "gsr.ipynb",
      "provenance": []
    },
    "kernelspec": {
      "name": "python3",
      "display_name": "Python 3"
    },
    "accelerator": "GPU"
  },
  "cells": [
    {
      "cell_type": "code",
      "metadata": {
        "id": "UlbYLoGWxni5",
        "colab_type": "code",
        "colab": {
          "base_uri": "https://localhost:8080/",
          "height": 129
        },
        "outputId": "206d5f65-be55-4c81-aea6-b2b281c08840"
      },
      "source": [
        "from google.colab import drive\n",
        "drive.mount('/content/drive')"
      ],
      "execution_count": 1,
      "outputs": [
        {
          "output_type": "stream",
          "text": [
            "Go to this URL in a browser: https://accounts.google.com/o/oauth2/auth?client_id=947318989803-6bn6qk8qdgf4n4g3pfee6491hc0brc4i.apps.googleusercontent.com&redirect_uri=urn%3aietf%3awg%3aoauth%3a2.0%3aoob&scope=email%20https%3a%2f%2fwww.googleapis.com%2fauth%2fdocs.test%20https%3a%2f%2fwww.googleapis.com%2fauth%2fdrive%20https%3a%2f%2fwww.googleapis.com%2fauth%2fdrive.photos.readonly%20https%3a%2f%2fwww.googleapis.com%2fauth%2fpeopleapi.readonly&response_type=code\n",
            "\n",
            "Enter your authorization code:\n",
            "··········\n",
            "Mounted at /content/drive\n"
          ],
          "name": "stdout"
        }
      ]
    },
    {
      "cell_type": "code",
      "metadata": {
        "id": "GvBz6FbmxyF0",
        "colab_type": "code",
        "colab": {}
      },
      "source": [
        "import pandas as pd"
      ],
      "execution_count": 2,
      "outputs": []
    },
    {
      "cell_type": "code",
      "metadata": {
        "id": "2kYfq8sVyIJw",
        "colab_type": "code",
        "colab": {}
      },
      "source": [
        "data1=pd.read_csv(\"/content/drive/My Drive/gsr/data.csv\")\n"
      ],
      "execution_count": 3,
      "outputs": []
    },
    {
      "cell_type": "code",
      "metadata": {
        "id": "MB5OUDEayVqp",
        "colab_type": "code",
        "colab": {
          "base_uri": "https://localhost:8080/",
          "height": 35
        },
        "outputId": "62c4fc60-ddeb-4398-cb3c-2ede95de0328"
      },
      "source": [
        "data1.shape"
      ],
      "execution_count": 4,
      "outputs": [
        {
          "output_type": "execute_result",
          "data": {
            "text/plain": [
              "(206940, 6)"
            ]
          },
          "metadata": {
            "tags": []
          },
          "execution_count": 4
        }
      ]
    },
    {
      "cell_type": "code",
      "metadata": {
        "id": "EfHMfJSzyZ8r",
        "colab_type": "code",
        "colab": {
          "base_uri": "https://localhost:8080/",
          "height": 206
        },
        "outputId": "576d19b2-1831-4605-8597-6153f168d4a7"
      },
      "source": [
        "data1.head()"
      ],
      "execution_count": 5,
      "outputs": [
        {
          "output_type": "execute_result",
          "data": {
            "text/html": [
              "<div>\n",
              "<style scoped>\n",
              "    .dataframe tbody tr th:only-of-type {\n",
              "        vertical-align: middle;\n",
              "    }\n",
              "\n",
              "    .dataframe tbody tr th {\n",
              "        vertical-align: top;\n",
              "    }\n",
              "\n",
              "    .dataframe thead th {\n",
              "        text-align: right;\n",
              "    }\n",
              "</style>\n",
              "<table border=\"1\" class=\"dataframe\">\n",
              "  <thead>\n",
              "    <tr style=\"text-align: right;\">\n",
              "      <th></th>\n",
              "      <th>Unnamed: 0</th>\n",
              "      <th>0</th>\n",
              "      <th>1</th>\n",
              "      <th>2</th>\n",
              "      <th>3</th>\n",
              "      <th>4</th>\n",
              "    </tr>\n",
              "  </thead>\n",
              "  <tbody>\n",
              "    <tr>\n",
              "      <th>0</th>\n",
              "      <td>0</td>\n",
              "      <td>2.173402</td>\n",
              "      <td>1.189203</td>\n",
              "      <td>0.935305</td>\n",
              "      <td>1.543539</td>\n",
              "      <td>2.771787</td>\n",
              "    </tr>\n",
              "    <tr>\n",
              "      <th>1</th>\n",
              "      <td>1</td>\n",
              "      <td>2.159191</td>\n",
              "      <td>1.183095</td>\n",
              "      <td>0.936134</td>\n",
              "      <td>1.517083</td>\n",
              "      <td>2.715917</td>\n",
              "    </tr>\n",
              "    <tr>\n",
              "      <th>2</th>\n",
              "      <td>2</td>\n",
              "      <td>2.254652</td>\n",
              "      <td>1.217000</td>\n",
              "      <td>0.959434</td>\n",
              "      <td>1.564887</td>\n",
              "      <td>2.776398</td>\n",
              "    </tr>\n",
              "    <tr>\n",
              "      <th>3</th>\n",
              "      <td>3</td>\n",
              "      <td>2.328341</td>\n",
              "      <td>1.270484</td>\n",
              "      <td>0.990674</td>\n",
              "      <td>1.629562</td>\n",
              "      <td>2.878108</td>\n",
              "    </tr>\n",
              "    <tr>\n",
              "      <th>4</th>\n",
              "      <td>4</td>\n",
              "      <td>2.439677</td>\n",
              "      <td>1.328956</td>\n",
              "      <td>1.046384</td>\n",
              "      <td>1.698458</td>\n",
              "      <td>3.034561</td>\n",
              "    </tr>\n",
              "  </tbody>\n",
              "</table>\n",
              "</div>"
            ],
            "text/plain": [
              "   Unnamed: 0         0         1         2         3         4\n",
              "0           0  2.173402  1.189203  0.935305  1.543539  2.771787\n",
              "1           1  2.159191  1.183095  0.936134  1.517083  2.715917\n",
              "2           2  2.254652  1.217000  0.959434  1.564887  2.776398\n",
              "3           3  2.328341  1.270484  0.990674  1.629562  2.878108\n",
              "4           4  2.439677  1.328956  1.046384  1.698458  3.034561"
            ]
          },
          "metadata": {
            "tags": []
          },
          "execution_count": 5
        }
      ]
    },
    {
      "cell_type": "code",
      "metadata": {
        "id": "1pQWzjkcyhB9",
        "colab_type": "code",
        "colab": {}
      },
      "source": [
        "d=data1.loc[:][['0','1','2','3','4']]"
      ],
      "execution_count": 6,
      "outputs": []
    },
    {
      "cell_type": "code",
      "metadata": {
        "id": "5k5wVCFU1WYJ",
        "colab_type": "code",
        "colab": {
          "base_uri": "https://localhost:8080/",
          "height": 35
        },
        "outputId": "ce27a7a5-01dc-401e-e7ed-8b924bd593b6"
      },
      "source": [
        "d.shape"
      ],
      "execution_count": 7,
      "outputs": [
        {
          "output_type": "execute_result",
          "data": {
            "text/plain": [
              "(206940, 5)"
            ]
          },
          "metadata": {
            "tags": []
          },
          "execution_count": 7
        }
      ]
    },
    {
      "cell_type": "code",
      "metadata": {
        "id": "UPd5F-5a3j-z",
        "colab_type": "code",
        "colab": {
          "base_uri": "https://localhost:8080/",
          "height": 35
        },
        "outputId": "70fd916f-67d1-4f1f-fffa-e6a168fbd85b"
      },
      "source": [
        "label1=pd.read_csv(\"/content/drive/My Drive/gsr/label.csv\")\n",
        "label1.shape"
      ],
      "execution_count": 8,
      "outputs": [
        {
          "output_type": "execute_result",
          "data": {
            "text/plain": [
              "(206940, 2)"
            ]
          },
          "metadata": {
            "tags": []
          },
          "execution_count": 8
        }
      ]
    },
    {
      "cell_type": "code",
      "metadata": {
        "id": "ZVi86amR3t-W",
        "colab_type": "code",
        "colab": {
          "base_uri": "https://localhost:8080/",
          "height": 206
        },
        "outputId": "b249af6a-9ba6-44e2-d866-ad4756f7113c"
      },
      "source": [
        "label1.head()"
      ],
      "execution_count": 9,
      "outputs": [
        {
          "output_type": "execute_result",
          "data": {
            "text/html": [
              "<div>\n",
              "<style scoped>\n",
              "    .dataframe tbody tr th:only-of-type {\n",
              "        vertical-align: middle;\n",
              "    }\n",
              "\n",
              "    .dataframe tbody tr th {\n",
              "        vertical-align: top;\n",
              "    }\n",
              "\n",
              "    .dataframe thead th {\n",
              "        text-align: right;\n",
              "    }\n",
              "</style>\n",
              "<table border=\"1\" class=\"dataframe\">\n",
              "  <thead>\n",
              "    <tr style=\"text-align: right;\">\n",
              "      <th></th>\n",
              "      <th>Unnamed: 0</th>\n",
              "      <th>0</th>\n",
              "    </tr>\n",
              "  </thead>\n",
              "  <tbody>\n",
              "    <tr>\n",
              "      <th>0</th>\n",
              "      <td>0</td>\n",
              "      <td>7.71</td>\n",
              "    </tr>\n",
              "    <tr>\n",
              "      <th>1</th>\n",
              "      <td>1</td>\n",
              "      <td>7.71</td>\n",
              "    </tr>\n",
              "    <tr>\n",
              "      <th>2</th>\n",
              "      <td>2</td>\n",
              "      <td>7.71</td>\n",
              "    </tr>\n",
              "    <tr>\n",
              "      <th>3</th>\n",
              "      <td>3</td>\n",
              "      <td>7.71</td>\n",
              "    </tr>\n",
              "    <tr>\n",
              "      <th>4</th>\n",
              "      <td>4</td>\n",
              "      <td>7.71</td>\n",
              "    </tr>\n",
              "  </tbody>\n",
              "</table>\n",
              "</div>"
            ],
            "text/plain": [
              "   Unnamed: 0     0\n",
              "0           0  7.71\n",
              "1           1  7.71\n",
              "2           2  7.71\n",
              "3           3  7.71\n",
              "4           4  7.71"
            ]
          },
          "metadata": {
            "tags": []
          },
          "execution_count": 9
        }
      ]
    },
    {
      "cell_type": "code",
      "metadata": {
        "id": "DlCXYJPO31Oh",
        "colab_type": "code",
        "colab": {}
      },
      "source": [
        "l=label1.loc[:]['0']"
      ],
      "execution_count": 10,
      "outputs": []
    },
    {
      "cell_type": "code",
      "metadata": {
        "id": "GnA-no1C3_DK",
        "colab_type": "code",
        "colab": {
          "base_uri": "https://localhost:8080/",
          "height": 35
        },
        "outputId": "25c3f11a-2094-48a7-ee93-24ed55f9fa95"
      },
      "source": [
        "l.shape"
      ],
      "execution_count": 11,
      "outputs": [
        {
          "output_type": "execute_result",
          "data": {
            "text/plain": [
              "(206940,)"
            ]
          },
          "metadata": {
            "tags": []
          },
          "execution_count": 11
        }
      ]
    },
    {
      "cell_type": "code",
      "metadata": {
        "id": "jkP2DaSa4Fnl",
        "colab_type": "code",
        "colab": {}
      },
      "source": [
        "x=d.values"
      ],
      "execution_count": 12,
      "outputs": []
    },
    {
      "cell_type": "code",
      "metadata": {
        "id": "rVJN4cQb4LUv",
        "colab_type": "code",
        "colab": {}
      },
      "source": [
        "y_val=l"
      ],
      "execution_count": 13,
      "outputs": []
    },
    {
      "cell_type": "code",
      "metadata": {
        "id": "ck6sPg494Q-7",
        "colab_type": "code",
        "colab": {
          "base_uri": "https://localhost:8080/",
          "height": 146
        },
        "outputId": "8fa61e91-26d3-4307-8b0e-df2f54c1d5dc"
      },
      "source": [
        "from sklearn.preprocessing import StandardScaler\n",
        "scaler = StandardScaler()\n",
        "scaler.fit(x)\n",
        "x = scaler.transform(x)\n",
        "from keras.utils import to_categorical\n",
        "y = to_categorical(y_val)\n",
        "y"
      ],
      "execution_count": 14,
      "outputs": [
        {
          "output_type": "execute_result",
          "data": {
            "text/plain": [
              "array([[0., 0., 0., ..., 1., 0., 0.],\n",
              "       [0., 0., 0., ..., 1., 0., 0.],\n",
              "       [0., 0., 0., ..., 1., 0., 0.],\n",
              "       ...,\n",
              "       [0., 0., 0., ..., 1., 0., 0.],\n",
              "       [0., 0., 0., ..., 1., 0., 0.],\n",
              "       [0., 0., 0., ..., 1., 0., 0.]], dtype=float32)"
            ]
          },
          "metadata": {
            "tags": []
          },
          "execution_count": 14
        }
      ]
    },
    {
      "cell_type": "code",
      "metadata": {
        "id": "2HkfGnU44T9s",
        "colab_type": "code",
        "colab": {}
      },
      "source": [
        "import numpy as np\n",
        "x = np.reshape(x, (x.shape[0],1,x.shape[1]))"
      ],
      "execution_count": 15,
      "outputs": []
    },
    {
      "cell_type": "code",
      "metadata": {
        "id": "3QqtlPkx4ZEQ",
        "colab_type": "code",
        "colab": {
          "base_uri": "https://localhost:8080/",
          "height": 35
        },
        "outputId": "ce0794a9-3285-4fd7-e370-6b0fdd35dd06"
      },
      "source": [
        "x.shape"
      ],
      "execution_count": 16,
      "outputs": [
        {
          "output_type": "execute_result",
          "data": {
            "text/plain": [
              "(206940, 1, 5)"
            ]
          },
          "metadata": {
            "tags": []
          },
          "execution_count": 16
        }
      ]
    },
    {
      "cell_type": "code",
      "metadata": {
        "id": "76KypBkh4bcb",
        "colab_type": "code",
        "colab": {
          "base_uri": "https://localhost:8080/",
          "height": 35
        },
        "outputId": "0a86214c-9ea3-4ea7-f70a-2902eda083fb"
      },
      "source": [
        "y.shape"
      ],
      "execution_count": 17,
      "outputs": [
        {
          "output_type": "execute_result",
          "data": {
            "text/plain": [
              "(206940, 10)"
            ]
          },
          "metadata": {
            "tags": []
          },
          "execution_count": 17
        }
      ]
    },
    {
      "cell_type": "code",
      "metadata": {
        "id": "oGD2ZJxb4cSr",
        "colab_type": "code",
        "colab": {}
      },
      "source": [
        "from sklearn.model_selection import train_test_split\n",
        "x_train, x_test, y_train, y_test = train_test_split(x, y, test_size = 0.2, random_state = 4)"
      ],
      "execution_count": 18,
      "outputs": []
    },
    {
      "cell_type": "code",
      "metadata": {
        "id": "AA-2Hd6z4f0l",
        "colab_type": "code",
        "colab": {
          "base_uri": "https://localhost:8080/",
          "height": 90
        },
        "outputId": "f44969b1-37e1-449c-8901-e2efeef9d7e1"
      },
      "source": [
        "print(x_train.shape)\n",
        "print(y_train.shape)\n",
        "print(x_test.shape)\n",
        "print(y_test.shape)"
      ],
      "execution_count": 19,
      "outputs": [
        {
          "output_type": "stream",
          "text": [
            "(165552, 1, 5)\n",
            "(165552, 10)\n",
            "(41388, 1, 5)\n",
            "(41388, 10)\n"
          ],
          "name": "stdout"
        }
      ]
    },
    {
      "cell_type": "code",
      "metadata": {
        "id": "Oidh1pgE4h_U",
        "colab_type": "code",
        "colab": {
          "base_uri": "https://localhost:8080/",
          "height": 954
        },
        "outputId": "efc0707e-c9e0-466a-e6ae-7e7beda79c5f"
      },
      "source": [
        "import tensorflow\n",
        "# from tensorflow.keras import models\n",
        "# from tensorflow.keras import layers\n",
        "# from tensorflow.keras import optimizers\n",
        "from tensorflow.keras.models import Sequential\n",
        "from tensorflow.keras.layers import Dense, Dropout\n",
        "from tensorflow.keras.layers import LSTM,BatchNormalization,Activation\n",
        "model = Sequential()\n",
        "model.add(LSTM(512, batch_input_shape = (None, None, x.shape[2]),return_sequences=True))\n",
        "#model.add(Dropout(0.1))\n",
        "model.add(BatchNormalization())\n",
        "model.add(Dropout(0.3))\n",
        "\n",
        "model.add(LSTM(256,activation=\"relu\",return_sequences=True))\n",
        "model.add(BatchNormalization())\n",
        "model.add(Dropout(0.3))\n",
        "\n",
        "model.add(LSTM(256,activation=\"relu\",return_sequences=True))\n",
        "model.add(BatchNormalization())\n",
        "model.add(Dropout(0.5))\n",
        "\n",
        "model.add(LSTM(128,activation=\"relu\",return_sequences=True))\n",
        "model.add(BatchNormalization())\n",
        "model.add(Dropout(0.3))\n",
        "\n",
        "model.add(LSTM(64,activation=\"relu\",return_sequences=True))\n",
        "model.add(BatchNormalization())\n",
        "model.add(Dropout(0.3))\n",
        "\n",
        "\n",
        "model.add(LSTM(32,activation=\"relu\"))\n",
        "model.add(BatchNormalization())\n",
        "model.add(Dropout(0.2))\n",
        "\n",
        "\n",
        "model.add(Dense(10))\n",
        "\n",
        "rmsprop =tensorflow.keras.optimizers.RMSprop(lr=0.0001, rho=0.9, epsilon=1e-08)\n",
        "model.compile(loss='mean_squared_error',\n",
        "                  optimizer=rmsprop,\n",
        "                  metrics=['accuracy'])\n",
        "#adam = keras.optimizers.Adam(lr=0.5, beta_1=0.9, beta_2=0.999, epsilon=None, decay=0.0, amsgrad=False)\n",
        "#model.compile(loss='binary_crossentropy', optimizer='adam', metrics=['accuracy'])\n",
        "model.summary()"
      ],
      "execution_count": 20,
      "outputs": [
        {
          "output_type": "stream",
          "text": [
            "WARNING:tensorflow:Layer lstm_1 will not use cuDNN kernel since it doesn't meet the cuDNN kernel criteria. It will use generic GPU kernel as fallback when running on GPU\n",
            "WARNING:tensorflow:Layer lstm_2 will not use cuDNN kernel since it doesn't meet the cuDNN kernel criteria. It will use generic GPU kernel as fallback when running on GPU\n",
            "WARNING:tensorflow:Layer lstm_3 will not use cuDNN kernel since it doesn't meet the cuDNN kernel criteria. It will use generic GPU kernel as fallback when running on GPU\n",
            "WARNING:tensorflow:Layer lstm_4 will not use cuDNN kernel since it doesn't meet the cuDNN kernel criteria. It will use generic GPU kernel as fallback when running on GPU\n",
            "WARNING:tensorflow:Layer lstm_5 will not use cuDNN kernel since it doesn't meet the cuDNN kernel criteria. It will use generic GPU kernel as fallback when running on GPU\n",
            "Model: \"sequential\"\n",
            "_________________________________________________________________\n",
            "Layer (type)                 Output Shape              Param #   \n",
            "=================================================================\n",
            "lstm (LSTM)                  (None, None, 512)         1060864   \n",
            "_________________________________________________________________\n",
            "batch_normalization (BatchNo (None, None, 512)         2048      \n",
            "_________________________________________________________________\n",
            "dropout (Dropout)            (None, None, 512)         0         \n",
            "_________________________________________________________________\n",
            "lstm_1 (LSTM)                (None, None, 256)         787456    \n",
            "_________________________________________________________________\n",
            "batch_normalization_1 (Batch (None, None, 256)         1024      \n",
            "_________________________________________________________________\n",
            "dropout_1 (Dropout)          (None, None, 256)         0         \n",
            "_________________________________________________________________\n",
            "lstm_2 (LSTM)                (None, None, 256)         525312    \n",
            "_________________________________________________________________\n",
            "batch_normalization_2 (Batch (None, None, 256)         1024      \n",
            "_________________________________________________________________\n",
            "dropout_2 (Dropout)          (None, None, 256)         0         \n",
            "_________________________________________________________________\n",
            "lstm_3 (LSTM)                (None, None, 128)         197120    \n",
            "_________________________________________________________________\n",
            "batch_normalization_3 (Batch (None, None, 128)         512       \n",
            "_________________________________________________________________\n",
            "dropout_3 (Dropout)          (None, None, 128)         0         \n",
            "_________________________________________________________________\n",
            "lstm_4 (LSTM)                (None, None, 64)          49408     \n",
            "_________________________________________________________________\n",
            "batch_normalization_4 (Batch (None, None, 64)          256       \n",
            "_________________________________________________________________\n",
            "dropout_4 (Dropout)          (None, None, 64)          0         \n",
            "_________________________________________________________________\n",
            "lstm_5 (LSTM)                (None, 32)                12416     \n",
            "_________________________________________________________________\n",
            "batch_normalization_5 (Batch (None, 32)                128       \n",
            "_________________________________________________________________\n",
            "dropout_5 (Dropout)          (None, 32)                0         \n",
            "_________________________________________________________________\n",
            "dense (Dense)                (None, 10)                330       \n",
            "=================================================================\n",
            "Total params: 2,637,898\n",
            "Trainable params: 2,635,402\n",
            "Non-trainable params: 2,496\n",
            "_________________________________________________________________\n"
          ],
          "name": "stdout"
        }
      ]
    },
    {
      "cell_type": "code",
      "metadata": {
        "id": "9fIQlrb64tCq",
        "colab_type": "code",
        "colab": {
          "base_uri": "https://localhost:8080/",
          "height": 1000
        },
        "outputId": "659225da-a2cd-4ac6-f30b-995a3570f951"
      },
      "source": [
        "history = model.fit(x_train, y_train, epochs = 200, batch_size=300,validation_data= (x_test, y_test))"
      ],
      "execution_count": 21,
      "outputs": [
        {
          "output_type": "stream",
          "text": [
            "Epoch 1/200\n",
            "552/552 [==============================] - 13s 24ms/step - loss: 1.2990 - accuracy: 0.1222 - val_loss: 0.0961 - val_accuracy: 0.1222\n",
            "Epoch 2/200\n",
            "552/552 [==============================] - 12s 22ms/step - loss: 0.5922 - accuracy: 0.1538 - val_loss: 0.1085 - val_accuracy: 0.3291\n",
            "Epoch 3/200\n",
            "552/552 [==============================] - 12s 22ms/step - loss: 0.2838 - accuracy: 0.1901 - val_loss: 0.0809 - val_accuracy: 0.3609\n",
            "Epoch 4/200\n",
            "552/552 [==============================] - 13s 23ms/step - loss: 0.1715 - accuracy: 0.2378 - val_loss: 0.0762 - val_accuracy: 0.3696\n",
            "Epoch 5/200\n",
            "552/552 [==============================] - 12s 22ms/step - loss: 0.1259 - accuracy: 0.2728 - val_loss: 0.0745 - val_accuracy: 0.3799\n",
            "Epoch 6/200\n",
            "552/552 [==============================] - 12s 22ms/step - loss: 0.1020 - accuracy: 0.3093 - val_loss: 0.0730 - val_accuracy: 0.3855\n",
            "Epoch 7/200\n",
            "552/552 [==============================] - 12s 22ms/step - loss: 0.0883 - accuracy: 0.3355 - val_loss: 0.0720 - val_accuracy: 0.3942\n",
            "Epoch 8/200\n",
            "552/552 [==============================] - 12s 22ms/step - loss: 0.0806 - accuracy: 0.3594 - val_loss: 0.0717 - val_accuracy: 0.3968\n",
            "Epoch 9/200\n",
            "552/552 [==============================] - 12s 22ms/step - loss: 0.0765 - accuracy: 0.3755 - val_loss: 0.0710 - val_accuracy: 0.4013\n",
            "Epoch 10/200\n",
            "552/552 [==============================] - 12s 22ms/step - loss: 0.0743 - accuracy: 0.3836 - val_loss: 0.0706 - val_accuracy: 0.4012\n",
            "Epoch 11/200\n",
            "552/552 [==============================] - 12s 22ms/step - loss: 0.0731 - accuracy: 0.3902 - val_loss: 0.0709 - val_accuracy: 0.4063\n",
            "Epoch 12/200\n",
            "552/552 [==============================] - 12s 22ms/step - loss: 0.0725 - accuracy: 0.3928 - val_loss: 0.0700 - val_accuracy: 0.4109\n",
            "Epoch 13/200\n",
            "552/552 [==============================] - 12s 22ms/step - loss: 0.0722 - accuracy: 0.3947 - val_loss: 0.0699 - val_accuracy: 0.4093\n",
            "Epoch 14/200\n",
            "552/552 [==============================] - 12s 22ms/step - loss: 0.0718 - accuracy: 0.3971 - val_loss: 0.0702 - val_accuracy: 0.4134\n",
            "Epoch 15/200\n",
            "552/552 [==============================] - 12s 22ms/step - loss: 0.0715 - accuracy: 0.3998 - val_loss: 0.0699 - val_accuracy: 0.4130\n",
            "Epoch 16/200\n",
            "552/552 [==============================] - 12s 22ms/step - loss: 0.0714 - accuracy: 0.4002 - val_loss: 0.0692 - val_accuracy: 0.4161\n",
            "Epoch 17/200\n",
            "552/552 [==============================] - 12s 22ms/step - loss: 0.0712 - accuracy: 0.4025 - val_loss: 0.0692 - val_accuracy: 0.4180\n",
            "Epoch 18/200\n",
            "552/552 [==============================] - 12s 22ms/step - loss: 0.0711 - accuracy: 0.4038 - val_loss: 0.0700 - val_accuracy: 0.4142\n",
            "Epoch 19/200\n",
            "552/552 [==============================] - 12s 22ms/step - loss: 0.0710 - accuracy: 0.4042 - val_loss: 0.0693 - val_accuracy: 0.4156\n",
            "Epoch 20/200\n",
            "552/552 [==============================] - 12s 22ms/step - loss: 0.0708 - accuracy: 0.4058 - val_loss: 0.0702 - val_accuracy: 0.4099\n",
            "Epoch 21/200\n",
            "552/552 [==============================] - 12s 22ms/step - loss: 0.0707 - accuracy: 0.4057 - val_loss: 0.0688 - val_accuracy: 0.4177\n",
            "Epoch 22/200\n",
            "552/552 [==============================] - 12s 22ms/step - loss: 0.0706 - accuracy: 0.4059 - val_loss: 0.0687 - val_accuracy: 0.4180\n",
            "Epoch 23/200\n",
            "552/552 [==============================] - 12s 22ms/step - loss: 0.0705 - accuracy: 0.4074 - val_loss: 0.0687 - val_accuracy: 0.4166\n",
            "Epoch 24/200\n",
            "552/552 [==============================] - 12s 22ms/step - loss: 0.0704 - accuracy: 0.4080 - val_loss: 0.0687 - val_accuracy: 0.4162\n",
            "Epoch 25/200\n",
            "552/552 [==============================] - 12s 22ms/step - loss: 0.0704 - accuracy: 0.4086 - val_loss: 0.0690 - val_accuracy: 0.4124\n",
            "Epoch 26/200\n",
            "552/552 [==============================] - 12s 22ms/step - loss: 0.0703 - accuracy: 0.4087 - val_loss: 0.0687 - val_accuracy: 0.4179\n",
            "Epoch 27/200\n",
            "552/552 [==============================] - 12s 22ms/step - loss: 0.0702 - accuracy: 0.4102 - val_loss: 0.0688 - val_accuracy: 0.4196\n",
            "Epoch 28/200\n",
            "552/552 [==============================] - 12s 22ms/step - loss: 0.0702 - accuracy: 0.4086 - val_loss: 0.0685 - val_accuracy: 0.4190\n",
            "Epoch 29/200\n",
            "552/552 [==============================] - 13s 23ms/step - loss: 0.0701 - accuracy: 0.4108 - val_loss: 0.0683 - val_accuracy: 0.4204\n",
            "Epoch 30/200\n",
            "552/552 [==============================] - 12s 22ms/step - loss: 0.0700 - accuracy: 0.4092 - val_loss: 0.0682 - val_accuracy: 0.4219\n",
            "Epoch 31/200\n",
            "552/552 [==============================] - 12s 22ms/step - loss: 0.0700 - accuracy: 0.4113 - val_loss: 0.0686 - val_accuracy: 0.4210\n",
            "Epoch 32/200\n",
            "552/552 [==============================] - 12s 22ms/step - loss: 0.0699 - accuracy: 0.4119 - val_loss: 0.0686 - val_accuracy: 0.4178\n",
            "Epoch 33/200\n",
            "552/552 [==============================] - 12s 22ms/step - loss: 0.0700 - accuracy: 0.4113 - val_loss: 0.0681 - val_accuracy: 0.4229\n",
            "Epoch 34/200\n",
            "552/552 [==============================] - 12s 22ms/step - loss: 0.0699 - accuracy: 0.4130 - val_loss: 0.0684 - val_accuracy: 0.4213\n",
            "Epoch 35/200\n",
            "552/552 [==============================] - 12s 22ms/step - loss: 0.0698 - accuracy: 0.4118 - val_loss: 0.0680 - val_accuracy: 0.4230\n",
            "Epoch 36/200\n",
            "552/552 [==============================] - 12s 23ms/step - loss: 0.0698 - accuracy: 0.4132 - val_loss: 0.0683 - val_accuracy: 0.4248\n",
            "Epoch 37/200\n",
            "552/552 [==============================] - 12s 22ms/step - loss: 0.0697 - accuracy: 0.4128 - val_loss: 0.0680 - val_accuracy: 0.4265\n",
            "Epoch 38/200\n",
            "552/552 [==============================] - 12s 22ms/step - loss: 0.0698 - accuracy: 0.4130 - val_loss: 0.0681 - val_accuracy: 0.4237\n",
            "Epoch 39/200\n",
            "552/552 [==============================] - 12s 22ms/step - loss: 0.0697 - accuracy: 0.4133 - val_loss: 0.0679 - val_accuracy: 0.4254\n",
            "Epoch 40/200\n",
            "552/552 [==============================] - 12s 22ms/step - loss: 0.0696 - accuracy: 0.4132 - val_loss: 0.0679 - val_accuracy: 0.4236\n",
            "Epoch 41/200\n",
            "552/552 [==============================] - 12s 22ms/step - loss: 0.0696 - accuracy: 0.4142 - val_loss: 0.0681 - val_accuracy: 0.4255\n",
            "Epoch 42/200\n",
            "552/552 [==============================] - 12s 22ms/step - loss: 0.0696 - accuracy: 0.4148 - val_loss: 0.0683 - val_accuracy: 0.4248\n",
            "Epoch 43/200\n",
            "552/552 [==============================] - 12s 22ms/step - loss: 0.0695 - accuracy: 0.4138 - val_loss: 0.0679 - val_accuracy: 0.4292\n",
            "Epoch 44/200\n",
            "552/552 [==============================] - 12s 22ms/step - loss: 0.0695 - accuracy: 0.4160 - val_loss: 0.0679 - val_accuracy: 0.4266\n",
            "Epoch 45/200\n",
            "552/552 [==============================] - 12s 22ms/step - loss: 0.0694 - accuracy: 0.4159 - val_loss: 0.0689 - val_accuracy: 0.4189\n",
            "Epoch 46/200\n",
            "552/552 [==============================] - 12s 22ms/step - loss: 0.0694 - accuracy: 0.4166 - val_loss: 0.0679 - val_accuracy: 0.4278\n",
            "Epoch 47/200\n",
            "552/552 [==============================] - 12s 22ms/step - loss: 0.0694 - accuracy: 0.4161 - val_loss: 0.0679 - val_accuracy: 0.4275\n",
            "Epoch 48/200\n",
            "552/552 [==============================] - 12s 22ms/step - loss: 0.0693 - accuracy: 0.4173 - val_loss: 0.0679 - val_accuracy: 0.4277\n",
            "Epoch 49/200\n",
            "552/552 [==============================] - 12s 22ms/step - loss: 0.0693 - accuracy: 0.4167 - val_loss: 0.0676 - val_accuracy: 0.4279\n",
            "Epoch 50/200\n",
            "552/552 [==============================] - 12s 22ms/step - loss: 0.0693 - accuracy: 0.4168 - val_loss: 0.0686 - val_accuracy: 0.4196\n",
            "Epoch 51/200\n",
            "552/552 [==============================] - 12s 22ms/step - loss: 0.0693 - accuracy: 0.4167 - val_loss: 0.0678 - val_accuracy: 0.4299\n",
            "Epoch 52/200\n",
            "552/552 [==============================] - 12s 22ms/step - loss: 0.0693 - accuracy: 0.4176 - val_loss: 0.0683 - val_accuracy: 0.4271\n",
            "Epoch 53/200\n",
            "552/552 [==============================] - 12s 22ms/step - loss: 0.0692 - accuracy: 0.4189 - val_loss: 0.0675 - val_accuracy: 0.4306\n",
            "Epoch 54/200\n",
            "552/552 [==============================] - 12s 22ms/step - loss: 0.0692 - accuracy: 0.4188 - val_loss: 0.0676 - val_accuracy: 0.4303\n",
            "Epoch 55/200\n",
            "552/552 [==============================] - 12s 23ms/step - loss: 0.0692 - accuracy: 0.4190 - val_loss: 0.0685 - val_accuracy: 0.4236\n",
            "Epoch 56/200\n",
            "552/552 [==============================] - 12s 22ms/step - loss: 0.0691 - accuracy: 0.4178 - val_loss: 0.0686 - val_accuracy: 0.4252\n",
            "Epoch 57/200\n",
            "552/552 [==============================] - 12s 22ms/step - loss: 0.0691 - accuracy: 0.4202 - val_loss: 0.0677 - val_accuracy: 0.4294\n",
            "Epoch 58/200\n",
            "552/552 [==============================] - 12s 22ms/step - loss: 0.0691 - accuracy: 0.4189 - val_loss: 0.0682 - val_accuracy: 0.4275\n",
            "Epoch 59/200\n",
            "552/552 [==============================] - 12s 22ms/step - loss: 0.0690 - accuracy: 0.4200 - val_loss: 0.0675 - val_accuracy: 0.4312\n",
            "Epoch 60/200\n",
            "552/552 [==============================] - 12s 22ms/step - loss: 0.0691 - accuracy: 0.4200 - val_loss: 0.0682 - val_accuracy: 0.4280\n",
            "Epoch 61/200\n",
            "552/552 [==============================] - 12s 23ms/step - loss: 0.0690 - accuracy: 0.4203 - val_loss: 0.0675 - val_accuracy: 0.4312\n",
            "Epoch 62/200\n",
            "552/552 [==============================] - 12s 22ms/step - loss: 0.0690 - accuracy: 0.4205 - val_loss: 0.0673 - val_accuracy: 0.4319\n",
            "Epoch 63/200\n",
            "552/552 [==============================] - 13s 23ms/step - loss: 0.0690 - accuracy: 0.4208 - val_loss: 0.0673 - val_accuracy: 0.4316\n",
            "Epoch 64/200\n",
            "552/552 [==============================] - 13s 23ms/step - loss: 0.0690 - accuracy: 0.4213 - val_loss: 0.0673 - val_accuracy: 0.4309\n",
            "Epoch 65/200\n",
            "552/552 [==============================] - 13s 23ms/step - loss: 0.0690 - accuracy: 0.4205 - val_loss: 0.0675 - val_accuracy: 0.4321\n",
            "Epoch 66/200\n",
            "552/552 [==============================] - 12s 22ms/step - loss: 0.0689 - accuracy: 0.4209 - val_loss: 0.0672 - val_accuracy: 0.4323\n",
            "Epoch 67/200\n",
            "552/552 [==============================] - 13s 23ms/step - loss: 0.0689 - accuracy: 0.4223 - val_loss: 0.0673 - val_accuracy: 0.4296\n",
            "Epoch 68/200\n",
            "552/552 [==============================] - 12s 22ms/step - loss: 0.0689 - accuracy: 0.4221 - val_loss: 0.0672 - val_accuracy: 0.4330\n",
            "Epoch 69/200\n",
            "552/552 [==============================] - 12s 22ms/step - loss: 0.0689 - accuracy: 0.4231 - val_loss: 0.0678 - val_accuracy: 0.4306\n",
            "Epoch 70/200\n",
            "552/552 [==============================] - 12s 22ms/step - loss: 0.0689 - accuracy: 0.4214 - val_loss: 0.0671 - val_accuracy: 0.4344\n",
            "Epoch 71/200\n",
            "552/552 [==============================] - 12s 22ms/step - loss: 0.0688 - accuracy: 0.4220 - val_loss: 0.0682 - val_accuracy: 0.4240\n",
            "Epoch 72/200\n",
            "552/552 [==============================] - 12s 22ms/step - loss: 0.0688 - accuracy: 0.4226 - val_loss: 0.0676 - val_accuracy: 0.4316\n",
            "Epoch 73/200\n",
            "552/552 [==============================] - 12s 22ms/step - loss: 0.0688 - accuracy: 0.4223 - val_loss: 0.0672 - val_accuracy: 0.4335\n",
            "Epoch 74/200\n",
            "552/552 [==============================] - 12s 22ms/step - loss: 0.0687 - accuracy: 0.4238 - val_loss: 0.0669 - val_accuracy: 0.4362\n",
            "Epoch 75/200\n",
            "552/552 [==============================] - 12s 22ms/step - loss: 0.0688 - accuracy: 0.4226 - val_loss: 0.0674 - val_accuracy: 0.4324\n",
            "Epoch 76/200\n",
            "552/552 [==============================] - 12s 22ms/step - loss: 0.0687 - accuracy: 0.4239 - val_loss: 0.0672 - val_accuracy: 0.4346\n",
            "Epoch 77/200\n",
            "552/552 [==============================] - 12s 22ms/step - loss: 0.0687 - accuracy: 0.4240 - val_loss: 0.0669 - val_accuracy: 0.4366\n",
            "Epoch 78/200\n",
            "552/552 [==============================] - 12s 22ms/step - loss: 0.0687 - accuracy: 0.4231 - val_loss: 0.0669 - val_accuracy: 0.4380\n",
            "Epoch 79/200\n",
            "552/552 [==============================] - 12s 22ms/step - loss: 0.0686 - accuracy: 0.4246 - val_loss: 0.0670 - val_accuracy: 0.4368\n",
            "Epoch 80/200\n",
            "552/552 [==============================] - 13s 23ms/step - loss: 0.0687 - accuracy: 0.4246 - val_loss: 0.0671 - val_accuracy: 0.4356\n",
            "Epoch 81/200\n",
            "552/552 [==============================] - 12s 22ms/step - loss: 0.0687 - accuracy: 0.4233 - val_loss: 0.0679 - val_accuracy: 0.4293\n",
            "Epoch 82/200\n",
            "552/552 [==============================] - 12s 22ms/step - loss: 0.0687 - accuracy: 0.4241 - val_loss: 0.0670 - val_accuracy: 0.4352\n",
            "Epoch 83/200\n",
            "552/552 [==============================] - 12s 22ms/step - loss: 0.0686 - accuracy: 0.4258 - val_loss: 0.0668 - val_accuracy: 0.4374\n",
            "Epoch 84/200\n",
            "552/552 [==============================] - 12s 22ms/step - loss: 0.0686 - accuracy: 0.4250 - val_loss: 0.0668 - val_accuracy: 0.4381\n",
            "Epoch 85/200\n",
            "552/552 [==============================] - 12s 22ms/step - loss: 0.0686 - accuracy: 0.4244 - val_loss: 0.0671 - val_accuracy: 0.4361\n",
            "Epoch 86/200\n",
            "552/552 [==============================] - 12s 22ms/step - loss: 0.0685 - accuracy: 0.4261 - val_loss: 0.0682 - val_accuracy: 0.4266\n",
            "Epoch 87/200\n",
            "552/552 [==============================] - 12s 22ms/step - loss: 0.0686 - accuracy: 0.4266 - val_loss: 0.0670 - val_accuracy: 0.4386\n",
            "Epoch 88/200\n",
            "552/552 [==============================] - 12s 22ms/step - loss: 0.0685 - accuracy: 0.4265 - val_loss: 0.0675 - val_accuracy: 0.4308\n",
            "Epoch 89/200\n",
            "552/552 [==============================] - 12s 22ms/step - loss: 0.0685 - accuracy: 0.4265 - val_loss: 0.0668 - val_accuracy: 0.4391\n",
            "Epoch 90/200\n",
            "552/552 [==============================] - 12s 22ms/step - loss: 0.0685 - accuracy: 0.4276 - val_loss: 0.0670 - val_accuracy: 0.4386\n",
            "Epoch 91/200\n",
            "552/552 [==============================] - 12s 22ms/step - loss: 0.0684 - accuracy: 0.4271 - val_loss: 0.0668 - val_accuracy: 0.4408\n",
            "Epoch 92/200\n",
            "552/552 [==============================] - 12s 22ms/step - loss: 0.0685 - accuracy: 0.4269 - val_loss: 0.0668 - val_accuracy: 0.4385\n",
            "Epoch 93/200\n",
            "552/552 [==============================] - 12s 22ms/step - loss: 0.0684 - accuracy: 0.4274 - val_loss: 0.0670 - val_accuracy: 0.4401\n",
            "Epoch 94/200\n",
            "552/552 [==============================] - 12s 22ms/step - loss: 0.0684 - accuracy: 0.4281 - val_loss: 0.0668 - val_accuracy: 0.4421\n",
            "Epoch 95/200\n",
            "552/552 [==============================] - 12s 22ms/step - loss: 0.0685 - accuracy: 0.4281 - val_loss: 0.0667 - val_accuracy: 0.4395\n",
            "Epoch 96/200\n",
            "552/552 [==============================] - 12s 22ms/step - loss: 0.0684 - accuracy: 0.4287 - val_loss: 0.0668 - val_accuracy: 0.4391\n",
            "Epoch 97/200\n",
            "552/552 [==============================] - 12s 22ms/step - loss: 0.0684 - accuracy: 0.4280 - val_loss: 0.0667 - val_accuracy: 0.4402\n",
            "Epoch 98/200\n",
            "552/552 [==============================] - 12s 22ms/step - loss: 0.0684 - accuracy: 0.4275 - val_loss: 0.0672 - val_accuracy: 0.4384\n",
            "Epoch 99/200\n",
            "552/552 [==============================] - 12s 22ms/step - loss: 0.0684 - accuracy: 0.4281 - val_loss: 0.0667 - val_accuracy: 0.4438\n",
            "Epoch 100/200\n",
            "552/552 [==============================] - 12s 22ms/step - loss: 0.0684 - accuracy: 0.4282 - val_loss: 0.0666 - val_accuracy: 0.4431\n",
            "Epoch 101/200\n",
            "552/552 [==============================] - 12s 22ms/step - loss: 0.0683 - accuracy: 0.4300 - val_loss: 0.0672 - val_accuracy: 0.4386\n",
            "Epoch 102/200\n",
            "552/552 [==============================] - 12s 22ms/step - loss: 0.0684 - accuracy: 0.4284 - val_loss: 0.0666 - val_accuracy: 0.4414\n",
            "Epoch 103/200\n",
            "552/552 [==============================] - 12s 22ms/step - loss: 0.0684 - accuracy: 0.4290 - val_loss: 0.0665 - val_accuracy: 0.4443\n",
            "Epoch 104/200\n",
            "552/552 [==============================] - 12s 22ms/step - loss: 0.0683 - accuracy: 0.4299 - val_loss: 0.0667 - val_accuracy: 0.4424\n",
            "Epoch 105/200\n",
            "552/552 [==============================] - 13s 23ms/step - loss: 0.0683 - accuracy: 0.4292 - val_loss: 0.0666 - val_accuracy: 0.4435\n",
            "Epoch 106/200\n",
            "552/552 [==============================] - 12s 22ms/step - loss: 0.0683 - accuracy: 0.4300 - val_loss: 0.0667 - val_accuracy: 0.4426\n",
            "Epoch 107/200\n",
            "552/552 [==============================] - 12s 22ms/step - loss: 0.0683 - accuracy: 0.4295 - val_loss: 0.0670 - val_accuracy: 0.4420\n",
            "Epoch 108/200\n",
            "552/552 [==============================] - 12s 22ms/step - loss: 0.0682 - accuracy: 0.4302 - val_loss: 0.0667 - val_accuracy: 0.4416\n",
            "Epoch 109/200\n",
            "552/552 [==============================] - 12s 22ms/step - loss: 0.0683 - accuracy: 0.4297 - val_loss: 0.0666 - val_accuracy: 0.4452\n",
            "Epoch 110/200\n",
            "552/552 [==============================] - 12s 22ms/step - loss: 0.0683 - accuracy: 0.4299 - val_loss: 0.0666 - val_accuracy: 0.4451\n",
            "Epoch 111/200\n",
            "552/552 [==============================] - 12s 22ms/step - loss: 0.0682 - accuracy: 0.4305 - val_loss: 0.0665 - val_accuracy: 0.4445\n",
            "Epoch 112/200\n",
            "552/552 [==============================] - 12s 22ms/step - loss: 0.0682 - accuracy: 0.4303 - val_loss: 0.0672 - val_accuracy: 0.4368\n",
            "Epoch 113/200\n",
            "552/552 [==============================] - 12s 22ms/step - loss: 0.0682 - accuracy: 0.4313 - val_loss: 0.0668 - val_accuracy: 0.4420\n",
            "Epoch 114/200\n",
            "552/552 [==============================] - 12s 22ms/step - loss: 0.0682 - accuracy: 0.4310 - val_loss: 0.0665 - val_accuracy: 0.4457\n",
            "Epoch 115/200\n",
            "552/552 [==============================] - 12s 22ms/step - loss: 0.0681 - accuracy: 0.4313 - val_loss: 0.0674 - val_accuracy: 0.4350\n",
            "Epoch 116/200\n",
            "552/552 [==============================] - 12s 22ms/step - loss: 0.0682 - accuracy: 0.4311 - val_loss: 0.0670 - val_accuracy: 0.4423\n",
            "Epoch 117/200\n",
            "552/552 [==============================] - 12s 22ms/step - loss: 0.0682 - accuracy: 0.4312 - val_loss: 0.0665 - val_accuracy: 0.4451\n",
            "Epoch 118/200\n",
            "552/552 [==============================] - 12s 22ms/step - loss: 0.0682 - accuracy: 0.4307 - val_loss: 0.0665 - val_accuracy: 0.4480\n",
            "Epoch 119/200\n",
            "552/552 [==============================] - 12s 22ms/step - loss: 0.0682 - accuracy: 0.4315 - val_loss: 0.0667 - val_accuracy: 0.4413\n",
            "Epoch 120/200\n",
            "552/552 [==============================] - 12s 22ms/step - loss: 0.0681 - accuracy: 0.4325 - val_loss: 0.0664 - val_accuracy: 0.4446\n",
            "Epoch 121/200\n",
            "552/552 [==============================] - 12s 22ms/step - loss: 0.0682 - accuracy: 0.4312 - val_loss: 0.0666 - val_accuracy: 0.4461\n",
            "Epoch 122/200\n",
            "552/552 [==============================] - 12s 22ms/step - loss: 0.0681 - accuracy: 0.4314 - val_loss: 0.0666 - val_accuracy: 0.4468\n",
            "Epoch 123/200\n",
            "552/552 [==============================] - 12s 22ms/step - loss: 0.0681 - accuracy: 0.4308 - val_loss: 0.0665 - val_accuracy: 0.4442\n",
            "Epoch 124/200\n",
            "552/552 [==============================] - 12s 22ms/step - loss: 0.0681 - accuracy: 0.4321 - val_loss: 0.0667 - val_accuracy: 0.4434\n",
            "Epoch 125/200\n",
            "552/552 [==============================] - 12s 22ms/step - loss: 0.0681 - accuracy: 0.4321 - val_loss: 0.0670 - val_accuracy: 0.4424\n",
            "Epoch 126/200\n",
            "552/552 [==============================] - 12s 22ms/step - loss: 0.0681 - accuracy: 0.4330 - val_loss: 0.0666 - val_accuracy: 0.4438\n",
            "Epoch 127/200\n",
            "552/552 [==============================] - 12s 22ms/step - loss: 0.0681 - accuracy: 0.4320 - val_loss: 0.0668 - val_accuracy: 0.4434\n",
            "Epoch 128/200\n",
            "552/552 [==============================] - 12s 22ms/step - loss: 0.0680 - accuracy: 0.4331 - val_loss: 0.0665 - val_accuracy: 0.4467\n",
            "Epoch 129/200\n",
            "552/552 [==============================] - 12s 22ms/step - loss: 0.0681 - accuracy: 0.4333 - val_loss: 0.0670 - val_accuracy: 0.4425\n",
            "Epoch 130/200\n",
            "552/552 [==============================] - 12s 22ms/step - loss: 0.0681 - accuracy: 0.4326 - val_loss: 0.0664 - val_accuracy: 0.4471\n",
            "Epoch 131/200\n",
            "552/552 [==============================] - 12s 23ms/step - loss: 0.0680 - accuracy: 0.4343 - val_loss: 0.0664 - val_accuracy: 0.4478\n",
            "Epoch 132/200\n",
            "552/552 [==============================] - 12s 22ms/step - loss: 0.0680 - accuracy: 0.4316 - val_loss: 0.0665 - val_accuracy: 0.4458\n",
            "Epoch 133/200\n",
            "552/552 [==============================] - 12s 22ms/step - loss: 0.0681 - accuracy: 0.4329 - val_loss: 0.0664 - val_accuracy: 0.4457\n",
            "Epoch 134/200\n",
            "552/552 [==============================] - 12s 22ms/step - loss: 0.0681 - accuracy: 0.4330 - val_loss: 0.0664 - val_accuracy: 0.4465\n",
            "Epoch 135/200\n",
            "552/552 [==============================] - 12s 22ms/step - loss: 0.0680 - accuracy: 0.4326 - val_loss: 0.0664 - val_accuracy: 0.4475\n",
            "Epoch 136/200\n",
            "552/552 [==============================] - 12s 22ms/step - loss: 0.0680 - accuracy: 0.4346 - val_loss: 0.0662 - val_accuracy: 0.4481\n",
            "Epoch 137/200\n",
            "552/552 [==============================] - 12s 22ms/step - loss: 0.0680 - accuracy: 0.4340 - val_loss: 0.0664 - val_accuracy: 0.4458\n",
            "Epoch 138/200\n",
            "552/552 [==============================] - 12s 22ms/step - loss: 0.0680 - accuracy: 0.4325 - val_loss: 0.0666 - val_accuracy: 0.4444\n",
            "Epoch 139/200\n",
            "552/552 [==============================] - 12s 22ms/step - loss: 0.0680 - accuracy: 0.4340 - val_loss: 0.0667 - val_accuracy: 0.4441\n",
            "Epoch 140/200\n",
            "552/552 [==============================] - 12s 22ms/step - loss: 0.0680 - accuracy: 0.4331 - val_loss: 0.0662 - val_accuracy: 0.4491\n",
            "Epoch 141/200\n",
            "552/552 [==============================] - 12s 22ms/step - loss: 0.0680 - accuracy: 0.4338 - val_loss: 0.0665 - val_accuracy: 0.4465\n",
            "Epoch 142/200\n",
            "552/552 [==============================] - 12s 22ms/step - loss: 0.0679 - accuracy: 0.4343 - val_loss: 0.0665 - val_accuracy: 0.4445\n",
            "Epoch 143/200\n",
            "552/552 [==============================] - 12s 22ms/step - loss: 0.0680 - accuracy: 0.4334 - val_loss: 0.0663 - val_accuracy: 0.4479\n",
            "Epoch 144/200\n",
            "552/552 [==============================] - 12s 22ms/step - loss: 0.0680 - accuracy: 0.4350 - val_loss: 0.0662 - val_accuracy: 0.4490\n",
            "Epoch 145/200\n",
            "552/552 [==============================] - 12s 22ms/step - loss: 0.0679 - accuracy: 0.4344 - val_loss: 0.0665 - val_accuracy: 0.4461\n",
            "Epoch 146/200\n",
            "552/552 [==============================] - 12s 22ms/step - loss: 0.0679 - accuracy: 0.4342 - val_loss: 0.0667 - val_accuracy: 0.4442\n",
            "Epoch 147/200\n",
            "552/552 [==============================] - 12s 22ms/step - loss: 0.0679 - accuracy: 0.4334 - val_loss: 0.0669 - val_accuracy: 0.4418\n",
            "Epoch 148/200\n",
            "552/552 [==============================] - 12s 22ms/step - loss: 0.0679 - accuracy: 0.4352 - val_loss: 0.0663 - val_accuracy: 0.4477\n",
            "Epoch 149/200\n",
            "552/552 [==============================] - 12s 22ms/step - loss: 0.0680 - accuracy: 0.4343 - val_loss: 0.0663 - val_accuracy: 0.4468\n",
            "Epoch 150/200\n",
            "552/552 [==============================] - 12s 22ms/step - loss: 0.0679 - accuracy: 0.4347 - val_loss: 0.0662 - val_accuracy: 0.4485\n",
            "Epoch 151/200\n",
            "552/552 [==============================] - 12s 22ms/step - loss: 0.0678 - accuracy: 0.4353 - val_loss: 0.0670 - val_accuracy: 0.4423\n",
            "Epoch 152/200\n",
            "552/552 [==============================] - 12s 22ms/step - loss: 0.0679 - accuracy: 0.4348 - val_loss: 0.0667 - val_accuracy: 0.4480\n",
            "Epoch 153/200\n",
            "552/552 [==============================] - 12s 22ms/step - loss: 0.0679 - accuracy: 0.4362 - val_loss: 0.0671 - val_accuracy: 0.4416\n",
            "Epoch 154/200\n",
            "552/552 [==============================] - 12s 22ms/step - loss: 0.0679 - accuracy: 0.4349 - val_loss: 0.0665 - val_accuracy: 0.4460\n",
            "Epoch 155/200\n",
            "552/552 [==============================] - 12s 22ms/step - loss: 0.0679 - accuracy: 0.4350 - val_loss: 0.0669 - val_accuracy: 0.4418\n",
            "Epoch 156/200\n",
            "552/552 [==============================] - 13s 23ms/step - loss: 0.0679 - accuracy: 0.4349 - val_loss: 0.0666 - val_accuracy: 0.4448\n",
            "Epoch 157/200\n",
            "552/552 [==============================] - 12s 22ms/step - loss: 0.0678 - accuracy: 0.4355 - val_loss: 0.0662 - val_accuracy: 0.4489\n",
            "Epoch 158/200\n",
            "552/552 [==============================] - 12s 22ms/step - loss: 0.0679 - accuracy: 0.4356 - val_loss: 0.0668 - val_accuracy: 0.4439\n",
            "Epoch 159/200\n",
            "552/552 [==============================] - 12s 22ms/step - loss: 0.0678 - accuracy: 0.4355 - val_loss: 0.0662 - val_accuracy: 0.4477\n",
            "Epoch 160/200\n",
            "552/552 [==============================] - 12s 22ms/step - loss: 0.0678 - accuracy: 0.4347 - val_loss: 0.0663 - val_accuracy: 0.4488\n",
            "Epoch 161/200\n",
            "552/552 [==============================] - 12s 22ms/step - loss: 0.0678 - accuracy: 0.4367 - val_loss: 0.0663 - val_accuracy: 0.4499\n",
            "Epoch 162/200\n",
            "552/552 [==============================] - 12s 22ms/step - loss: 0.0678 - accuracy: 0.4366 - val_loss: 0.0666 - val_accuracy: 0.4450\n",
            "Epoch 163/200\n",
            "552/552 [==============================] - 12s 22ms/step - loss: 0.0678 - accuracy: 0.4352 - val_loss: 0.0662 - val_accuracy: 0.4490\n",
            "Epoch 164/200\n",
            "552/552 [==============================] - 12s 22ms/step - loss: 0.0678 - accuracy: 0.4350 - val_loss: 0.0663 - val_accuracy: 0.4482\n",
            "Epoch 165/200\n",
            "552/552 [==============================] - 12s 22ms/step - loss: 0.0678 - accuracy: 0.4359 - val_loss: 0.0662 - val_accuracy: 0.4496\n",
            "Epoch 166/200\n",
            "552/552 [==============================] - 12s 22ms/step - loss: 0.0677 - accuracy: 0.4370 - val_loss: 0.0660 - val_accuracy: 0.4516\n",
            "Epoch 167/200\n",
            "552/552 [==============================] - 12s 22ms/step - loss: 0.0678 - accuracy: 0.4364 - val_loss: 0.0665 - val_accuracy: 0.4477\n",
            "Epoch 168/200\n",
            "552/552 [==============================] - 12s 22ms/step - loss: 0.0678 - accuracy: 0.4376 - val_loss: 0.0661 - val_accuracy: 0.4494\n",
            "Epoch 169/200\n",
            "552/552 [==============================] - 12s 22ms/step - loss: 0.0678 - accuracy: 0.4356 - val_loss: 0.0665 - val_accuracy: 0.4477\n",
            "Epoch 170/200\n",
            "552/552 [==============================] - 12s 22ms/step - loss: 0.0678 - accuracy: 0.4367 - val_loss: 0.0669 - val_accuracy: 0.4407\n",
            "Epoch 171/200\n",
            "552/552 [==============================] - 12s 22ms/step - loss: 0.0678 - accuracy: 0.4359 - val_loss: 0.0662 - val_accuracy: 0.4491\n",
            "Epoch 172/200\n",
            "552/552 [==============================] - 12s 22ms/step - loss: 0.0678 - accuracy: 0.4367 - val_loss: 0.0673 - val_accuracy: 0.4396\n",
            "Epoch 173/200\n",
            "552/552 [==============================] - 12s 22ms/step - loss: 0.0678 - accuracy: 0.4372 - val_loss: 0.0663 - val_accuracy: 0.4498\n",
            "Epoch 174/200\n",
            "552/552 [==============================] - 12s 22ms/step - loss: 0.0677 - accuracy: 0.4366 - val_loss: 0.0668 - val_accuracy: 0.4405\n",
            "Epoch 175/200\n",
            "552/552 [==============================] - 12s 22ms/step - loss: 0.0677 - accuracy: 0.4368 - val_loss: 0.0662 - val_accuracy: 0.4490\n",
            "Epoch 176/200\n",
            "552/552 [==============================] - 12s 22ms/step - loss: 0.0677 - accuracy: 0.4371 - val_loss: 0.0669 - val_accuracy: 0.4436\n",
            "Epoch 177/200\n",
            "552/552 [==============================] - 12s 22ms/step - loss: 0.0677 - accuracy: 0.4366 - val_loss: 0.0663 - val_accuracy: 0.4486\n",
            "Epoch 178/200\n",
            "552/552 [==============================] - 12s 22ms/step - loss: 0.0677 - accuracy: 0.4374 - val_loss: 0.0660 - val_accuracy: 0.4507\n",
            "Epoch 179/200\n",
            "552/552 [==============================] - 12s 22ms/step - loss: 0.0677 - accuracy: 0.4366 - val_loss: 0.0665 - val_accuracy: 0.4465\n",
            "Epoch 180/200\n",
            "552/552 [==============================] - 12s 22ms/step - loss: 0.0677 - accuracy: 0.4374 - val_loss: 0.0661 - val_accuracy: 0.4509\n",
            "Epoch 181/200\n",
            "552/552 [==============================] - 13s 23ms/step - loss: 0.0677 - accuracy: 0.4378 - val_loss: 0.0670 - val_accuracy: 0.4403\n",
            "Epoch 182/200\n",
            "552/552 [==============================] - 12s 23ms/step - loss: 0.0677 - accuracy: 0.4369 - val_loss: 0.0662 - val_accuracy: 0.4491\n",
            "Epoch 183/200\n",
            "552/552 [==============================] - 12s 22ms/step - loss: 0.0677 - accuracy: 0.4366 - val_loss: 0.0666 - val_accuracy: 0.4443\n",
            "Epoch 184/200\n",
            "552/552 [==============================] - 12s 21ms/step - loss: 0.0677 - accuracy: 0.4374 - val_loss: 0.0667 - val_accuracy: 0.4467\n",
            "Epoch 185/200\n",
            "552/552 [==============================] - 12s 22ms/step - loss: 0.0677 - accuracy: 0.4372 - val_loss: 0.0661 - val_accuracy: 0.4499\n",
            "Epoch 186/200\n",
            "552/552 [==============================] - 12s 23ms/step - loss: 0.0678 - accuracy: 0.4376 - val_loss: 0.0665 - val_accuracy: 0.4472\n",
            "Epoch 187/200\n",
            "552/552 [==============================] - 12s 22ms/step - loss: 0.0676 - accuracy: 0.4381 - val_loss: 0.0662 - val_accuracy: 0.4504\n",
            "Epoch 188/200\n",
            "552/552 [==============================] - 12s 22ms/step - loss: 0.0677 - accuracy: 0.4385 - val_loss: 0.0665 - val_accuracy: 0.4475\n",
            "Epoch 189/200\n",
            "552/552 [==============================] - 12s 22ms/step - loss: 0.0677 - accuracy: 0.4356 - val_loss: 0.0663 - val_accuracy: 0.4494\n",
            "Epoch 190/200\n",
            "552/552 [==============================] - 12s 22ms/step - loss: 0.0677 - accuracy: 0.4374 - val_loss: 0.0670 - val_accuracy: 0.4418\n",
            "Epoch 191/200\n",
            "552/552 [==============================] - 12s 22ms/step - loss: 0.0677 - accuracy: 0.4359 - val_loss: 0.0665 - val_accuracy: 0.4455\n",
            "Epoch 192/200\n",
            "552/552 [==============================] - 12s 22ms/step - loss: 0.0676 - accuracy: 0.4379 - val_loss: 0.0662 - val_accuracy: 0.4484\n",
            "Epoch 193/200\n",
            "552/552 [==============================] - 12s 22ms/step - loss: 0.0677 - accuracy: 0.4360 - val_loss: 0.0661 - val_accuracy: 0.4502\n",
            "Epoch 194/200\n",
            "552/552 [==============================] - 12s 22ms/step - loss: 0.0676 - accuracy: 0.4386 - val_loss: 0.0666 - val_accuracy: 0.4460\n",
            "Epoch 195/200\n",
            "552/552 [==============================] - 12s 22ms/step - loss: 0.0677 - accuracy: 0.4378 - val_loss: 0.0660 - val_accuracy: 0.4500\n",
            "Epoch 196/200\n",
            "552/552 [==============================] - 12s 22ms/step - loss: 0.0677 - accuracy: 0.4384 - val_loss: 0.0661 - val_accuracy: 0.4500\n",
            "Epoch 197/200\n",
            "552/552 [==============================] - 12s 22ms/step - loss: 0.0677 - accuracy: 0.4375 - val_loss: 0.0659 - val_accuracy: 0.4512\n",
            "Epoch 198/200\n",
            "552/552 [==============================] - 12s 22ms/step - loss: 0.0676 - accuracy: 0.4375 - val_loss: 0.0661 - val_accuracy: 0.4484\n",
            "Epoch 199/200\n",
            "552/552 [==============================] - 12s 22ms/step - loss: 0.0676 - accuracy: 0.4375 - val_loss: 0.0671 - val_accuracy: 0.4432\n",
            "Epoch 200/200\n",
            "552/552 [==============================] - 12s 22ms/step - loss: 0.0676 - accuracy: 0.4389 - val_loss: 0.0660 - val_accuracy: 0.4526\n"
          ],
          "name": "stdout"
        }
      ]
    },
    {
      "cell_type": "code",
      "metadata": {
        "id": "YBKSvBNr4x-b",
        "colab_type": "code",
        "colab": {
          "base_uri": "https://localhost:8080/",
          "height": 607
        },
        "outputId": "9d13c479-cddd-4e0f-b359-85b686823a80"
      },
      "source": [
        "import matplotlib.pyplot as plt\n",
        "acc=history.history['accuracy']\n",
        "val_acc=history.history['val_accuracy']\n",
        "loss=history.history['loss']\n",
        "val_loss=history.history['val_loss']\n",
        "epochs=range(1,len(acc)+1)\n",
        "plt.figure(figsize=(20,10))\n",
        "plt.plot(epochs[0:600],acc[0:600],'crimson',label='Training acc',linewidth=3)\n",
        "plt.plot(epochs[0:600],val_acc[0:600],'darkgreen',label='Validation acc',linewidth=3)\n",
        "plt.title(\"training and validation accuracy\")\n",
        "plt.legend()\n",
        "# plt.savefig(\"/content/drive/My Drive/deap_egg_final/accuracy_resilt_2.png\")\n",
        "plt.savefig(\"/content/drive/My Drive/gsr/accuracy_resilt.png\")"
      ],
      "execution_count": 23,
      "outputs": [
        {
          "output_type": "display_data",
          "data": {
            "image/png": "[encoded data removed]",
            "text/plain": [
              "<Figure size 1440x720 with 1 Axes>"
            ]
          },
          "metadata": {
            "tags": [],
            "needs_background": "light"
          }
        }
      ]
    },
    {
      "cell_type": "code",
      "metadata": {
        "id": "HCO5213LtUIq",
        "colab_type": "code",
        "colab": {
          "base_uri": "https://localhost:8080/",
          "height": 607
        },
        "outputId": "80795c92-c830-48c9-d5b0-be3d199f6ff5"
      },
      "source": [
        "plt.figure(figsize=(20,10))\n",
        "\n",
        "plt.plot(epochs[0:600],loss[0:600],'crimson',label='Training loss',linewidth=3)\n",
        "plt.plot(epochs[0:600],val_loss[0:600],'darkgreen',label='Validation loss',linewidth=3)\n",
        "plt.title(\"training and validation loss\")\n",
        "plt.legend()\n",
        "plt.savefig(\"/content/drive/My Drive/gsr/loss_2.jpg\")\n",
        "plt.show()"
      ],
      "execution_count": 24,
      "outputs": [
        {
          "output_type": "display_data",
          "data": {
            "image/png": "[encoded data removed]",
            "text/plain": [
              "<Figure size 1440x720 with 1 Axes>"
            ]
          },
          "metadata": {
            "tags": [],
            "needs_background": "light"
          }
        }
      ]
    },
    {
      "cell_type": "code",
      "metadata": {
        "id": "WqVFyzd0ttbX",
        "colab_type": "code",
        "colab": {}
      },
      "source": [
        "model.save(\"/content/drive/My Drive/gsr/gsr_0_valance.h5\")"
      ],
      "execution_count": 25,
      "outputs": []
    },
    {
      "cell_type": "code",
      "metadata": {
        "id": "h7U-CSmot81H",
        "colab_type": "code",
        "colab": {
          "base_uri": "https://localhost:8080/",
          "height": 166
        },
        "outputId": "3152c375-38f5-40a9-bd43-362be20e2aa0"
      },
      "source": [
        "model.save(\"/content/drive/My Drive/gsr/gsr_0_valance\")"
      ],
      "execution_count": 26,
      "outputs": [
        {
          "output_type": "stream",
          "text": [
            "WARNING:tensorflow:From /usr/local/lib/python3.6/dist-packages/tensorflow/python/training/tracking/tracking.py:111: Model.state_updates (from tensorflow.python.keras.engine.training) is deprecated and will be removed in a future version.\n",
            "Instructions for updating:\n",
            "This property should not be used in TensorFlow 2.0, as updates are applied automatically.\n",
            "WARNING:tensorflow:From /usr/local/lib/python3.6/dist-packages/tensorflow/python/training/tracking/tracking.py:111: Layer.updates (from tensorflow.python.keras.engine.base_layer) is deprecated and will be removed in a future version.\n",
            "Instructions for updating:\n",
            "This property should not be used in TensorFlow 2.0, as updates are applied automatically.\n",
            "INFO:tensorflow:Assets written to: /content/drive/My Drive/gsr/gsr_0_valance/assets\n"
          ],
          "name": "stdout"
        }
      ]
    },
    {
      "cell_type": "code",
      "metadata": {
        "id": "qp4ROgfvt_dE",
        "colab_type": "code",
        "colab": {}
      },
      "source": [
        "from contextlib import redirect_stdout\n",
        "\n",
        "with open('/content/drive/My Drive/gsr/modelsummary.txt', 'w') as f:\n",
        "    with redirect_stdout(f):\n",
        "        model.summary()"
      ],
      "execution_count": 28,
      "outputs": []
    },
    {
      "cell_type": "code",
      "metadata": {
        "id": "fdEp6I7ruItQ",
        "colab_type": "code",
        "colab": {}
      },
      "source": [
        ""
      ],
      "execution_count": null,
      "outputs": []
    }
  ]
}