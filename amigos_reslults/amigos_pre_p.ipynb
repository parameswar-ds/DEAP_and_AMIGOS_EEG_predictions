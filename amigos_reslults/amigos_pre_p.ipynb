{
 "metadata": {
  "language_info": {
   "codemirror_mode": {
    "name": "ipython",
    "version": 3
   },
   "file_extension": ".py",
   "mimetype": "text/x-python",
   "name": "python",
   "nbconvert_exporter": "python",
   "pygments_lexer": "ipython3",
   "version": "3.6.8-final"
  },
  "orig_nbformat": 2,
  "kernelspec": {
   "name": "python36864bittestenvconda7e93ded060b54f408a0d32279a00c37d",
   "display_name": "Python 3.6.8 64-bit ('test_env': conda)"
  }
 },
 "nbformat": 4,
 "nbformat_minor": 2,
 "cells": [
  {
   "cell_type": "code",
   "execution_count": 3,
   "metadata": {
    "tags": []
   },
   "outputs": [
    {
     "output_type": "stream",
     "name": "stdout",
     "text": "Collecting git+https://github.com/forrestbao/pyeeg.git\n  Cloning https://github.com/forrestbao/pyeeg.git to /tmp/pip-req-build-jf8glhth\n  Running command git clone -q https://github.com/forrestbao/pyeeg.git /tmp/pip-req-build-jf8glhth\nRequirement already satisfied (use --upgrade to upgrade): pyeeg==0.4.4 from git+https://github.com/forrestbao/pyeeg.git in /home/parameswar/anaconda3/envs/test_env/lib/python3.6/site-packages/pyeeg-0.4.4-py3.6.egg\nRequirement already satisfied: numpy>=1.9.2 in /home/parameswar/anaconda3/envs/test_env/lib/python3.6/site-packages (from pyeeg==0.4.4) (1.16.4)\nBuilding wheels for collected packages: pyeeg\n  Building wheel for pyeeg (setup.py) ... \u001b[?25ldone\n\u001b[?25h  Stored in directory: /tmp/pip-ephem-wheel-cache-ig0w_yg3/wheels/2d/3f/ad/106d4fc80b61d1ea1fc18e76e7439fd98aa043d83d58eae741\nSuccessfully built pyeeg\n"
    }
   ],
   "source": [
    "!pip install git+https://github.com/forrestbao/pyeeg.git\n"
   ]
  },
  {
   "cell_type": "code",
   "execution_count": 4,
   "metadata": {},
   "outputs": [],
   "source": [
    "\n",
    "import numpy as np\n",
    "\n",
    "import pickle as pickle\n",
    "import pandas as pd\n",
    "import pyeeg as pe"
   ]
  },
  {
   "cell_type": "code",
   "execution_count": 13,
   "metadata": {},
   "outputs": [],
   "source": [
    "# channel = [1,2,3,4,5,6,7,8,9,10,11,12,13,14] #14 Channels chosen to fit Emotiv Epoch+\n",
    "# channel_amigos=[17]\n",
    "# channel_deap=[37]\n",
    "channel=[[16],[36]]\n",
    "band = [4,8,12,16,25,45] #5 bands\n",
    "window_size = 256 #Averaging band power of 2 sec\n",
    "step_size = 16 #Each 0.125 sec update once\n",
    "sample_rate = 70 #Sampling rate of 128 Hz\n",
    "subjectList = ['1','2','3','4','5']"
   ]
  },
  {
   "cell_type": "code",
   "execution_count": 14,
   "metadata": {},
   "outputs": [],
   "source": [
    "\n",
    "from sklearn.preprocessing import normalize"
   ]
  },
  {
   "cell_type": "code",
   "execution_count": 15,
   "metadata": {},
   "outputs": [],
   "source": [
    "def FFT_Processing (sub, channel, band, window_size, step_size, sample_rate):\n",
    "    '''\n",
    "    arguments:  string subject\n",
    "                list channel indice\n",
    "                list band\n",
    "                int window size for FFT\n",
    "                int step size for FFT\n",
    "                int sample rate for FFT\n",
    "    return:     void\n",
    "    '''\n",
    "    meta = []\n",
    "    for k in range(2):\n",
    "        print(\"k:\",k)\n",
    "        if k==0:\n",
    "            for i in sub:\n",
    "                print(\"i:\",i)\n",
    "                l=pd.read_csv(f\"/home/parameswar/Documents/Anukai solutions/projects/DEAP project/Amigos /data_pre_p/p_{i}/labels_{i}.csv\")\n",
    "                l=np.array(l)\n",
    "                for j in range (1,21):\n",
    "                    print(\"vds:\",j)\n",
    "                    subject=pd.read_csv(f\"/home/parameswar/Documents/Anukai solutions/projects/DEAP project/Amigos /data_pre_p/p_{i}/joined_data_{str(j)}.csv\")\n",
    "                    subject=np.array(subject)\n",
    "                    subject=subject.transpose()\n",
    "                    data=subject\n",
    "                    # loop over 0-39 trails\n",
    "                    #data = subject[\"data\"][i]\n",
    "                    labels = l[j-1]\n",
    "                    start = 0;\n",
    "\n",
    "                    while start + window_size < data.shape[1]:\n",
    "                        meta_array = []\n",
    "                        meta_data = [] #meta vector for analysis\n",
    "                        for j in channel[0]:\n",
    "                            X = data[j][start : start + window_size] #Slice raw data over 2 sec, at interval of 0.125 sec\n",
    "                            Y = pe.bin_power(X, band, sample_rate) #FFT over 2 sec of channel j, in seq of theta, alpha, low beta, high beta, gamma\n",
    "                            meta_data = meta_data + list(Y[0])\n",
    "\n",
    "                        meta_array.append(np.array(meta_data))\n",
    "                        meta_array.append(labels)\n",
    "\n",
    "                        meta.append(np.array(meta_array))    \n",
    "                        start = start + step_size\n",
    "        else:\n",
    "            print(\"k:\",k)\n",
    "            with open('/home/parameswar/Documents/Anukai solutions/projects/DEAP project/data_preprocessed_python/s0' + sub + '.dat', 'rb') as file:\n",
    "                subject = pickle.load(file, encoding='latin1') #resolve the python 2 data problem by encoding : latin1\n",
    "\n",
    "                for i in range (0,39):\n",
    "                    print(\"vds_deap: \",i)\n",
    "                    # loop over 0-39 trails\n",
    "                    data = subject[\"data\"][i]\n",
    "                    # print(data.shape)\n",
    "                    # print(type(data))\n",
    "                    labels = subject[\"labels\"][i]\n",
    "                    print(type(labels))\n",
    "                    print(labels.shape)\n",
    "                    start = 0;\n",
    "\n",
    "                    while start + window_size < data.shape[1]:\n",
    "                        meta_array = []\n",
    "                        meta_data = [] #meta vector for analysis\n",
    "                        for j in channel[1]:\n",
    "                            X = data[j][start : start + window_size] #Slice raw data over 2 sec, at interval of 0.125 sec\n",
    "                            Y = pe.bin_power(X, band, sample_rate) #FFT over 2 sec of channel j, in seq of theta, alpha, low beta, high beta, gamma\n",
    "                            meta_data = meta_data + list(Y[0])\n",
    "\n",
    "                        meta_array.append(np.array(meta_data))\n",
    "                        meta_array.append(labels)\n",
    "\n",
    "                        meta.append(np.array(meta_array))    \n",
    "                        start = start + step_size               \n",
    "    meta = np.array(meta)\n",
    "    np.save('/home/parameswar/Documents/Anukai solutions/projects/DEAP project/Amigos /data_pre_p/out_2/s' + sub, meta, allow_pickle=True, fix_imports=True)"
   ]
  },
  {
   "cell_type": "code",
   "execution_count": 16,
   "metadata": {
    "tags": []
   },
   "outputs": [
    {
     "output_type": "stream",
     "name": "stdout",
     "text": "k: 0\ni: 1\nvds: 1\nvds: 2\nvds: 3\nvds: 4\nvds: 5\nvds: 6\nvds: 7\nvds: 8\nvds: 9\nvds: 10\nvds: 11\nvds: 12\nvds: 13\nvds: 14\nvds: 15\nvds: 16\nvds: 17\nvds: 18\nvds: 19\nvds: 20\nk: 1\nk: 1\nvds_deap:  0\n<class 'numpy.ndarray'>\n(4,)\nvds_deap:  1\n<class 'numpy.ndarray'>\n(4,)\nvds_deap:  2\n<class 'numpy.ndarray'>\n(4,)\nvds_deap:  3\n<class 'numpy.ndarray'>\n(4,)\nvds_deap:  4\n<class 'numpy.ndarray'>\n(4,)\nvds_deap:  5\n<class 'numpy.ndarray'>\n(4,)\nvds_deap:  6\n<class 'numpy.ndarray'>\n(4,)\nvds_deap:  7\n<class 'numpy.ndarray'>\n(4,)\nvds_deap:  8\n<class 'numpy.ndarray'>\n(4,)\nvds_deap:  9\n<class 'numpy.ndarray'>\n(4,)\nvds_deap:  10\n<class 'numpy.ndarray'>\n(4,)\nvds_deap:  11\n<class 'numpy.ndarray'>\n(4,)\nvds_deap:  12\n<class 'numpy.ndarray'>\n(4,)\nvds_deap:  13\n<class 'numpy.ndarray'>\n(4,)\nvds_deap:  14\n<class 'numpy.ndarray'>\n(4,)\nvds_deap:  15\n<class 'numpy.ndarray'>\n(4,)\nvds_deap:  16\n<class 'numpy.ndarray'>\n(4,)\nvds_deap:  17\n<class 'numpy.ndarray'>\n(4,)\nvds_deap:  18\n<class 'numpy.ndarray'>\n(4,)\nvds_deap:  19\n<class 'numpy.ndarray'>\n(4,)\nvds_deap:  20\n<class 'numpy.ndarray'>\n(4,)\nvds_deap:  21\n<class 'numpy.ndarray'>\n(4,)\nvds_deap:  22\n<class 'numpy.ndarray'>\n(4,)\nvds_deap:  23\n<class 'numpy.ndarray'>\n(4,)\nvds_deap:  24\n<class 'numpy.ndarray'>\n(4,)\nvds_deap:  25\n<class 'numpy.ndarray'>\n(4,)\nvds_deap:  26\n<class 'numpy.ndarray'>\n(4,)\nvds_deap:  27\n<class 'numpy.ndarray'>\n(4,)\nvds_deap:  28\n<class 'numpy.ndarray'>\n(4,)\nvds_deap:  29\n<class 'numpy.ndarray'>\n(4,)\nvds_deap:  30\n<class 'numpy.ndarray'>\n(4,)\nvds_deap:  31\n<class 'numpy.ndarray'>\n(4,)\nvds_deap:  32\n<class 'numpy.ndarray'>\n(4,)\nvds_deap:  33\n<class 'numpy.ndarray'>\n(4,)\nvds_deap:  34\n<class 'numpy.ndarray'>\n(4,)\nvds_deap:  35\n<class 'numpy.ndarray'>\n(4,)\nvds_deap:  36\n<class 'numpy.ndarray'>\n(4,)\nvds_deap:  37\n<class 'numpy.ndarray'>\n(4,)\nvds_deap:  38\n<class 'numpy.ndarray'>\n(4,)\nk: 0\ni: 2\nvds: 1\nvds: 2\nvds: 3\nvds: 4\nvds: 5\nvds: 6\nvds: 7\nvds: 8\nvds: 9\nvds: 10\nvds: 11\nvds: 12\nvds: 13\nvds: 14\nvds: 15\nvds: 16\nvds: 17\nvds: 18\nvds: 19\nvds: 20\nk: 1\nk: 1\nvds_deap:  0\n<class 'numpy.ndarray'>\n(4,)\nvds_deap:  1\n<class 'numpy.ndarray'>\n(4,)\nvds_deap:  2\n<class 'numpy.ndarray'>\n(4,)\nvds_deap:  3\n<class 'numpy.ndarray'>\n(4,)\nvds_deap:  4\n<class 'numpy.ndarray'>\n(4,)\nvds_deap:  5\n<class 'numpy.ndarray'>\n(4,)\nvds_deap:  6\n<class 'numpy.ndarray'>\n(4,)\nvds_deap:  7\n<class 'numpy.ndarray'>\n(4,)\nvds_deap:  8\n<class 'numpy.ndarray'>\n(4,)\nvds_deap:  9\n<class 'numpy.ndarray'>\n(4,)\nvds_deap:  10\n<class 'numpy.ndarray'>\n(4,)\nvds_deap:  11\n<class 'numpy.ndarray'>\n(4,)\nvds_deap:  12\n<class 'numpy.ndarray'>\n(4,)\nvds_deap:  13\n<class 'numpy.ndarray'>\n(4,)\nvds_deap:  14\n<class 'numpy.ndarray'>\n(4,)\nvds_deap:  15\n<class 'numpy.ndarray'>\n(4,)\nvds_deap:  16\n<class 'numpy.ndarray'>\n(4,)\nvds_deap:  17\n<class 'numpy.ndarray'>\n(4,)\nvds_deap:  18\n<class 'numpy.ndarray'>\n(4,)\nvds_deap:  19\n<class 'numpy.ndarray'>\n(4,)\nvds_deap:  20\n<class 'numpy.ndarray'>\n(4,)\nvds_deap:  21\n<class 'numpy.ndarray'>\n(4,)\nvds_deap:  22\n<class 'numpy.ndarray'>\n(4,)\nvds_deap:  23\n<class 'numpy.ndarray'>\n(4,)\nvds_deap:  24\n<class 'numpy.ndarray'>\n(4,)\nvds_deap:  25\n<class 'numpy.ndarray'>\n(4,)\nvds_deap:  26\n<class 'numpy.ndarray'>\n(4,)\nvds_deap:  27\n<class 'numpy.ndarray'>\n(4,)\nvds_deap:  28\n<class 'numpy.ndarray'>\n(4,)\nvds_deap:  29\n<class 'numpy.ndarray'>\n(4,)\nvds_deap:  30\n<class 'numpy.ndarray'>\n(4,)\nvds_deap:  31\n<class 'numpy.ndarray'>\n(4,)\nvds_deap:  32\n<class 'numpy.ndarray'>\n(4,)\nvds_deap:  33\n<class 'numpy.ndarray'>\n(4,)\nvds_deap:  34\n<class 'numpy.ndarray'>\n(4,)\nvds_deap:  35\n<class 'numpy.ndarray'>\n(4,)\nvds_deap:  36\n<class 'numpy.ndarray'>\n(4,)\nvds_deap:  37\n<class 'numpy.ndarray'>\n(4,)\nvds_deap:  38\n<class 'numpy.ndarray'>\n(4,)\nk: 0\ni: 3\nvds: 1\nvds: 2\nvds: 3\nvds: 4\nvds: 5\nvds: 6\nvds: 7\nvds: 8\nvds: 9\nvds: 10\nvds: 11\nvds: 12\nvds: 13\nvds: 14\nvds: 15\nvds: 16\nvds: 17\nvds: 18\nvds: 19\nvds: 20\nk: 1\nk: 1\nvds_deap:  0\n<class 'numpy.ndarray'>\n(4,)\nvds_deap:  1\n<class 'numpy.ndarray'>\n(4,)\nvds_deap:  2\n<class 'numpy.ndarray'>\n(4,)\nvds_deap:  3\n<class 'numpy.ndarray'>\n(4,)\nvds_deap:  4\n<class 'numpy.ndarray'>\n(4,)\nvds_deap:  5\n<class 'numpy.ndarray'>\n(4,)\nvds_deap:  6\n<class 'numpy.ndarray'>\n(4,)\nvds_deap:  7\n<class 'numpy.ndarray'>\n(4,)\nvds_deap:  8\n<class 'numpy.ndarray'>\n(4,)\nvds_deap:  9\n<class 'numpy.ndarray'>\n(4,)\nvds_deap:  10\n<class 'numpy.ndarray'>\n(4,)\nvds_deap:  11\n<class 'numpy.ndarray'>\n(4,)\nvds_deap:  12\n<class 'numpy.ndarray'>\n(4,)\nvds_deap:  13\n<class 'numpy.ndarray'>\n(4,)\nvds_deap:  14\n<class 'numpy.ndarray'>\n(4,)\nvds_deap:  15\n<class 'numpy.ndarray'>\n(4,)\nvds_deap:  16\n<class 'numpy.ndarray'>\n(4,)\nvds_deap:  17\n<class 'numpy.ndarray'>\n(4,)\nvds_deap:  18\n<class 'numpy.ndarray'>\n(4,)\nvds_deap:  19\n<class 'numpy.ndarray'>\n(4,)\nvds_deap:  20\n<class 'numpy.ndarray'>\n(4,)\nvds_deap:  21\n<class 'numpy.ndarray'>\n(4,)\nvds_deap:  22\n<class 'numpy.ndarray'>\n(4,)\nvds_deap:  23\n<class 'numpy.ndarray'>\n(4,)\nvds_deap:  24\n<class 'numpy.ndarray'>\n(4,)\nvds_deap:  25\n<class 'numpy.ndarray'>\n(4,)\nvds_deap:  26\n<class 'numpy.ndarray'>\n(4,)\nvds_deap:  27\n<class 'numpy.ndarray'>\n(4,)\nvds_deap:  28\n<class 'numpy.ndarray'>\n(4,)\nvds_deap:  29\n<class 'numpy.ndarray'>\n(4,)\nvds_deap:  30\n<class 'numpy.ndarray'>\n(4,)\nvds_deap:  31\n<class 'numpy.ndarray'>\n(4,)\nvds_deap:  32\n<class 'numpy.ndarray'>\n(4,)\nvds_deap:  33\n<class 'numpy.ndarray'>\n(4,)\nvds_deap:  34\n<class 'numpy.ndarray'>\n(4,)\nvds_deap:  35\n<class 'numpy.ndarray'>\n(4,)\nvds_deap:  36\n<class 'numpy.ndarray'>\n(4,)\nvds_deap:  37\n<class 'numpy.ndarray'>\n(4,)\nvds_deap:  38\n<class 'numpy.ndarray'>\n(4,)\nk: 0\ni: 4\nvds: 1\nvds: 2\nvds: 3\nvds: 4\nvds: 5\nvds: 6\nvds: 7\nvds: 8\nvds: 9\nvds: 10\nvds: 11\nvds: 12\nvds: 13\nvds: 14\nvds: 15\nvds: 16\nvds: 17\nvds: 18\nvds: 19\nvds: 20\nk: 1\nk: 1\nvds_deap:  0\n<class 'numpy.ndarray'>\n(4,)\nvds_deap:  1\n<class 'numpy.ndarray'>\n(4,)\nvds_deap:  2\n<class 'numpy.ndarray'>\n(4,)\nvds_deap:  3\n<class 'numpy.ndarray'>\n(4,)\nvds_deap:  4\n<class 'numpy.ndarray'>\n(4,)\nvds_deap:  5\n<class 'numpy.ndarray'>\n(4,)\nvds_deap:  6\n<class 'numpy.ndarray'>\n(4,)\nvds_deap:  7\n<class 'numpy.ndarray'>\n(4,)\nvds_deap:  8\n<class 'numpy.ndarray'>\n(4,)\nvds_deap:  9\n<class 'numpy.ndarray'>\n(4,)\nvds_deap:  10\n<class 'numpy.ndarray'>\n(4,)\nvds_deap:  11\n<class 'numpy.ndarray'>\n(4,)\nvds_deap:  12\n<class 'numpy.ndarray'>\n(4,)\nvds_deap:  13\n<class 'numpy.ndarray'>\n(4,)\nvds_deap:  14\n<class 'numpy.ndarray'>\n(4,)\nvds_deap:  15\n<class 'numpy.ndarray'>\n(4,)\nvds_deap:  16\n<class 'numpy.ndarray'>\n(4,)\nvds_deap:  17\n<class 'numpy.ndarray'>\n(4,)\nvds_deap:  18\n<class 'numpy.ndarray'>\n(4,)\nvds_deap:  19\n<class 'numpy.ndarray'>\n(4,)\nvds_deap:  20\n<class 'numpy.ndarray'>\n(4,)\nvds_deap:  21\n<class 'numpy.ndarray'>\n(4,)\nvds_deap:  22\n<class 'numpy.ndarray'>\n(4,)\nvds_deap:  23\n<class 'numpy.ndarray'>\n(4,)\nvds_deap:  24\n<class 'numpy.ndarray'>\n(4,)\nvds_deap:  25\n<class 'numpy.ndarray'>\n(4,)\nvds_deap:  26\n<class 'numpy.ndarray'>\n(4,)\nvds_deap:  27\n<class 'numpy.ndarray'>\n(4,)\nvds_deap:  28\n<class 'numpy.ndarray'>\n(4,)\nvds_deap:  29\n<class 'numpy.ndarray'>\n(4,)\nvds_deap:  30\n<class 'numpy.ndarray'>\n(4,)\nvds_deap:  31\n<class 'numpy.ndarray'>\n(4,)\nvds_deap:  32\n<class 'numpy.ndarray'>\n(4,)\nvds_deap:  33\n<class 'numpy.ndarray'>\n(4,)\nvds_deap:  34\n<class 'numpy.ndarray'>\n(4,)\nvds_deap:  35\n<class 'numpy.ndarray'>\n(4,)\nvds_deap:  36\n<class 'numpy.ndarray'>\n(4,)\nvds_deap:  37\n<class 'numpy.ndarray'>\n(4,)\nvds_deap:  38\n<class 'numpy.ndarray'>\n(4,)\nk: 0\ni: 5\nvds: 1\nvds: 2\nvds: 3\nvds: 4\nvds: 5\nvds: 6\nvds: 7\nvds: 8\nvds: 9\nvds: 10\nvds: 11\nvds: 12\nvds: 13\nvds: 14\nvds: 15\nvds: 16\nvds: 17\nvds: 18\nvds: 19\nvds: 20\nk: 1\nk: 1\nvds_deap:  0\n<class 'numpy.ndarray'>\n(4,)\nvds_deap:  1\n<class 'numpy.ndarray'>\n(4,)\nvds_deap:  2\n<class 'numpy.ndarray'>\n(4,)\nvds_deap:  3\n<class 'numpy.ndarray'>\n(4,)\nvds_deap:  4\n<class 'numpy.ndarray'>\n(4,)\nvds_deap:  5\n<class 'numpy.ndarray'>\n(4,)\nvds_deap:  6\n<class 'numpy.ndarray'>\n(4,)\nvds_deap:  7\n<class 'numpy.ndarray'>\n(4,)\nvds_deap:  8\n<class 'numpy.ndarray'>\n(4,)\nvds_deap:  9\n<class 'numpy.ndarray'>\n(4,)\nvds_deap:  10\n<class 'numpy.ndarray'>\n(4,)\nvds_deap:  11\n<class 'numpy.ndarray'>\n(4,)\nvds_deap:  12\n<class 'numpy.ndarray'>\n(4,)\nvds_deap:  13\n<class 'numpy.ndarray'>\n(4,)\nvds_deap:  14\n<class 'numpy.ndarray'>\n(4,)\nvds_deap:  15\n<class 'numpy.ndarray'>\n(4,)\nvds_deap:  16\n<class 'numpy.ndarray'>\n(4,)\nvds_deap:  17\n<class 'numpy.ndarray'>\n(4,)\nvds_deap:  18\n<class 'numpy.ndarray'>\n(4,)\nvds_deap:  19\n<class 'numpy.ndarray'>\n(4,)\nvds_deap:  20\n<class 'numpy.ndarray'>\n(4,)\nvds_deap:  21\n<class 'numpy.ndarray'>\n(4,)\nvds_deap:  22\n<class 'numpy.ndarray'>\n(4,)\nvds_deap:  23\n<class 'numpy.ndarray'>\n(4,)\nvds_deap:  24\n<class 'numpy.ndarray'>\n(4,)\nvds_deap:  25\n<class 'numpy.ndarray'>\n(4,)\nvds_deap:  26\n<class 'numpy.ndarray'>\n(4,)\nvds_deap:  27\n<class 'numpy.ndarray'>\n(4,)\nvds_deap:  28\n<class 'numpy.ndarray'>\n(4,)\nvds_deap:  29\n<class 'numpy.ndarray'>\n(4,)\nvds_deap:  30\n<class 'numpy.ndarray'>\n(4,)\nvds_deap:  31\n<class 'numpy.ndarray'>\n(4,)\nvds_deap:  32\n<class 'numpy.ndarray'>\n(4,)\nvds_deap:  33\n<class 'numpy.ndarray'>\n(4,)\nvds_deap:  34\n<class 'numpy.ndarray'>\n(4,)\nvds_deap:  35\n<class 'numpy.ndarray'>\n(4,)\nvds_deap:  36\n<class 'numpy.ndarray'>\n(4,)\nvds_deap:  37\n<class 'numpy.ndarray'>\n(4,)\nvds_deap:  38\n<class 'numpy.ndarray'>\n(4,)\n"
    }
   ],
   "source": [
    "for subjects in subjectList:\n",
    "    \n",
    "    FFT_Processing (subjects, channel, band, window_size, step_size, sample_rate)"
   ]
  },
  {
   "cell_type": "code",
   "execution_count": 17,
   "metadata": {
    "tags": []
   },
   "outputs": [
    {
     "output_type": "stream",
     "name": "stdout",
     "text": "training dataset: (301785, 5) (301785,)\ntesting dataset: (43115, 5) (43115,)\n"
    },
    {
     "output_type": "execute_result",
     "data": {
      "text/plain": "'\\nnp.save(\\'out\\\\data_validation\\', np.array(data_validation), allow_pickle=True, fix_imports=True)\\nnp.save(\\'out\\\\label_validation\\', np.array(label_validation), allow_pickle=True, fix_imports=True)\\nprint(\"validation dataset:\", np.array(data_validation).shape, np.array(label_validation).shape)\\n'"
     },
     "metadata": {},
     "execution_count": 17
    }
   ],
   "source": [
    "data_training = []\n",
    "label_training = []\n",
    "data_testing = []\n",
    "label_testing = []\n",
    "data_validation = []\n",
    "label_validation = []\n",
    "\n",
    "for subjects in subjectList:\n",
    "  \n",
    "\n",
    "    with open('/home/parameswar/Documents/Anukai solutions/projects/DEAP project/Amigos /data_pre_p/out_2/s' + subjects + '.npy', 'rb') as file:\n",
    "        sub = np.load(file,allow_pickle=True)\n",
    "        for i in range (0,sub.shape[0]):\n",
    "            if i % 8 == 0 or i % 8== 0:\n",
    "                data_testing.append(sub[i][0])\n",
    "                label_testing.append(sub[i][1])\n",
    "           \n",
    "            else:\n",
    "                data_training.append(sub[i][0])\n",
    "                label_training.append(sub[i][1])\n",
    "\n",
    "np.save('/home/parameswar/Documents/Anukai solutions/projects/DEAP project/Amigos /data_pre_p/out_2/data_training', np.array(data_training), allow_pickle=True, fix_imports=True)\n",
    "np.save('/home/parameswar/Documents/Anukai solutions/projects/DEAP project/Amigos /data_pre_p/out_2/label_training', np.array(label_training), allow_pickle=True, fix_imports=True)\n",
    "print(\"training dataset:\", np.array(data_training).shape, np.array(label_training).shape)\n",
    "\n",
    "\n",
    "np.save('/home/parameswar/Documents/Anukai solutions/projects/DEAP project/Amigos /data_pre_p/out_2/data_testing', np.array(data_testing), allow_pickle=True, fix_imports=True)\n",
    "np.save('/home/parameswar/Documents/Anukai solutions/projects/DEAP project/Amigos /data_pre_p/out_2/label_testing', np.array(label_testing), allow_pickle=True, fix_imports=True)\n",
    "print(\"testing dataset:\", np.array(data_testing).shape, np.array(label_testing).shape)\n",
    "\"\"\"\n",
    "np.save('out\\data_validation', np.array(data_validation), allow_pickle=True, fix_imports=True)\n",
    "np.save('out\\label_validation', np.array(label_validation), allow_pickle=True, fix_imports=True)\n",
    "print(\"validation dataset:\", np.array(data_validation).shape, np.array(label_validation).shape)\n",
    "\"\"\""
   ]
  },
  {
   "cell_type": "code",
   "execution_count": null,
   "metadata": {},
   "outputs": [],
   "source": []
  },
  {
   "cell_type": "code",
   "execution_count": 18,
   "metadata": {},
   "outputs": [],
   "source": [
    "data= []\n",
    "label = []\n",
    "for subjects in subjectList:\n",
    "  \n",
    "\n",
    "    with open('/home/parameswar/Documents/Anukai solutions/projects/DEAP project/Amigos /data_pre_p/out_2/s' + subjects + '.npy', 'rb') as file:\n",
    "        sub = np.load(file,allow_pickle=True)\n",
    "        for i in range (0,sub.shape[0]):\n",
    "          data.append(sub[i][0])\n",
    "          label.append(sub[i][1])\n",
    "np.save('/home/parameswar/Documents/Anukai solutions/projects/DEAP project/Amigos /data_pre_p/out_2/data', np.array(data), allow_pickle=True, fix_imports=True)\n",
    "np.save('/home/parameswar/Documents/Anukai solutions/projects/DEAP project/Amigos /data_pre_p/out_2/label', np.array(label), allow_pickle=True, fix_imports=True)"
   ]
  },
  {
   "cell_type": "code",
   "execution_count": 19,
   "metadata": {},
   "outputs": [],
   "source": [
    "df=pd.DataFrame(data=data)\n",
    "df.to_csv(\"/home/parameswar/Documents/Anukai solutions/projects/DEAP project/Amigos /data_pre_p/out_2/data.csv\",index=False)\n",
    "\n",
    "df1=pd.DataFrame(data=label)\n",
    "df1.to_csv(\"/home/parameswar/Documents/Anukai solutions/projects/DEAP project/Amigos /data_pre_p/out_2/label.csv\",index=False)"
   ]
  },
  {
   "cell_type": "code",
   "execution_count": 20,
   "metadata": {},
   "outputs": [],
   "source": [
    "data1=pd.read_csv(\"/home/parameswar/Documents/Anukai solutions/projects/DEAP project/Amigos /data_pre_p/out/data.csv\")\n"
   ]
  },
  {
   "cell_type": "code",
   "execution_count": 21,
   "metadata": {},
   "outputs": [
    {
     "output_type": "execute_result",
     "data": {
      "text/plain": "<bound method NDFrame.head of                   0            1            2            3            4  \\\n0       3946.103897  1616.149511  1272.517343  2728.857848   426.426366   \n1       4135.542657  1716.972803  1332.234992  2743.868254   368.915915   \n2       4187.422478  1795.339537  1302.650782  2546.820071   604.475360   \n3       4066.914775  1692.590807  1372.271655  2546.798570   618.754143   \n4       4091.718009  1696.354564  1361.238267  2392.954428   367.400507   \n5       4100.997919  1750.324412  1214.881367  2566.230530   907.546160   \n6       4291.152237  1885.124989  1422.883741  2698.623642  1092.579520   \n7       3710.182444  2161.000614  1434.416997  2816.029864  1935.800498   \n8       3589.971281  1578.737076  1280.936041  2676.085571   819.875446   \n9       3596.596602  1654.640780  1265.515631  2686.734606   392.072437   \n10      3682.197391  1483.866364  1356.736793  2591.464540  1668.156617   \n11      4372.999005  1560.699182  1241.114921  2568.406881  1653.125084   \n12      3649.854774  1684.316503  1391.313537  2431.362584   564.225837   \n13      3351.280223  1363.644051  1128.788294  2343.699824   779.482368   \n14      3290.956300  1313.652317  1051.260401  2311.851476   827.907867   \n15      3254.967704  1337.951656  1114.452193  2263.207640   485.937753   \n16      3428.723356  1282.748436  1056.412220  2185.657971   542.096658   \n17      2883.534416  1195.404912   928.977193  2381.804648  1207.275587   \n18      2658.665552  1183.872850   916.349460  2214.878433   550.139161   \n19      2593.881243  1183.897086   985.841023  2442.808732   462.256982   \n20      2560.310860  1231.223127   962.875373  2466.499108  1359.159664   \n21      2378.432748  1204.194962  1034.575212  2463.856096   606.223441   \n22      2252.690476  1185.216938   777.480697  2349.778639   675.870251   \n23      2199.967481  1232.612809   941.510434  2451.504048   657.832938   \n24      2244.555836  1271.499764   869.968271  2387.197636   615.955312   \n25      2158.951633  1209.616687   958.793834  2260.401861   695.280841   \n26      2928.485558  1614.322312  1188.127255  2420.628775  1971.574184   \n27      2062.172238  1590.682148  1246.567476  2676.064370  1663.535890   \n28      1670.795079  1172.071379  1161.012837  2750.487196   498.420921   \n29      1828.187527  1382.791897  1172.481346  2715.694418   502.120417   \n...             ...          ...          ...          ...          ...   \n249710  4432.397838  1830.510547  1408.271122  2473.438376   890.478552   \n249711  4677.887840  1883.108955  1401.817692  2670.784301   582.824077   \n249712  4519.774745  1832.908771  1461.641775  2683.319073   673.817251   \n249713  7069.156089  2957.590586  1525.362966  3293.046343  3001.321163   \n249714  5976.793477  1960.878069  1501.792433  2626.680939   976.943132   \n249715  6036.195784  1961.298597  1502.889646  2602.781596   626.349310   \n249716  6003.086221  1931.896444  1498.336321  2586.760888   719.344084   \n249717  6029.940734  2243.164213  1451.652009  2570.724881  1323.628092   \n249718  5962.085772  2022.487921  1428.657896  2486.759759   880.909031   \n249719  5959.915840  2229.809706  1518.304662  2717.289868   783.673876   \n249720  6043.649923  2278.405148  1461.799616  2803.547513  1546.005829   \n249721  6036.822148  2231.914593  1479.096860  2706.451236   522.942703   \n249722  5970.479950  2238.826418  1341.623017  2652.508328   735.473745   \n249723  5134.362016  1749.486155  1255.414193  2350.399579   535.987599   \n249724  4927.560096  1630.632011  1229.764007  2360.426359   493.783008   \n249725  4885.135596  1659.065659  1241.586959  2331.438798   809.218156   \n249726  5095.642845  1773.203186  1152.171597  2610.716153  1356.237918   \n249727  4789.711159  1656.106318  1063.644052  2145.704345   832.610229   \n249728  4544.446074  1814.776750  1078.788674  2333.877619  1048.492140   \n249729  4339.543096  2372.458777  1572.584072  3248.629419  4492.710469   \n249730  1966.411413  1396.061257  1164.273702  1914.495054   523.870292   \n249731  2046.927842  1350.666804  1148.499277  1894.654348   863.829183   \n249732  1982.317110  1376.287804  1164.845340  1938.935470   315.697439   \n249733  2065.075190  1350.041037  1160.830956  1959.034711   542.724479   \n249734  1772.352736  1062.030318  1017.647048  2009.052445  1168.474716   \n249735  1633.344368   690.956504   940.594580  1685.792809   316.570191   \n249736  1494.848982   646.581079   925.506201  1689.242634   361.546806   \n249737  1465.672684   673.598336   959.206254  1810.617115   532.395984   \n249738  1629.295362   920.426370  1051.131386  1743.125898   397.816457   \n249739  1586.449152   770.811130  1087.305115  1803.740124   803.049377   \n\n                  5            6            7            8            9  ...  \\\n0       2656.193321  1051.244420  1174.100666  1865.745778   339.070057  ...   \n1       2686.386444  1058.911796  1222.245445  1867.527735   481.908498  ...   \n2       2688.449235  1034.808682  1166.226595  1960.982356   839.282872  ...   \n3       2673.615299  1008.220989  1093.370784  1946.609329   419.428213  ...   \n4       2695.267036  1028.468964  1079.745205  1944.212312   501.696021  ...   \n5       2496.054411  1067.642737  1009.721762  1999.700725   370.618462  ...   \n6       2669.543592  1056.221066  1028.808868  2070.402644  1541.303499  ...   \n7       1955.108234  1502.269062  1201.794827  1992.088201  1391.451163  ...   \n8       1592.486357   953.954032  1097.602527  1943.377505   382.448822  ...   \n9       1514.896781   946.708832  1223.028710  1932.819807   716.710564  ...   \n10      1670.948641   886.177085  1026.357638  1830.388786   785.996179  ...   \n11      2296.890139   992.122530  1066.405244  1979.220685  1314.554236  ...   \n12      1837.477845   965.296507   960.498097  1682.592240   350.518320  ...   \n13      1504.352938   992.600387   973.868013  1673.330412   664.962410  ...   \n14      1507.395157   988.809775   951.467428  1688.234549   374.330899  ...   \n15      1534.815452  1002.991836   973.323993  1750.436844   426.251475  ...   \n16      1496.068367  1018.044194   887.108247  1847.033203   492.052728  ...   \n17      1496.421803  1031.235915   906.233823  1770.863953   329.390085  ...   \n18      1538.187140  1054.628580   994.692123  1651.927724   614.196850  ...   \n19      1513.523710  1020.974404  1047.156519  1621.659498   378.401452  ...   \n20      1464.298145   962.334218  1043.796060  1759.947232  1133.019735  ...   \n21      1530.989136   948.572262  1087.007127  1564.177651   341.692481  ...   \n22      1525.534243  1011.452778  1156.974959  1575.266676   390.361005  ...   \n23      1504.503673   990.144734  1154.295104  1624.802962   410.154989  ...   \n24      1632.824193   957.921627  1155.567168  1677.925577   481.083844  ...   \n25      1619.074612  1045.510607  1132.788429  1698.039233   748.436156  ...   \n26      1628.662147   975.550650  1177.563041  1745.142861   315.821911  ...   \n27      1297.796107  1107.380449  1161.035683  1771.590385   811.661424  ...   \n28      1142.918725   818.901053  1165.321855  1752.697793   631.735517  ...   \n29      1155.220230   838.397000  1176.345740  1778.294438   493.255712  ...   \n...             ...          ...          ...          ...          ...  ...   \n249710  1606.592048  1180.832972  1033.228241  1601.967165   400.068587  ...   \n249711  1455.979864  1061.709962   934.079052  1577.956087   349.960592  ...   \n249712  1404.080249  1105.317197   947.242228  1721.187926   788.593178  ...   \n249713  2311.348890  1435.018097   882.487937  1536.551758   918.203751  ...   \n249714  1970.072303  1251.410253   914.521591  1645.468164   325.660336  ...   \n249715  1944.883276  1266.185613   908.387978  1666.382709   301.262779  ...   \n249716  1943.030518  1212.841161   971.325059  1679.461762   608.731506  ...   \n249717  1934.404199  1191.799011   898.270254  1715.162246   306.642777  ...   \n249718  2032.557296  1162.572652   941.982631  1624.409502   347.833550  ...   \n249719  2077.098400  1208.243330  1000.635059  1684.685468   833.051690  ...   \n249720  2144.155186  1157.907860  1069.515946  1693.098712   383.351197  ...   \n249721  2072.181669  1087.361049  1005.304197  1779.422122   359.685433  ...   \n249722  2135.245205  1181.908329  1077.523213  1809.238914   414.128327  ...   \n249723  2114.034003  1051.896876  1209.074501  1915.733774   478.354905  ...   \n249724  2083.382983   936.283496  1322.435135  2011.695996   343.050513  ...   \n249725  2022.308301  1010.203414  1320.778734  1988.599863   650.970567  ...   \n249726  1997.581001   974.040182  1384.481850  2109.656417   744.995163  ...   \n249727  1936.257376   970.909375  1473.120588  2208.926352   413.472276  ...   \n249728  1995.533856   988.375993  1556.246322  2134.891851   409.743393  ...   \n249729  1645.741925  1017.074324  1638.840847  2225.460225  1175.717147  ...   \n249730  1296.876552  1058.623380  1597.067896  2174.456641   414.688115  ...   \n249731  1320.545574   981.051398  1644.328359  2191.331047   387.416166  ...   \n249732  1227.546066  1009.244963  1691.372957  2194.786022   394.560010  ...   \n249733  1340.643621   989.403070  1677.786462  2153.424788   478.172597  ...   \n249734  1280.130961   983.208293  1686.871671  2176.610613   546.229780  ...   \n249735  1361.471071   979.422368  1567.465259  2244.017606   659.943309  ...   \n249736  1385.660868  1026.049457  1526.972371  2235.032776   571.290792  ...   \n249737  1342.075027  1230.047886  1434.014622  2184.027093   450.966355  ...   \n249738  1447.884276  1214.785235  1587.342305  2144.631539   812.688461  ...   \n249739  1793.772873  1072.820297  1657.890367  2187.626672   393.444710  ...   \n\n                  60           61           62            63            64  \\\n0       22409.188013  4452.815820  3946.294972   6163.963173   1588.227893   \n1       21888.549183  4702.662498  3837.506418   6843.532265   4839.138843   \n2       22009.152242  4475.176159  3463.936159   6009.247024   1280.492612   \n3       22077.031082  4319.128814  3612.345386   5681.779302   1313.965337   \n4       22393.537487  4043.896207  3212.078921   5664.090076   2400.940897   \n5       20116.601825  3905.746753  4111.446277   6001.986066   3706.139380   \n6       18722.447362  4313.794003  3752.283582   7426.573282   7055.554020   \n7       17726.440428  9726.108540  6208.758841  10904.558825  18542.823042   \n8        4466.238171  2748.444694  2797.656936   4685.163424   2191.406220   \n9        4359.018416  2889.709888  2793.301151   4700.146711   2651.472337   \n10       9402.509260  6659.272255  5007.410311   6714.480270  10194.635106   \n11      26409.806453  5928.263835  5795.384634   8855.385532  13574.407624   \n12      16267.389223  4849.163654  3857.587792   4905.698511   1637.704768   \n13      16557.093648  5225.809063  3945.012010   6117.870182   5583.472484   \n14      16313.283562  4725.936410  4022.602593   5444.518182    626.440939   \n15      16302.388245  4881.305728  4027.451351   5570.099705   2843.555640   \n16      16402.355793  4767.772373  4011.156766   4844.693875    777.831917   \n17      16293.081756  4622.832578  4018.898725   4789.070475    861.933672   \n18      16167.744980  4818.252031  3972.941100   4938.853770    624.706103   \n19      16193.859635  4840.976799  3779.580317   5348.046699    701.423696   \n20      16181.041727  5001.086792  4031.743354   5709.600825   1558.119757   \n21      16037.042057  5085.997033  3868.968009   5592.736855   1318.857935   \n22      16024.884373  4748.885535  4063.601256   5720.705256   1474.875126   \n23      16115.502045  4689.079592  4123.707185   6726.516559   1798.843552   \n24      15917.397714  4758.032275  4397.862569   6664.204384   2812.636405   \n25      16706.043952  4588.558220  4501.426743   6459.151897   2345.250288   \n26      20619.497372  4000.853850  4150.582931   7832.517222   9932.575870   \n27      10702.110036  6645.701715  5584.049946  10313.035612  11973.144904   \n28       2887.214008  2451.766029  4252.940812   6653.978106   3220.011779   \n29       2330.104913  2652.976038  4497.339771   6383.408060   2655.352734   \n...              ...          ...          ...           ...           ...   \n249710   3819.901674  1316.948214  1608.639949   3023.429231    652.759187   \n249711   3808.658047  1350.482152  1570.573642   3296.151076   1503.144983   \n249712   3838.789550  1358.217714  1592.045431   3189.013859   1118.730053   \n249713   5300.438266  1759.906024  1605.331557   3090.235496   1251.168963   \n249714   4202.026269  1676.021943  1952.480860   3254.438500   1732.077010   \n249715   4286.391718  1496.616093  1919.996402   2894.685643    677.790275   \n249716   4207.560166  1579.251776  1893.410868   2951.938189   2035.351977   \n249717   4153.853228  1629.743619  2020.106072   3164.206945    942.600494   \n249718   3162.961266  1726.605060  2149.854763   3115.877814   1305.541270   \n249719   3444.227481  1868.328373  2195.526655   3134.194203   1434.103220   \n249720   3812.709286  1888.115041  2352.633319   2908.189732   1182.254954   \n249721   3208.611845  2190.989306  2446.909038   3142.919693   2282.171917   \n249722   3271.441173  1926.939974  2472.465219   3226.014756   1762.783698   \n249723   3011.833128  1758.462142  2666.612165   3016.546033    704.986301   \n249724   3008.529014  1756.180127  2836.281330   3030.138734    770.885354   \n249725   2881.212372  2036.502149  2765.115120   3399.531438    732.744205   \n249726   2804.584647  2004.621646  2784.134675   3367.850050    579.387773   \n249727   2862.985553  1970.703890  2610.985642   3294.421063    594.540806   \n249728   2866.781880  2488.675085  2510.986446   3142.169611   1376.331804   \n249729   3647.815063  3220.798467  2718.363544   3390.771245   2240.598869   \n249730   1596.258554  2450.657724  2297.287356   3241.752659   1534.215187   \n249731   1624.637732  2450.338204  2329.248266   3109.142420    610.955489   \n249732   1575.934154  2569.496509  2376.428157   3280.651194    820.035807   \n249733   1613.214449  2412.096337  2333.213959   3381.718483    968.889034   \n249734   1712.991112  2370.092001  2305.796975   3306.951224    573.941585   \n249735   1831.984871  2295.570482  2122.316977   3442.478362   1081.739748   \n249736   1580.728666  2350.093252  2243.412215   3433.266452    575.802158   \n249737   1629.164083  2346.242213  2330.670411   3391.265296    505.911830   \n249738   1643.018372  2298.207843  2360.111069   3284.893467   1016.843091   \n249739   2480.059596  2466.685247  2285.074897   3270.815090    548.152100   \n\n                  65            66           67            68            69  \n0       15499.049036   8128.166394  5700.094370   5143.691760   5200.306153  \n1       16213.800514   9272.650730  6078.468146   5795.497128   5812.323317  \n2       19394.215264  12217.768951  7983.102342   5580.759740   6018.606096  \n3       19315.671669  11696.312167  7888.172793   5724.001597   5500.731819  \n4       19651.036372  11414.450674  7690.238737   5699.737424   5389.198831  \n5       17206.677654   9380.018772  6682.260064   5726.432823   6945.621604  \n6       16473.585367   9508.242612  6590.534234   4820.251493   2565.422411  \n7       16473.041982   9462.499769  6571.313231   4685.244711   2107.941863  \n8       19255.784096  12087.384911  7891.890559   5514.221020   1274.091052  \n9       19457.582711  11973.153676  7987.467653   5348.256612    664.775838  \n10      19535.326114  11958.210491  7921.392608   5329.851016    892.844220  \n11      16320.441344  10293.717929  6452.048241   5128.736000   4019.706357  \n12      16730.485349   9867.646917  6337.479213   5453.027826   4776.357911  \n13      16796.956944   9931.537156  6582.848580   5452.283611   4815.135926  \n14      17904.275045  12066.100800  9597.686154  12877.622144  17736.116235  \n15      19427.158741  11767.634009  7607.361875   6209.378769   6001.257479  \n16      18995.979608  11570.827971  7202.374356   6197.507823   6677.975058  \n17      15623.487706   9757.562793  8087.582705   7632.340999   6746.312230  \n18      16336.048356   9539.934274  6245.297663   6097.800330   6861.729105  \n19      16134.463608   9169.866684  6058.804721   6184.084501   6408.558323  \n20      16200.585490   8502.334022  6817.573208   5242.365283   5965.628284  \n21      17167.945514  10264.479454  7793.153870   6147.717986   5954.504788  \n22      17898.740440  10354.952656  7436.386697   6153.369529   4405.682578  \n23      18823.145182   9838.318989  7610.217079   5636.955120   2920.603223  \n24      15491.564471   8379.181559  6093.884962   4844.662210   4337.964817  \n25      14968.886363   8223.838747  6010.618030   5065.576740   1945.243969  \n26      14984.950633   8249.140761  5970.169002   5185.835791    697.890124  \n27      19548.149211  11455.619876  7603.734784   6182.063173   2549.498497  \n28      19389.128201  11523.796966  7670.279416   6143.028720   1186.563254  \n29      19407.070391  11511.957647  7676.179517   6198.852293    683.020471  \n...              ...           ...          ...           ...           ...  \n249710   2767.360457   1850.061484  1441.525313   1355.161135    287.059074  \n249711   3099.843218   2098.336686  2009.103756   1523.935930    606.730269  \n249712   3301.256419   2108.570498  1961.246019   1521.625868    382.224701  \n249713   2786.868286   1966.473274  1488.513469   1286.167392    349.433958  \n249714   2867.598401   1970.600550  1553.004554   1290.254570    866.002592  \n249715   2861.085990   1991.244300  1475.686370   1366.772611    359.902402  \n249716   2846.608271   2009.252642  1462.874330   1381.909105    260.532392  \n249717   2788.243021   2046.837363  1452.622367   1417.864019    351.023576  \n249718   3564.678199   2476.570793  1659.928513   1550.654471    276.760890  \n249719   3562.051776   2428.240682  1727.327062   1605.551316    523.682518  \n249720   3184.791620   2024.405110  1559.290076   1349.059482    487.696691  \n249721   3214.273856   2033.142203  1598.077044   1388.750339   1000.496550  \n249722   3085.759376   1967.327390  1562.044582   1356.948494    276.362130  \n249723   3085.618533   1955.554817  1582.198830   1353.603704    242.608800  \n249724   3117.889420   1989.997291  1595.713279   1335.409653    405.063346  \n249725   3634.609580   2345.613228  1990.022790   1472.170382    549.091162  \n249726   3700.691031   2388.883475  2004.577915   1484.753377   1027.137830  \n249727   3290.966210   2074.233133  1731.578285   1257.733695    327.980681  \n249728   3237.844566   2092.730927  1687.134032   1264.910981    634.693964  \n249729   3215.037349   2110.821623  1689.449402   1216.813367    559.478203  \n249730   3226.848101   2067.067329  1741.007573   1246.567588    271.398091  \n249731   3749.290570   2140.441870  2192.894289   1577.992776    310.809447  \n249732   3855.113176   2191.575070  2175.959646   1494.788607    407.063489  \n249733   4060.571566   2229.360394  2087.616210   1520.620961    422.849520  \n249734   3154.561453   2155.190217  1634.718482   1400.963833    325.748371  \n249735   3140.420261   2132.369242  1625.205481   1411.331531    715.453037  \n249736   3056.661850   2110.548211  1646.986841   1414.335879    427.615946  \n249737   3070.686773   2106.222800  1622.010443   1431.235758    367.557139  \n249738   3840.482008   2569.055351  1805.057681   1576.282629    312.632971  \n249739   3799.950329   2768.279842  1729.350409   1689.832680   1219.761729  \n\n[249740 rows x 70 columns]>"
     },
     "metadata": {},
     "execution_count": 21
    }
   ],
   "source": [
    "data1.head"
   ]
  },
  {
   "cell_type": "code",
   "execution_count": 22,
   "metadata": {},
   "outputs": [
    {
     "output_type": "execute_result",
     "data": {
      "text/plain": "          0    1         2    3    4    5    6    7    8    9   10   11\n0  2.938568  5.0  8.235496  1.0  1.0  1.0  0.0  0.0  0.0  0.0  0.0  0.0\n1  2.938568  5.0  8.235496  1.0  1.0  1.0  0.0  0.0  0.0  0.0  0.0  0.0\n2  2.938568  5.0  8.235496  1.0  1.0  1.0  0.0  0.0  0.0  0.0  0.0  0.0\n3  2.938568  5.0  8.235496  1.0  1.0  1.0  0.0  0.0  0.0  0.0  0.0  0.0\n4  2.938568  5.0  8.235496  1.0  1.0  1.0  0.0  0.0  0.0  0.0  0.0  0.0",
      "text/html": "<div>\n<style scoped>\n    .dataframe tbody tr th:only-of-type {\n        vertical-align: middle;\n    }\n\n    .dataframe tbody tr th {\n        vertical-align: top;\n    }\n\n    .dataframe thead th {\n        text-align: right;\n    }\n</style>\n<table border=\"1\" class=\"dataframe\">\n  <thead>\n    <tr style=\"text-align: right;\">\n      <th></th>\n      <th>0</th>\n      <th>1</th>\n      <th>2</th>\n      <th>3</th>\n      <th>4</th>\n      <th>5</th>\n      <th>6</th>\n      <th>7</th>\n      <th>8</th>\n      <th>9</th>\n      <th>10</th>\n      <th>11</th>\n    </tr>\n  </thead>\n  <tbody>\n    <tr>\n      <th>0</th>\n      <td>2.938568</td>\n      <td>5.0</td>\n      <td>8.235496</td>\n      <td>1.0</td>\n      <td>1.0</td>\n      <td>1.0</td>\n      <td>0.0</td>\n      <td>0.0</td>\n      <td>0.0</td>\n      <td>0.0</td>\n      <td>0.0</td>\n      <td>0.0</td>\n    </tr>\n    <tr>\n      <th>1</th>\n      <td>2.938568</td>\n      <td>5.0</td>\n      <td>8.235496</td>\n      <td>1.0</td>\n      <td>1.0</td>\n      <td>1.0</td>\n      <td>0.0</td>\n      <td>0.0</td>\n      <td>0.0</td>\n      <td>0.0</td>\n      <td>0.0</td>\n      <td>0.0</td>\n    </tr>\n    <tr>\n      <th>2</th>\n      <td>2.938568</td>\n      <td>5.0</td>\n      <td>8.235496</td>\n      <td>1.0</td>\n      <td>1.0</td>\n      <td>1.0</td>\n      <td>0.0</td>\n      <td>0.0</td>\n      <td>0.0</td>\n      <td>0.0</td>\n      <td>0.0</td>\n      <td>0.0</td>\n    </tr>\n    <tr>\n      <th>3</th>\n      <td>2.938568</td>\n      <td>5.0</td>\n      <td>8.235496</td>\n      <td>1.0</td>\n      <td>1.0</td>\n      <td>1.0</td>\n      <td>0.0</td>\n      <td>0.0</td>\n      <td>0.0</td>\n      <td>0.0</td>\n      <td>0.0</td>\n      <td>0.0</td>\n    </tr>\n    <tr>\n      <th>4</th>\n      <td>2.938568</td>\n      <td>5.0</td>\n      <td>8.235496</td>\n      <td>1.0</td>\n      <td>1.0</td>\n      <td>1.0</td>\n      <td>0.0</td>\n      <td>0.0</td>\n      <td>0.0</td>\n      <td>0.0</td>\n      <td>0.0</td>\n      <td>0.0</td>\n    </tr>\n  </tbody>\n</table>\n</div>"
     },
     "metadata": {},
     "execution_count": 22
    }
   ],
   "source": [
    "label1=pd.read_csv(\"/home/parameswar/Documents/Anukai solutions/projects/DEAP project/Amigos /data_pre_p/out/label.csv\")\n",
    "label1.head()"
   ]
  },
  {
   "cell_type": "code",
   "execution_count": null,
   "metadata": {},
   "outputs": [],
   "source": []
  },
  {
   "cell_type": "code",
   "execution_count": 32,
   "metadata": {},
   "outputs": [
    {
     "output_type": "execute_result",
     "data": {
      "text/plain": "(249740, 12)"
     },
     "metadata": {},
     "execution_count": 32
    }
   ],
   "source": [
    "label1.shape"
   ]
  },
  {
   "cell_type": "code",
   "execution_count": null,
   "metadata": {},
   "outputs": [],
   "source": []
  }
 ]
}